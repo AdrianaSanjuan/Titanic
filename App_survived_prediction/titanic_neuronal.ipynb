{
 "cells": [
  {
   "cell_type": "code",
   "execution_count": 1,
   "metadata": {},
   "outputs": [
    {
     "name": "stdout",
     "output_type": "stream",
     "text": [
      "WARNING:tensorflow:From c:\\Users\\Adriana Sanjuán\\AppData\\Local\\Programs\\Python\\Python310\\lib\\site-packages\\keras\\src\\losses.py:2976: The name tf.losses.sparse_softmax_cross_entropy is deprecated. Please use tf.compat.v1.losses.sparse_softmax_cross_entropy instead.\n",
      "\n"
     ]
    }
   ],
   "source": [
    "import numpy as np\n",
    "import tensorflow as tf\n",
    "from tensorflow.keras import layers, models\n",
    "from tensorflow.keras.utils import to_categorical\n",
    "import matplotlib.pyplot as plt\n",
    "import pandas as pd"
   ]
  },
  {
   "cell_type": "code",
   "execution_count": 2,
   "metadata": {},
   "outputs": [],
   "source": [
    "from sklearn.model_selection import train_test_split\n",
    "from sklearn.preprocessing import StandardScaler"
   ]
  },
  {
   "cell_type": "code",
   "execution_count": 3,
   "metadata": {},
   "outputs": [],
   "source": [
    "import seaborn as sns   "
   ]
  },
  {
   "cell_type": "code",
   "execution_count": 4,
   "metadata": {},
   "outputs": [],
   "source": [
    "#hoy vamos a practicar con tensorflow y redes neeuronales"
   ]
  },
  {
   "cell_type": "code",
   "execution_count": 5,
   "metadata": {},
   "outputs": [],
   "source": [
    "titanic = sns.load_dataset('titanic')\n",
    "titanic = titanic[['survived', 'pclass', 'sex', 'age', 'fare', 'embarked']]\n",
    "titanic = titanic.dropna()\n",
    "\n",
    "# Convertir variables categóricas en numéricas\n",
    "titanic['sex'] = titanic['sex'].map({'male': 0, 'female': 1})\n",
    "titanic['embarked'] = titanic['embarked'].map({'C': 0, 'Q': 1, 'S': 2})\n",
    "\n"
   ]
  },
  {
   "cell_type": "code",
   "execution_count": 6,
   "metadata": {},
   "outputs": [
    {
     "data": {
      "text/html": [
       "<div>\n",
       "<style scoped>\n",
       "    .dataframe tbody tr th:only-of-type {\n",
       "        vertical-align: middle;\n",
       "    }\n",
       "\n",
       "    .dataframe tbody tr th {\n",
       "        vertical-align: top;\n",
       "    }\n",
       "\n",
       "    .dataframe thead th {\n",
       "        text-align: right;\n",
       "    }\n",
       "</style>\n",
       "<table border=\"1\" class=\"dataframe\">\n",
       "  <thead>\n",
       "    <tr style=\"text-align: right;\">\n",
       "      <th></th>\n",
       "      <th>survived</th>\n",
       "      <th>pclass</th>\n",
       "      <th>sex</th>\n",
       "      <th>age</th>\n",
       "      <th>fare</th>\n",
       "      <th>embarked</th>\n",
       "    </tr>\n",
       "  </thead>\n",
       "  <tbody>\n",
       "    <tr>\n",
       "      <th>0</th>\n",
       "      <td>0</td>\n",
       "      <td>3</td>\n",
       "      <td>0</td>\n",
       "      <td>22.0</td>\n",
       "      <td>7.25</td>\n",
       "      <td>2</td>\n",
       "    </tr>\n",
       "  </tbody>\n",
       "</table>\n",
       "</div>"
      ],
      "text/plain": [
       "   survived  pclass  sex   age  fare  embarked\n",
       "0         0       3    0  22.0  7.25         2"
      ]
     },
     "execution_count": 6,
     "metadata": {},
     "output_type": "execute_result"
    }
   ],
   "source": [
    "titanic.head(1)"
   ]
  },
  {
   "cell_type": "code",
   "execution_count": 7,
   "metadata": {},
   "outputs": [],
   "source": [
    "# Separar características (X) y etiquetas (Y)\n",
    "X = titanic.drop('survived', axis=1).values\n",
    "Y = titanic['survived'].values.reshape(-1, 1)\n",
    "\n",
    "# Dividir en conjunto de entrenamiento y de prueba\n",
    "X_train, X_test, Y_train, Y_test = train_test_split(X, Y, test_size=0.2, random_state=42)\n",
    "\n",
    "# Estandarizar los datos\n",
    "scaler = StandardScaler()\n",
    "X_train = scaler.fit_transform(X_train)\n",
    "X_test = scaler.transform(X_test)"
   ]
  },
  {
   "cell_type": "code",
   "execution_count": 8,
   "metadata": {},
   "outputs": [
    {
     "name": "stdout",
     "output_type": "stream",
     "text": [
      "WARNING:tensorflow:From c:\\Users\\Adriana Sanjuán\\AppData\\Local\\Programs\\Python\\Python310\\lib\\site-packages\\keras\\src\\backend.py:873: The name tf.get_default_graph is deprecated. Please use tf.compat.v1.get_default_graph instead.\n",
      "\n",
      "WARNING:tensorflow:From c:\\Users\\Adriana Sanjuán\\AppData\\Local\\Programs\\Python\\Python310\\lib\\site-packages\\keras\\src\\backend.py:6642: The name tf.nn.max_pool is deprecated. Please use tf.nn.max_pool2d instead.\n",
      "\n"
     ]
    }
   ],
   "source": [
    "# Crear el modelo\n",
    "model = models.Sequential([\n",
    "    # Capa de entrada\n",
    "    layers.Dense(32, activation='relu', input_shape=(5,)),\n",
    "    # Capa oculta\n",
    "    layers.Dense(64, activation='relu'),\n",
    "    # Capa oculta adicional\n",
    "    layers.Dense(128, activation='relu'),\n",
    "    # Añadir una dimensión adicional\n",
    "    layers.Reshape((128, 1)),  \n",
    "    # Añadir una capa MaxPooling\n",
    "    layers.MaxPooling1D(2),\n",
    "    # Aplanar de nuevo para la siguiente capa densa\n",
    "    layers.Flatten(),   \n",
    "    # Capa oculta adicional\n",
    "    layers.Dense(256, activation='relu'),\n",
    "    # Añadir Dropout para regularización\n",
    "    layers.Dropout(0.5), \n",
    "    # Capa oculta adicional\n",
    "    layers.Dense(512, activation='relu'),\n",
    "    # Capa de salida\n",
    "    layers.Dense(1, activation='sigmoid')\n",
    "])\n",
    "\n",
    "# Compilar el modelo con un optimizador con una tasa de aprendizaje más baja\n",
    "opt = tf.keras.optimizers.Adam(learning_rate=0.0001)\n",
    "model.compile(optimizer=opt,\n",
    "              loss='binary_crossentropy',\n",
    "              metrics=['accuracy'])\n",
    "\n"
   ]
  },
  {
   "cell_type": "code",
   "execution_count": 9,
   "metadata": {},
   "outputs": [
    {
     "name": "stdout",
     "output_type": "stream",
     "text": [
      "Epoch 1/70\n",
      "WARNING:tensorflow:From c:\\Users\\Adriana Sanjuán\\AppData\\Local\\Programs\\Python\\Python310\\lib\\site-packages\\keras\\src\\utils\\tf_utils.py:492: The name tf.ragged.RaggedTensorValue is deprecated. Please use tf.compat.v1.ragged.RaggedTensorValue instead.\n",
      "\n",
      "WARNING:tensorflow:From c:\\Users\\Adriana Sanjuán\\AppData\\Local\\Programs\\Python\\Python310\\lib\\site-packages\\keras\\src\\engine\\base_layer_utils.py:384: The name tf.executing_eagerly_outside_functions is deprecated. Please use tf.compat.v1.executing_eagerly_outside_functions instead.\n",
      "\n",
      "23/23 [==============================] - 1s 4ms/step - loss: 0.6675 - accuracy: 0.6327\n",
      "Epoch 2/70\n",
      "23/23 [==============================] - 0s 4ms/step - loss: 0.6291 - accuracy: 0.6380\n",
      "Epoch 3/70\n",
      "23/23 [==============================] - 0s 4ms/step - loss: 0.5887 - accuracy: 0.6714\n",
      "Epoch 4/70\n",
      "23/23 [==============================] - 0s 4ms/step - loss: 0.5487 - accuracy: 0.7645\n",
      "Epoch 5/70\n",
      "23/23 [==============================] - 0s 4ms/step - loss: 0.5168 - accuracy: 0.7768\n",
      "Epoch 6/70\n",
      "23/23 [==============================] - 0s 3ms/step - loss: 0.4851 - accuracy: 0.7838\n",
      "Epoch 7/70\n",
      "23/23 [==============================] - 0s 4ms/step - loss: 0.4721 - accuracy: 0.7926\n",
      "Epoch 8/70\n",
      "23/23 [==============================] - 0s 3ms/step - loss: 0.4562 - accuracy: 0.8032\n",
      "Epoch 9/70\n",
      "23/23 [==============================] - 0s 4ms/step - loss: 0.4474 - accuracy: 0.8032\n",
      "Epoch 10/70\n",
      "23/23 [==============================] - 0s 4ms/step - loss: 0.4358 - accuracy: 0.8049\n",
      "Epoch 11/70\n",
      "23/23 [==============================] - 0s 3ms/step - loss: 0.4308 - accuracy: 0.8243\n",
      "Epoch 12/70\n",
      "23/23 [==============================] - 0s 3ms/step - loss: 0.4271 - accuracy: 0.8155\n",
      "Epoch 13/70\n",
      "23/23 [==============================] - 0s 4ms/step - loss: 0.4230 - accuracy: 0.8313\n",
      "Epoch 14/70\n",
      "23/23 [==============================] - 0s 4ms/step - loss: 0.4259 - accuracy: 0.8190\n",
      "Epoch 15/70\n",
      "23/23 [==============================] - 0s 4ms/step - loss: 0.4148 - accuracy: 0.8366\n",
      "Epoch 16/70\n",
      "23/23 [==============================] - 0s 5ms/step - loss: 0.4198 - accuracy: 0.8172\n",
      "Epoch 17/70\n",
      "23/23 [==============================] - 0s 4ms/step - loss: 0.4237 - accuracy: 0.8067\n",
      "Epoch 18/70\n",
      "23/23 [==============================] - 0s 4ms/step - loss: 0.4169 - accuracy: 0.8295\n",
      "Epoch 19/70\n",
      "23/23 [==============================] - 0s 4ms/step - loss: 0.4068 - accuracy: 0.8295\n",
      "Epoch 20/70\n",
      "23/23 [==============================] - 0s 3ms/step - loss: 0.4121 - accuracy: 0.8260\n",
      "Epoch 21/70\n",
      "23/23 [==============================] - 0s 4ms/step - loss: 0.4023 - accuracy: 0.8260\n",
      "Epoch 22/70\n",
      "23/23 [==============================] - 0s 3ms/step - loss: 0.4156 - accuracy: 0.8243\n",
      "Epoch 23/70\n",
      "23/23 [==============================] - 0s 3ms/step - loss: 0.4070 - accuracy: 0.8243\n",
      "Epoch 24/70\n",
      "23/23 [==============================] - 0s 3ms/step - loss: 0.4120 - accuracy: 0.8243\n",
      "Epoch 25/70\n",
      "23/23 [==============================] - 0s 4ms/step - loss: 0.4033 - accuracy: 0.8330\n",
      "Epoch 26/70\n",
      "23/23 [==============================] - 0s 4ms/step - loss: 0.4038 - accuracy: 0.8383\n",
      "Epoch 27/70\n",
      "23/23 [==============================] - 0s 4ms/step - loss: 0.4027 - accuracy: 0.8313\n",
      "Epoch 28/70\n",
      "23/23 [==============================] - 0s 4ms/step - loss: 0.3977 - accuracy: 0.8330\n",
      "Epoch 29/70\n",
      "23/23 [==============================] - 0s 3ms/step - loss: 0.3997 - accuracy: 0.8278\n",
      "Epoch 30/70\n",
      "23/23 [==============================] - 0s 3ms/step - loss: 0.3904 - accuracy: 0.8330\n",
      "Epoch 31/70\n",
      "23/23 [==============================] - 0s 3ms/step - loss: 0.3929 - accuracy: 0.8366\n",
      "Epoch 32/70\n",
      "23/23 [==============================] - 0s 3ms/step - loss: 0.3939 - accuracy: 0.8330\n",
      "Epoch 33/70\n",
      "23/23 [==============================] - 0s 4ms/step - loss: 0.3934 - accuracy: 0.8313\n",
      "Epoch 34/70\n",
      "23/23 [==============================] - 0s 3ms/step - loss: 0.3877 - accuracy: 0.8348\n",
      "Epoch 35/70\n",
      "23/23 [==============================] - 0s 3ms/step - loss: 0.3874 - accuracy: 0.8383\n",
      "Epoch 36/70\n",
      "23/23 [==============================] - 0s 3ms/step - loss: 0.3879 - accuracy: 0.8383\n",
      "Epoch 37/70\n",
      "23/23 [==============================] - 0s 3ms/step - loss: 0.3924 - accuracy: 0.8190\n",
      "Epoch 38/70\n",
      "23/23 [==============================] - 0s 3ms/step - loss: 0.3925 - accuracy: 0.8313\n",
      "Epoch 39/70\n",
      "23/23 [==============================] - 0s 3ms/step - loss: 0.3876 - accuracy: 0.8418\n",
      "Epoch 40/70\n",
      "23/23 [==============================] - 0s 3ms/step - loss: 0.3828 - accuracy: 0.8383\n",
      "Epoch 41/70\n",
      "23/23 [==============================] - 0s 3ms/step - loss: 0.3772 - accuracy: 0.8401\n",
      "Epoch 42/70\n",
      "23/23 [==============================] - 0s 3ms/step - loss: 0.3901 - accuracy: 0.8243\n",
      "Epoch 43/70\n",
      "23/23 [==============================] - 0s 3ms/step - loss: 0.3820 - accuracy: 0.8330\n",
      "Epoch 44/70\n",
      "23/23 [==============================] - 0s 3ms/step - loss: 0.3850 - accuracy: 0.8383\n",
      "Epoch 45/70\n",
      "23/23 [==============================] - 0s 3ms/step - loss: 0.3968 - accuracy: 0.8313\n",
      "Epoch 46/70\n",
      "23/23 [==============================] - 0s 4ms/step - loss: 0.3821 - accuracy: 0.8401\n",
      "Epoch 47/70\n",
      "23/23 [==============================] - 0s 3ms/step - loss: 0.3777 - accuracy: 0.8489\n",
      "Epoch 48/70\n",
      "23/23 [==============================] - 0s 3ms/step - loss: 0.3768 - accuracy: 0.8330\n",
      "Epoch 49/70\n",
      "23/23 [==============================] - 0s 3ms/step - loss: 0.3874 - accuracy: 0.8313\n",
      "Epoch 50/70\n",
      "23/23 [==============================] - 0s 3ms/step - loss: 0.3888 - accuracy: 0.8366\n",
      "Epoch 51/70\n",
      "23/23 [==============================] - 0s 3ms/step - loss: 0.3832 - accuracy: 0.8330\n",
      "Epoch 52/70\n",
      "23/23 [==============================] - 0s 4ms/step - loss: 0.3819 - accuracy: 0.8348\n",
      "Epoch 53/70\n",
      "23/23 [==============================] - 0s 3ms/step - loss: 0.3900 - accuracy: 0.8401\n",
      "Epoch 54/70\n",
      "23/23 [==============================] - 0s 3ms/step - loss: 0.3738 - accuracy: 0.8524\n",
      "Epoch 55/70\n",
      "23/23 [==============================] - 0s 3ms/step - loss: 0.3844 - accuracy: 0.8436\n",
      "Epoch 56/70\n",
      "23/23 [==============================] - 0s 3ms/step - loss: 0.3788 - accuracy: 0.8418\n",
      "Epoch 57/70\n",
      "23/23 [==============================] - 0s 3ms/step - loss: 0.3766 - accuracy: 0.8313\n",
      "Epoch 58/70\n",
      "23/23 [==============================] - 0s 4ms/step - loss: 0.3754 - accuracy: 0.8401\n",
      "Epoch 59/70\n",
      "23/23 [==============================] - 0s 3ms/step - loss: 0.3681 - accuracy: 0.8401\n",
      "Epoch 60/70\n",
      "23/23 [==============================] - 0s 3ms/step - loss: 0.3785 - accuracy: 0.8295\n",
      "Epoch 61/70\n",
      "23/23 [==============================] - 0s 3ms/step - loss: 0.3642 - accuracy: 0.8366\n",
      "Epoch 62/70\n",
      "23/23 [==============================] - 0s 3ms/step - loss: 0.3745 - accuracy: 0.8348\n",
      "Epoch 63/70\n",
      "23/23 [==============================] - 0s 3ms/step - loss: 0.3696 - accuracy: 0.8524\n",
      "Epoch 64/70\n",
      "23/23 [==============================] - 0s 3ms/step - loss: 0.3669 - accuracy: 0.8383\n",
      "Epoch 65/70\n",
      "23/23 [==============================] - 0s 3ms/step - loss: 0.3764 - accuracy: 0.8295\n",
      "Epoch 66/70\n",
      "23/23 [==============================] - 0s 3ms/step - loss: 0.3631 - accuracy: 0.8489\n",
      "Epoch 67/70\n",
      "23/23 [==============================] - 0s 4ms/step - loss: 0.3673 - accuracy: 0.8418\n",
      "Epoch 68/70\n",
      "23/23 [==============================] - 0s 3ms/step - loss: 0.3710 - accuracy: 0.8453\n",
      "Epoch 69/70\n",
      "23/23 [==============================] - 0s 3ms/step - loss: 0.3652 - accuracy: 0.8489\n",
      "Epoch 70/70\n",
      "23/23 [==============================] - 0s 4ms/step - loss: 0.3688 - accuracy: 0.8453\n"
     ]
    },
    {
     "data": {
      "text/plain": [
       "<keras.src.callbacks.History at 0x23dce5152a0>"
      ]
     },
     "execution_count": 9,
     "metadata": {},
     "output_type": "execute_result"
    }
   ],
   "source": [
    "# Ajustar el modelo con más épocas y un tamaño de batch más grande\n",
    "model.fit(X_train, Y_train, epochs=70, batch_size=25, verbose=1)\n",
    "\n"
   ]
  },
  {
   "cell_type": "code",
   "execution_count": 10,
   "metadata": {},
   "outputs": [
    {
     "name": "stdout",
     "output_type": "stream",
     "text": [
      "Test accuracy: 0.8041958212852478\n"
     ]
    }
   ],
   "source": [
    "# Evaluar el modelo en el conjunto de prueba\n",
    "test_loss, test_acc = model.evaluate(X_test, Y_test, verbose=0)\n",
    "print('Test accuracy:', test_acc)"
   ]
  },
  {
   "cell_type": "code",
   "execution_count": 11,
   "metadata": {},
   "outputs": [],
   "source": [
    "import pickle\n",
    "\n",
    "pickle.dump(model, open('model.pkl', 'wb'))"
   ]
  }
 ],
 "metadata": {
  "kernelspec": {
   "display_name": "Python 3",
   "language": "python",
   "name": "python3"
  },
  "language_info": {
   "codemirror_mode": {
    "name": "ipython",
    "version": 3
   },
   "file_extension": ".py",
   "mimetype": "text/x-python",
   "name": "python",
   "nbconvert_exporter": "python",
   "pygments_lexer": "ipython3",
   "version": "3.10.0"
  }
 },
 "nbformat": 4,
 "nbformat_minor": 2
}
