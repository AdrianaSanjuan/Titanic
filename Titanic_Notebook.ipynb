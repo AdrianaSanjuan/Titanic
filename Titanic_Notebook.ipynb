{
 "cells": [
  {
   "cell_type": "markdown",
   "metadata": {},
   "source": [
    "# <center><font color = 'Lightcyan'> Proyecto de módulo: Titanic <center>"
   ]
  },
  {
   "cell_type": "markdown",
   "metadata": {},
   "source": [
    "## <font color = 'Lightcyan'> Extracción de datos"
   ]
  },
  {
   "cell_type": "markdown",
   "metadata": {},
   "source": [
    "____________________________________________________________________________________________________________________________________________________________________________________________________________"
   ]
  },
  {
   "cell_type": "code",
   "execution_count": 1,
   "metadata": {},
   "outputs": [],
   "source": [
    "#Importamos las librerias vistas durante el modulo\n",
    "\n",
    "import pandas as pd\n",
    "import numpy as np\n",
    "import matplotlib.pyplot as plt\n",
    "import seaborn as sns\n",
    "import plotly.express as px\n"
   ]
  },
  {
   "cell_type": "code",
   "execution_count": 2,
   "metadata": {},
   "outputs": [
    {
     "data": {
      "text/html": [
       "<div>\n",
       "<style scoped>\n",
       "    .dataframe tbody tr th:only-of-type {\n",
       "        vertical-align: middle;\n",
       "    }\n",
       "\n",
       "    .dataframe tbody tr th {\n",
       "        vertical-align: top;\n",
       "    }\n",
       "\n",
       "    .dataframe thead th {\n",
       "        text-align: right;\n",
       "    }\n",
       "</style>\n",
       "<table border=\"1\" class=\"dataframe\">\n",
       "  <thead>\n",
       "    <tr style=\"text-align: right;\">\n",
       "      <th></th>\n",
       "      <th>PassengerId</th>\n",
       "      <th>Survived</th>\n",
       "      <th>Pclass</th>\n",
       "      <th>Name</th>\n",
       "      <th>Sex</th>\n",
       "      <th>Age</th>\n",
       "      <th>SibSp</th>\n",
       "      <th>Parch</th>\n",
       "      <th>Ticket</th>\n",
       "      <th>Fare</th>\n",
       "      <th>Cabin</th>\n",
       "      <th>Embarked</th>\n",
       "    </tr>\n",
       "  </thead>\n",
       "  <tbody>\n",
       "    <tr>\n",
       "      <th>0</th>\n",
       "      <td>1</td>\n",
       "      <td>0</td>\n",
       "      <td>3</td>\n",
       "      <td>Braund, Mr. Owen Harris</td>\n",
       "      <td>male</td>\n",
       "      <td>22.0</td>\n",
       "      <td>1</td>\n",
       "      <td>0</td>\n",
       "      <td>A/5 21171</td>\n",
       "      <td>7.2500</td>\n",
       "      <td>NaN</td>\n",
       "      <td>S</td>\n",
       "    </tr>\n",
       "    <tr>\n",
       "      <th>1</th>\n",
       "      <td>2</td>\n",
       "      <td>1</td>\n",
       "      <td>1</td>\n",
       "      <td>Cumings, Mrs. John Bradley (Florence Briggs Th...</td>\n",
       "      <td>female</td>\n",
       "      <td>38.0</td>\n",
       "      <td>1</td>\n",
       "      <td>0</td>\n",
       "      <td>PC 17599</td>\n",
       "      <td>71.2833</td>\n",
       "      <td>C85</td>\n",
       "      <td>C</td>\n",
       "    </tr>\n",
       "    <tr>\n",
       "      <th>2</th>\n",
       "      <td>3</td>\n",
       "      <td>1</td>\n",
       "      <td>3</td>\n",
       "      <td>Heikkinen, Miss. Laina</td>\n",
       "      <td>female</td>\n",
       "      <td>26.0</td>\n",
       "      <td>0</td>\n",
       "      <td>0</td>\n",
       "      <td>STON/O2. 3101282</td>\n",
       "      <td>7.9250</td>\n",
       "      <td>NaN</td>\n",
       "      <td>S</td>\n",
       "    </tr>\n",
       "    <tr>\n",
       "      <th>3</th>\n",
       "      <td>4</td>\n",
       "      <td>1</td>\n",
       "      <td>1</td>\n",
       "      <td>Futrelle, Mrs. Jacques Heath (Lily May Peel)</td>\n",
       "      <td>female</td>\n",
       "      <td>35.0</td>\n",
       "      <td>1</td>\n",
       "      <td>0</td>\n",
       "      <td>113803</td>\n",
       "      <td>53.1000</td>\n",
       "      <td>C123</td>\n",
       "      <td>S</td>\n",
       "    </tr>\n",
       "    <tr>\n",
       "      <th>4</th>\n",
       "      <td>5</td>\n",
       "      <td>0</td>\n",
       "      <td>3</td>\n",
       "      <td>Allen, Mr. William Henry</td>\n",
       "      <td>male</td>\n",
       "      <td>35.0</td>\n",
       "      <td>0</td>\n",
       "      <td>0</td>\n",
       "      <td>373450</td>\n",
       "      <td>8.0500</td>\n",
       "      <td>NaN</td>\n",
       "      <td>S</td>\n",
       "    </tr>\n",
       "    <tr>\n",
       "      <th>...</th>\n",
       "      <td>...</td>\n",
       "      <td>...</td>\n",
       "      <td>...</td>\n",
       "      <td>...</td>\n",
       "      <td>...</td>\n",
       "      <td>...</td>\n",
       "      <td>...</td>\n",
       "      <td>...</td>\n",
       "      <td>...</td>\n",
       "      <td>...</td>\n",
       "      <td>...</td>\n",
       "      <td>...</td>\n",
       "    </tr>\n",
       "    <tr>\n",
       "      <th>886</th>\n",
       "      <td>887</td>\n",
       "      <td>0</td>\n",
       "      <td>2</td>\n",
       "      <td>Montvila, Rev. Juozas</td>\n",
       "      <td>male</td>\n",
       "      <td>27.0</td>\n",
       "      <td>0</td>\n",
       "      <td>0</td>\n",
       "      <td>211536</td>\n",
       "      <td>13.0000</td>\n",
       "      <td>NaN</td>\n",
       "      <td>S</td>\n",
       "    </tr>\n",
       "    <tr>\n",
       "      <th>887</th>\n",
       "      <td>888</td>\n",
       "      <td>1</td>\n",
       "      <td>1</td>\n",
       "      <td>Graham, Miss. Margaret Edith</td>\n",
       "      <td>female</td>\n",
       "      <td>19.0</td>\n",
       "      <td>0</td>\n",
       "      <td>0</td>\n",
       "      <td>112053</td>\n",
       "      <td>30.0000</td>\n",
       "      <td>B42</td>\n",
       "      <td>S</td>\n",
       "    </tr>\n",
       "    <tr>\n",
       "      <th>888</th>\n",
       "      <td>889</td>\n",
       "      <td>0</td>\n",
       "      <td>3</td>\n",
       "      <td>Johnston, Miss. Catherine Helen \"Carrie\"</td>\n",
       "      <td>female</td>\n",
       "      <td>NaN</td>\n",
       "      <td>1</td>\n",
       "      <td>2</td>\n",
       "      <td>W./C. 6607</td>\n",
       "      <td>23.4500</td>\n",
       "      <td>NaN</td>\n",
       "      <td>S</td>\n",
       "    </tr>\n",
       "    <tr>\n",
       "      <th>889</th>\n",
       "      <td>890</td>\n",
       "      <td>1</td>\n",
       "      <td>1</td>\n",
       "      <td>Behr, Mr. Karl Howell</td>\n",
       "      <td>male</td>\n",
       "      <td>26.0</td>\n",
       "      <td>0</td>\n",
       "      <td>0</td>\n",
       "      <td>111369</td>\n",
       "      <td>30.0000</td>\n",
       "      <td>C148</td>\n",
       "      <td>C</td>\n",
       "    </tr>\n",
       "    <tr>\n",
       "      <th>890</th>\n",
       "      <td>891</td>\n",
       "      <td>0</td>\n",
       "      <td>3</td>\n",
       "      <td>Dooley, Mr. Patrick</td>\n",
       "      <td>male</td>\n",
       "      <td>32.0</td>\n",
       "      <td>0</td>\n",
       "      <td>0</td>\n",
       "      <td>370376</td>\n",
       "      <td>7.7500</td>\n",
       "      <td>NaN</td>\n",
       "      <td>Q</td>\n",
       "    </tr>\n",
       "  </tbody>\n",
       "</table>\n",
       "<p>891 rows × 12 columns</p>\n",
       "</div>"
      ],
      "text/plain": [
       "     PassengerId  Survived  Pclass  \\\n",
       "0              1         0       3   \n",
       "1              2         1       1   \n",
       "2              3         1       3   \n",
       "3              4         1       1   \n",
       "4              5         0       3   \n",
       "..           ...       ...     ...   \n",
       "886          887         0       2   \n",
       "887          888         1       1   \n",
       "888          889         0       3   \n",
       "889          890         1       1   \n",
       "890          891         0       3   \n",
       "\n",
       "                                                  Name     Sex   Age  SibSp  \\\n",
       "0                              Braund, Mr. Owen Harris    male  22.0      1   \n",
       "1    Cumings, Mrs. John Bradley (Florence Briggs Th...  female  38.0      1   \n",
       "2                               Heikkinen, Miss. Laina  female  26.0      0   \n",
       "3         Futrelle, Mrs. Jacques Heath (Lily May Peel)  female  35.0      1   \n",
       "4                             Allen, Mr. William Henry    male  35.0      0   \n",
       "..                                                 ...     ...   ...    ...   \n",
       "886                              Montvila, Rev. Juozas    male  27.0      0   \n",
       "887                       Graham, Miss. Margaret Edith  female  19.0      0   \n",
       "888           Johnston, Miss. Catherine Helen \"Carrie\"  female   NaN      1   \n",
       "889                              Behr, Mr. Karl Howell    male  26.0      0   \n",
       "890                                Dooley, Mr. Patrick    male  32.0      0   \n",
       "\n",
       "     Parch            Ticket     Fare Cabin Embarked  \n",
       "0        0         A/5 21171   7.2500   NaN        S  \n",
       "1        0          PC 17599  71.2833   C85        C  \n",
       "2        0  STON/O2. 3101282   7.9250   NaN        S  \n",
       "3        0            113803  53.1000  C123        S  \n",
       "4        0            373450   8.0500   NaN        S  \n",
       "..     ...               ...      ...   ...      ...  \n",
       "886      0            211536  13.0000   NaN        S  \n",
       "887      0            112053  30.0000   B42        S  \n",
       "888      2        W./C. 6607  23.4500   NaN        S  \n",
       "889      0            111369  30.0000  C148        C  \n",
       "890      0            370376   7.7500   NaN        Q  \n",
       "\n",
       "[891 rows x 12 columns]"
      ]
     },
     "execution_count": 2,
     "metadata": {},
     "output_type": "execute_result"
    }
   ],
   "source": [
    "#con la función read_csv de pandas, podremos leer el csv\n",
    "\n",
    "df = pd.read_csv('titanic.csv')\n",
    "df\n",
    "\n",
    "#10.692 datos"
   ]
  },
  {
   "cell_type": "markdown",
   "metadata": {},
   "source": [
    "<font color = 'Cadetblue'> Definicion de las columnas:\n",
    "\n",
    "- PassengerId: id de cada pasajero. Identificador unico.\n",
    "- Survived: indica si el pasajero ha sobrevivido o no (0=No; 1=Si)\n",
    "- Pclass: clase de cada pasajero\n",
    "- Name: nombre de cada pasajero\n",
    "- Sex: género \n",
    "- Age: edad del pasajero\n",
    "- SibSp: indica el número de hermanos o cónyuges que el pasajero tenía a bordo\n",
    "- Parch: indica el número de hijos o padres que tenia el pasajero a bordo\n",
    "- Ticket: ticket de cada pasajero\n",
    "- Fare: importe del ticket\n",
    "- Cabin: cabina de cada pasajero que ha comprado el ticket con camarote incluido\n",
    "- Embarked: puertos de embarque"
   ]
  },
  {
   "cell_type": "markdown",
   "metadata": {},
   "source": [
    "## <font color = 'Lightcyan'> Transformacion y limpieza de los datos"
   ]
  },
  {
   "cell_type": "markdown",
   "metadata": {},
   "source": [
    "____________________________________________________________________________________________________________________________________________________________________________________________________________"
   ]
  },
  {
   "cell_type": "markdown",
   "metadata": {},
   "source": [
    "<font color = 'Cadetblue'> El tratamiento y limpieza de datos se hará sobre tres aspectos:\n",
    "- Valores nulos\n",
    "- Valores duplicados\n",
    "- Tipos de datos"
   ]
  },
  {
   "cell_type": "code",
   "execution_count": 3,
   "metadata": {},
   "outputs": [
    {
     "data": {
      "text/plain": [
       "PassengerId      0\n",
       "Survived         0\n",
       "Pclass           0\n",
       "Name             0\n",
       "Sex              0\n",
       "Age            177\n",
       "SibSp            0\n",
       "Parch            0\n",
       "Ticket           0\n",
       "Fare             0\n",
       "Cabin          687\n",
       "Embarked         2\n",
       "dtype: int64"
      ]
     },
     "execution_count": 3,
     "metadata": {},
     "output_type": "execute_result"
    }
   ],
   "source": [
    "\"\"\"\"\n",
    "Veamos ahora cuantos valores nulos hay:\n",
    "Existen 3 variables con valores nulos ('Age', 'Cabin', 'Embarked')\n",
    "\n",
    "\"\"\"\n",
    "\n",
    "df.isnull().sum()"
   ]
  },
  {
   "cell_type": "code",
   "execution_count": 4,
   "metadata": {},
   "outputs": [],
   "source": [
    "\"\"\"\n",
    "\n",
    "En el caso de 'Cabin', sustituiremos los valores nulos por 'Sin cabina', ya que asummimos que los que se presentan como 'NaN' es debido a que el billete no incluia camarote\n",
    "\n",
    "\"\"\"\n",
    "\n",
    "#CABIN: sustituiremos los valores nulos por 'Sin cabina'\n",
    "\n",
    "df['Cabin'].fillna('Sin cabina', inplace=True)\n",
    "\n",
    "\n",
    "#EMBARKED: sustituiremos los valores nulos por 'No embarcado'\n",
    "\n",
    "\"\"\"\n",
    "\n",
    "En el caso de 'Embarked', sustituiremos los valores nulos por 'No embarcado', ya que asummimos que los que se presentan como 'NaN' es debido a que los pasajeros en cuestión no embarcaron.\n",
    "\n",
    "\"\"\"\n",
    "\n",
    "df['Embarked'].fillna('No embarcado', inplace=True)\n",
    "\n",
    "\"\"\"\n",
    "En el caso de 'Age', para que cada fila de la que no disponemos de la edad no quede alterada informando de una edad 'falsa', vamos a sutituir los valores por 0.\n",
    "Este cambio lo tendremos que tener en cuenta a la hora de sacar la media de edad, ya que tendremos que excluir estos valores.\n",
    "\n",
    "\"\"\"\n",
    "\n",
    "#AGE: sustituiremos los valores nulos por 0\n",
    "\n",
    "df['Age'].fillna(0, inplace=True)"
   ]
  },
  {
   "cell_type": "code",
   "execution_count": 5,
   "metadata": {},
   "outputs": [
    {
     "data": {
      "text/plain": [
       "PassengerId    0\n",
       "Survived       0\n",
       "Pclass         0\n",
       "Name           0\n",
       "Sex            0\n",
       "Age            0\n",
       "SibSp          0\n",
       "Parch          0\n",
       "Ticket         0\n",
       "Fare           0\n",
       "Cabin          0\n",
       "Embarked       0\n",
       "dtype: int64"
      ]
     },
     "execution_count": 5,
     "metadata": {},
     "output_type": "execute_result"
    }
   ],
   "source": [
    "#nos aseguramos de que se haya hecho correctamente:\n",
    "\n",
    "df.isnull().sum()"
   ]
  },
  {
   "cell_type": "code",
   "execution_count": 6,
   "metadata": {},
   "outputs": [
    {
     "data": {
      "text/plain": [
       "PassengerId      int64\n",
       "Survived         int64\n",
       "Pclass           int64\n",
       "Name            object\n",
       "Sex             object\n",
       "Age            float64\n",
       "SibSp            int64\n",
       "Parch            int64\n",
       "Ticket          object\n",
       "Fare           float64\n",
       "Cabin           object\n",
       "Embarked        object\n",
       "dtype: object"
      ]
     },
     "execution_count": 6,
     "metadata": {},
     "output_type": "execute_result"
    }
   ],
   "source": [
    "\"\"\"\n",
    "Vamos a ver de qué tipo es cada variable:\n",
    "bservamos que 'Age' es float, cuando deberia ser 'int'.\n",
    "\n",
    "\"\"\"\n",
    "\n",
    "df.dtypes\n"
   ]
  },
  {
   "cell_type": "code",
   "execution_count": 7,
   "metadata": {},
   "outputs": [
    {
     "data": {
      "text/plain": [
       "PassengerId      int64\n",
       "Survived         int64\n",
       "Pclass           int64\n",
       "Name            object\n",
       "Sex             object\n",
       "Age              int32\n",
       "SibSp            int64\n",
       "Parch            int64\n",
       "Ticket          object\n",
       "Fare           float64\n",
       "Cabin           object\n",
       "Embarked        object\n",
       "dtype: object"
      ]
     },
     "execution_count": 7,
     "metadata": {},
     "output_type": "execute_result"
    }
   ],
   "source": [
    "#Convertimos la variable 'Age' a tipo 'int':\n",
    "\n",
    "df['Age'] = df['Age'].astype(int)\n",
    "\n",
    "df.dtypes"
   ]
  },
  {
   "cell_type": "code",
   "execution_count": 8,
   "metadata": {},
   "outputs": [
    {
     "data": {
      "text/plain": [
       "False"
      ]
     },
     "execution_count": 8,
     "metadata": {},
     "output_type": "execute_result"
    }
   ],
   "source": [
    "\"\"\"\n",
    "Vamos a ver si existen duplicados:\n",
    "Observamos que no existen duplicados.\n",
    "\n",
    "\"\"\"\n",
    "\n",
    "df.duplicated().any()"
   ]
  },
  {
   "cell_type": "markdown",
   "metadata": {},
   "source": [
    "<font color = 'Cadetblue'> Además, e ha observado que la variable 'Fare' es una variable de tipo float con 4 decimales. Para hacerla más simple y 'atractiva', la redondearemos a 2 decimales."
   ]
  },
  {
   "cell_type": "code",
   "execution_count": 9,
   "metadata": {},
   "outputs": [],
   "source": [
    "#Redondeamos 'Fare' a 2 decimales. Esta funcion no admite el 'inplace=True' para guardar el cambio, así que lo guardamos dentro de la columna.\n",
    "df['Fare'] = round(df['Fare'], 2)"
   ]
  },
  {
   "cell_type": "markdown",
   "metadata": {},
   "source": [
    "<font color = 'Cadetblue'> Visualizamos de nuevo nuestro df para ver cómo ha quedado tras todos los cambios:"
   ]
  },
  {
   "cell_type": "code",
   "execution_count": 10,
   "metadata": {},
   "outputs": [
    {
     "data": {
      "text/html": [
       "<div>\n",
       "<style scoped>\n",
       "    .dataframe tbody tr th:only-of-type {\n",
       "        vertical-align: middle;\n",
       "    }\n",
       "\n",
       "    .dataframe tbody tr th {\n",
       "        vertical-align: top;\n",
       "    }\n",
       "\n",
       "    .dataframe thead th {\n",
       "        text-align: right;\n",
       "    }\n",
       "</style>\n",
       "<table border=\"1\" class=\"dataframe\">\n",
       "  <thead>\n",
       "    <tr style=\"text-align: right;\">\n",
       "      <th></th>\n",
       "      <th>PassengerId</th>\n",
       "      <th>Survived</th>\n",
       "      <th>Pclass</th>\n",
       "      <th>Name</th>\n",
       "      <th>Sex</th>\n",
       "      <th>Age</th>\n",
       "      <th>SibSp</th>\n",
       "      <th>Parch</th>\n",
       "      <th>Ticket</th>\n",
       "      <th>Fare</th>\n",
       "      <th>Cabin</th>\n",
       "      <th>Embarked</th>\n",
       "    </tr>\n",
       "  </thead>\n",
       "  <tbody>\n",
       "    <tr>\n",
       "      <th>0</th>\n",
       "      <td>1</td>\n",
       "      <td>0</td>\n",
       "      <td>3</td>\n",
       "      <td>Braund, Mr. Owen Harris</td>\n",
       "      <td>male</td>\n",
       "      <td>22</td>\n",
       "      <td>1</td>\n",
       "      <td>0</td>\n",
       "      <td>A/5 21171</td>\n",
       "      <td>7.25</td>\n",
       "      <td>Sin cabina</td>\n",
       "      <td>S</td>\n",
       "    </tr>\n",
       "    <tr>\n",
       "      <th>1</th>\n",
       "      <td>2</td>\n",
       "      <td>1</td>\n",
       "      <td>1</td>\n",
       "      <td>Cumings, Mrs. John Bradley (Florence Briggs Th...</td>\n",
       "      <td>female</td>\n",
       "      <td>38</td>\n",
       "      <td>1</td>\n",
       "      <td>0</td>\n",
       "      <td>PC 17599</td>\n",
       "      <td>71.28</td>\n",
       "      <td>C85</td>\n",
       "      <td>C</td>\n",
       "    </tr>\n",
       "    <tr>\n",
       "      <th>2</th>\n",
       "      <td>3</td>\n",
       "      <td>1</td>\n",
       "      <td>3</td>\n",
       "      <td>Heikkinen, Miss. Laina</td>\n",
       "      <td>female</td>\n",
       "      <td>26</td>\n",
       "      <td>0</td>\n",
       "      <td>0</td>\n",
       "      <td>STON/O2. 3101282</td>\n",
       "      <td>7.92</td>\n",
       "      <td>Sin cabina</td>\n",
       "      <td>S</td>\n",
       "    </tr>\n",
       "    <tr>\n",
       "      <th>3</th>\n",
       "      <td>4</td>\n",
       "      <td>1</td>\n",
       "      <td>1</td>\n",
       "      <td>Futrelle, Mrs. Jacques Heath (Lily May Peel)</td>\n",
       "      <td>female</td>\n",
       "      <td>35</td>\n",
       "      <td>1</td>\n",
       "      <td>0</td>\n",
       "      <td>113803</td>\n",
       "      <td>53.10</td>\n",
       "      <td>C123</td>\n",
       "      <td>S</td>\n",
       "    </tr>\n",
       "    <tr>\n",
       "      <th>4</th>\n",
       "      <td>5</td>\n",
       "      <td>0</td>\n",
       "      <td>3</td>\n",
       "      <td>Allen, Mr. William Henry</td>\n",
       "      <td>male</td>\n",
       "      <td>35</td>\n",
       "      <td>0</td>\n",
       "      <td>0</td>\n",
       "      <td>373450</td>\n",
       "      <td>8.05</td>\n",
       "      <td>Sin cabina</td>\n",
       "      <td>S</td>\n",
       "    </tr>\n",
       "    <tr>\n",
       "      <th>...</th>\n",
       "      <td>...</td>\n",
       "      <td>...</td>\n",
       "      <td>...</td>\n",
       "      <td>...</td>\n",
       "      <td>...</td>\n",
       "      <td>...</td>\n",
       "      <td>...</td>\n",
       "      <td>...</td>\n",
       "      <td>...</td>\n",
       "      <td>...</td>\n",
       "      <td>...</td>\n",
       "      <td>...</td>\n",
       "    </tr>\n",
       "    <tr>\n",
       "      <th>886</th>\n",
       "      <td>887</td>\n",
       "      <td>0</td>\n",
       "      <td>2</td>\n",
       "      <td>Montvila, Rev. Juozas</td>\n",
       "      <td>male</td>\n",
       "      <td>27</td>\n",
       "      <td>0</td>\n",
       "      <td>0</td>\n",
       "      <td>211536</td>\n",
       "      <td>13.00</td>\n",
       "      <td>Sin cabina</td>\n",
       "      <td>S</td>\n",
       "    </tr>\n",
       "    <tr>\n",
       "      <th>887</th>\n",
       "      <td>888</td>\n",
       "      <td>1</td>\n",
       "      <td>1</td>\n",
       "      <td>Graham, Miss. Margaret Edith</td>\n",
       "      <td>female</td>\n",
       "      <td>19</td>\n",
       "      <td>0</td>\n",
       "      <td>0</td>\n",
       "      <td>112053</td>\n",
       "      <td>30.00</td>\n",
       "      <td>B42</td>\n",
       "      <td>S</td>\n",
       "    </tr>\n",
       "    <tr>\n",
       "      <th>888</th>\n",
       "      <td>889</td>\n",
       "      <td>0</td>\n",
       "      <td>3</td>\n",
       "      <td>Johnston, Miss. Catherine Helen \"Carrie\"</td>\n",
       "      <td>female</td>\n",
       "      <td>0</td>\n",
       "      <td>1</td>\n",
       "      <td>2</td>\n",
       "      <td>W./C. 6607</td>\n",
       "      <td>23.45</td>\n",
       "      <td>Sin cabina</td>\n",
       "      <td>S</td>\n",
       "    </tr>\n",
       "    <tr>\n",
       "      <th>889</th>\n",
       "      <td>890</td>\n",
       "      <td>1</td>\n",
       "      <td>1</td>\n",
       "      <td>Behr, Mr. Karl Howell</td>\n",
       "      <td>male</td>\n",
       "      <td>26</td>\n",
       "      <td>0</td>\n",
       "      <td>0</td>\n",
       "      <td>111369</td>\n",
       "      <td>30.00</td>\n",
       "      <td>C148</td>\n",
       "      <td>C</td>\n",
       "    </tr>\n",
       "    <tr>\n",
       "      <th>890</th>\n",
       "      <td>891</td>\n",
       "      <td>0</td>\n",
       "      <td>3</td>\n",
       "      <td>Dooley, Mr. Patrick</td>\n",
       "      <td>male</td>\n",
       "      <td>32</td>\n",
       "      <td>0</td>\n",
       "      <td>0</td>\n",
       "      <td>370376</td>\n",
       "      <td>7.75</td>\n",
       "      <td>Sin cabina</td>\n",
       "      <td>Q</td>\n",
       "    </tr>\n",
       "  </tbody>\n",
       "</table>\n",
       "<p>891 rows × 12 columns</p>\n",
       "</div>"
      ],
      "text/plain": [
       "     PassengerId  Survived  Pclass  \\\n",
       "0              1         0       3   \n",
       "1              2         1       1   \n",
       "2              3         1       3   \n",
       "3              4         1       1   \n",
       "4              5         0       3   \n",
       "..           ...       ...     ...   \n",
       "886          887         0       2   \n",
       "887          888         1       1   \n",
       "888          889         0       3   \n",
       "889          890         1       1   \n",
       "890          891         0       3   \n",
       "\n",
       "                                                  Name     Sex  Age  SibSp  \\\n",
       "0                              Braund, Mr. Owen Harris    male   22      1   \n",
       "1    Cumings, Mrs. John Bradley (Florence Briggs Th...  female   38      1   \n",
       "2                               Heikkinen, Miss. Laina  female   26      0   \n",
       "3         Futrelle, Mrs. Jacques Heath (Lily May Peel)  female   35      1   \n",
       "4                             Allen, Mr. William Henry    male   35      0   \n",
       "..                                                 ...     ...  ...    ...   \n",
       "886                              Montvila, Rev. Juozas    male   27      0   \n",
       "887                       Graham, Miss. Margaret Edith  female   19      0   \n",
       "888           Johnston, Miss. Catherine Helen \"Carrie\"  female    0      1   \n",
       "889                              Behr, Mr. Karl Howell    male   26      0   \n",
       "890                                Dooley, Mr. Patrick    male   32      0   \n",
       "\n",
       "     Parch            Ticket   Fare       Cabin Embarked  \n",
       "0        0         A/5 21171   7.25  Sin cabina        S  \n",
       "1        0          PC 17599  71.28         C85        C  \n",
       "2        0  STON/O2. 3101282   7.92  Sin cabina        S  \n",
       "3        0            113803  53.10        C123        S  \n",
       "4        0            373450   8.05  Sin cabina        S  \n",
       "..     ...               ...    ...         ...      ...  \n",
       "886      0            211536  13.00  Sin cabina        S  \n",
       "887      0            112053  30.00         B42        S  \n",
       "888      2        W./C. 6607  23.45  Sin cabina        S  \n",
       "889      0            111369  30.00        C148        C  \n",
       "890      0            370376   7.75  Sin cabina        Q  \n",
       "\n",
       "[891 rows x 12 columns]"
      ]
     },
     "execution_count": 10,
     "metadata": {},
     "output_type": "execute_result"
    }
   ],
   "source": [
    "df"
   ]
  },
  {
   "cell_type": "markdown",
   "metadata": {},
   "source": [
    "## <font color = 'Lightcyan'> Visualización y analisis de los datos"
   ]
  },
  {
   "cell_type": "markdown",
   "metadata": {},
   "source": [
    "____________________________________________________________________________________________________________________________________________________________________________________________________________"
   ]
  },
  {
   "cell_type": "markdown",
   "metadata": {},
   "source": [
    "<font color = 'Cadetblue'> Tres de los análisis que se han realizado, se harán sobre la muestra de pasajeros afectados, es decir, los que embarcaron. Para que estos análisis se hagan de manera más eficiente, vamos a crear un fichero en el que se excluyan a las personas que no embarcaron de la muestra."
   ]
  },
  {
   "cell_type": "code",
   "execution_count": 11,
   "metadata": {},
   "outputs": [
    {
     "data": {
      "text/html": [
       "<div>\n",
       "<style scoped>\n",
       "    .dataframe tbody tr th:only-of-type {\n",
       "        vertical-align: middle;\n",
       "    }\n",
       "\n",
       "    .dataframe tbody tr th {\n",
       "        vertical-align: top;\n",
       "    }\n",
       "\n",
       "    .dataframe thead th {\n",
       "        text-align: right;\n",
       "    }\n",
       "</style>\n",
       "<table border=\"1\" class=\"dataframe\">\n",
       "  <thead>\n",
       "    <tr style=\"text-align: right;\">\n",
       "      <th></th>\n",
       "      <th>PassengerId</th>\n",
       "      <th>Survived</th>\n",
       "      <th>Pclass</th>\n",
       "      <th>Name</th>\n",
       "      <th>Sex</th>\n",
       "      <th>Age</th>\n",
       "      <th>SibSp</th>\n",
       "      <th>Parch</th>\n",
       "      <th>Ticket</th>\n",
       "      <th>Fare</th>\n",
       "      <th>Cabin</th>\n",
       "      <th>Embarked</th>\n",
       "    </tr>\n",
       "  </thead>\n",
       "  <tbody>\n",
       "    <tr>\n",
       "      <th>61</th>\n",
       "      <td>62</td>\n",
       "      <td>1</td>\n",
       "      <td>1</td>\n",
       "      <td>Icard, Miss. Amelie</td>\n",
       "      <td>female</td>\n",
       "      <td>38</td>\n",
       "      <td>0</td>\n",
       "      <td>0</td>\n",
       "      <td>113572</td>\n",
       "      <td>80.0</td>\n",
       "      <td>B28</td>\n",
       "      <td>No embarcado</td>\n",
       "    </tr>\n",
       "    <tr>\n",
       "      <th>829</th>\n",
       "      <td>830</td>\n",
       "      <td>1</td>\n",
       "      <td>1</td>\n",
       "      <td>Stone, Mrs. George Nelson (Martha Evelyn)</td>\n",
       "      <td>female</td>\n",
       "      <td>62</td>\n",
       "      <td>0</td>\n",
       "      <td>0</td>\n",
       "      <td>113572</td>\n",
       "      <td>80.0</td>\n",
       "      <td>B28</td>\n",
       "      <td>No embarcado</td>\n",
       "    </tr>\n",
       "  </tbody>\n",
       "</table>\n",
       "</div>"
      ],
      "text/plain": [
       "     PassengerId  Survived  Pclass                                       Name  \\\n",
       "61            62         1       1                        Icard, Miss. Amelie   \n",
       "829          830         1       1  Stone, Mrs. George Nelson (Martha Evelyn)   \n",
       "\n",
       "        Sex  Age  SibSp  Parch  Ticket  Fare Cabin      Embarked  \n",
       "61   female   38      0      0  113572  80.0   B28  No embarcado  \n",
       "829  female   62      0      0  113572  80.0   B28  No embarcado  "
      ]
     },
     "execution_count": 11,
     "metadata": {},
     "output_type": "execute_result"
    }
   ],
   "source": [
    "#Filtramos el DF para obtener a esas personas que no han embarcado, guardando la información en un nuevo df llamado 'no_embarcado'.\n",
    "\n",
    "no_embarcado = df[df['Embarked'] == 'No embarcado']\n",
    "\n",
    "#Visualizamos las personas que no han embarcado\n",
    "\n",
    "no_embarcado"
   ]
  },
  {
   "cell_type": "code",
   "execution_count": 12,
   "metadata": {},
   "outputs": [],
   "source": [
    "#Creamos un nuevo df (para no alterar el original) para extraer a estos dos pasajeros de la muestra. \n",
    "\n",
    "df1 = df.copy()\n",
    "df1 = df1.drop([61, 829], axis = 0) #eliminamos las filas correspondientes a los pasajeros"
   ]
  },
  {
   "cell_type": "code",
   "execution_count": 13,
   "metadata": {},
   "outputs": [
    {
     "data": {
      "text/plain": [
       "(889, 12)"
      ]
     },
     "execution_count": 13,
     "metadata": {},
     "output_type": "execute_result"
    }
   ],
   "source": [
    "#Si se ha hecho bien, ahora nuestro nuevo df pasará de 891 filas a 889.\n",
    "#Lo comprobamos con shape:\n",
    "\n",
    "df1.shape"
   ]
  },
  {
   "cell_type": "markdown",
   "metadata": {},
   "source": [
    "###  <font color = 'Lightcyan'> Análisis sobre la edad"
   ]
  },
  {
   "cell_type": "markdown",
   "metadata": {},
   "source": [
    "<font color = 'Lightcyan'> ¿Cual es la media de edad de todos los pasajeros?"
   ]
  },
  {
   "cell_type": "markdown",
   "metadata": {},
   "source": [
    "<font color = 'Cadetblue'> Antes del cálculo, primero vamos a ver cómo está distribuida la variable 'Age'. En concreto, queremos ver si hay muchos outliers que puedan afectar a la media."
   ]
  },
  {
   "cell_type": "code",
   "execution_count": 14,
   "metadata": {},
   "outputs": [
    {
     "data": {
      "application/vnd.plotly.v1+json": {
       "config": {
        "plotlyServerURL": "https://plot.ly"
       },
       "data": [
        {
         "alignmentgroup": "True",
         "hovertemplate": "Age=%{y}<extra></extra>",
         "legendgroup": "",
         "marker": {
          "color": "#F8766D"
         },
         "name": "",
         "notched": false,
         "offsetgroup": "",
         "orientation": "v",
         "showlegend": false,
         "type": "box",
         "x0": " ",
         "xaxis": "x",
         "y": [
          22,
          38,
          26,
          35,
          35,
          0,
          54,
          2,
          27,
          14,
          4,
          58,
          20,
          39,
          14,
          55,
          2,
          0,
          31,
          0,
          35,
          34,
          15,
          28,
          8,
          38,
          0,
          19,
          0,
          0,
          40,
          0,
          0,
          66,
          28,
          42,
          0,
          21,
          18,
          14,
          40,
          27,
          0,
          3,
          19,
          0,
          0,
          0,
          0,
          18,
          7,
          21,
          49,
          29,
          65,
          0,
          21,
          28,
          5,
          11,
          22,
          45,
          4,
          0,
          0,
          29,
          19,
          17,
          26,
          32,
          16,
          21,
          26,
          32,
          25,
          0,
          0,
          0,
          30,
          22,
          29,
          0,
          28,
          17,
          33,
          16,
          0,
          23,
          24,
          29,
          20,
          46,
          26,
          59,
          0,
          71,
          23,
          34,
          34,
          28,
          0,
          21,
          33,
          37,
          28,
          21,
          0,
          38,
          0,
          47,
          14,
          22,
          20,
          17,
          21,
          70,
          29,
          24,
          2,
          21,
          0,
          32,
          32,
          54,
          12,
          0,
          24,
          0,
          45,
          33,
          20,
          47,
          29,
          25,
          23,
          19,
          37,
          16,
          24,
          0,
          22,
          24,
          19,
          18,
          19,
          27,
          9,
          36,
          42,
          51,
          22,
          55,
          40,
          0,
          51,
          16,
          30,
          0,
          0,
          44,
          40,
          26,
          17,
          1,
          9,
          0,
          45,
          0,
          28,
          61,
          4,
          1,
          21,
          56,
          18,
          0,
          50,
          30,
          36,
          0,
          0,
          9,
          1,
          4,
          0,
          0,
          45,
          40,
          36,
          32,
          19,
          19,
          3,
          44,
          58,
          0,
          42,
          0,
          24,
          28,
          0,
          34,
          45,
          18,
          2,
          32,
          26,
          16,
          40,
          24,
          35,
          22,
          30,
          0,
          31,
          27,
          42,
          32,
          30,
          16,
          27,
          51,
          0,
          38,
          22,
          19,
          20,
          18,
          0,
          35,
          29,
          59,
          5,
          24,
          0,
          44,
          8,
          19,
          33,
          0,
          0,
          29,
          22,
          30,
          44,
          25,
          24,
          37,
          54,
          0,
          29,
          62,
          30,
          41,
          29,
          0,
          30,
          35,
          50,
          0,
          3,
          52,
          40,
          0,
          36,
          16,
          25,
          58,
          35,
          0,
          25,
          41,
          37,
          0,
          63,
          45,
          0,
          7,
          35,
          65,
          28,
          16,
          19,
          0,
          33,
          30,
          22,
          42,
          22,
          26,
          19,
          36,
          24,
          24,
          0,
          23,
          2,
          0,
          50,
          0,
          0,
          19,
          0,
          0,
          0,
          0,
          17,
          30,
          30,
          24,
          18,
          26,
          28,
          43,
          26,
          24,
          54,
          31,
          40,
          22,
          27,
          30,
          22,
          0,
          36,
          61,
          36,
          31,
          16,
          0,
          45,
          38,
          16,
          0,
          0,
          29,
          41,
          45,
          45,
          2,
          24,
          28,
          25,
          36,
          24,
          40,
          0,
          3,
          42,
          23,
          0,
          15,
          25,
          0,
          28,
          22,
          38,
          0,
          0,
          40,
          29,
          45,
          35,
          0,
          30,
          60,
          0,
          0,
          24,
          25,
          18,
          19,
          22,
          3,
          0,
          22,
          27,
          20,
          19,
          42,
          1,
          32,
          35,
          0,
          18,
          1,
          36,
          0,
          17,
          36,
          21,
          28,
          23,
          24,
          22,
          31,
          46,
          23,
          28,
          39,
          26,
          21,
          28,
          20,
          34,
          51,
          3,
          21,
          0,
          0,
          0,
          33,
          0,
          44,
          0,
          34,
          18,
          30,
          10,
          0,
          21,
          29,
          28,
          18,
          0,
          28,
          19,
          0,
          32,
          28,
          0,
          42,
          17,
          50,
          14,
          21,
          24,
          64,
          31,
          45,
          20,
          25,
          28,
          0,
          4,
          13,
          34,
          5,
          52,
          36,
          0,
          30,
          49,
          0,
          29,
          65,
          0,
          50,
          0,
          48,
          34,
          47,
          48,
          0,
          38,
          0,
          56,
          0,
          0,
          0,
          38,
          33,
          23,
          22,
          0,
          34,
          29,
          22,
          2,
          9,
          0,
          50,
          63,
          25,
          0,
          35,
          58,
          30,
          9,
          0,
          21,
          55,
          71,
          21,
          0,
          54,
          0,
          25,
          24,
          17,
          21,
          0,
          37,
          16,
          18,
          33,
          0,
          28,
          26,
          29,
          0,
          36,
          54,
          24,
          47,
          34,
          0,
          36,
          32,
          30,
          22,
          0,
          44,
          0,
          40,
          50,
          0,
          39,
          23,
          2,
          0,
          17,
          0,
          30,
          7,
          45,
          30,
          0,
          22,
          36,
          9,
          11,
          32,
          50,
          64,
          19,
          0,
          33,
          8,
          17,
          27,
          0,
          22,
          22,
          62,
          48,
          0,
          39,
          36,
          0,
          40,
          28,
          0,
          0,
          24,
          19,
          29,
          0,
          32,
          62,
          53,
          36,
          0,
          16,
          19,
          34,
          39,
          0,
          32,
          25,
          39,
          54,
          36,
          0,
          18,
          47,
          60,
          22,
          0,
          35,
          52,
          47,
          0,
          37,
          36,
          0,
          49,
          0,
          49,
          24,
          0,
          0,
          44,
          35,
          36,
          30,
          27,
          22,
          40,
          39,
          0,
          0,
          0,
          35,
          24,
          34,
          26,
          4,
          26,
          27,
          42,
          20,
          21,
          21,
          61,
          57,
          21,
          26,
          0,
          80,
          51,
          32,
          0,
          9,
          28,
          32,
          31,
          41,
          0,
          20,
          24,
          2,
          0,
          0,
          48,
          19,
          56,
          0,
          23,
          0,
          18,
          21,
          0,
          18,
          24,
          0,
          32,
          23,
          58,
          50,
          40,
          47,
          36,
          20,
          32,
          25,
          0,
          43,
          0,
          40,
          31,
          70,
          31,
          0,
          18,
          24,
          18,
          43,
          36,
          0,
          27,
          20,
          14,
          60,
          25,
          14,
          19,
          18,
          15,
          31,
          4,
          0,
          25,
          60,
          52,
          44,
          0,
          49,
          42,
          18,
          35,
          18,
          25,
          26,
          39,
          45,
          42,
          22,
          0,
          24,
          0,
          48,
          29,
          52,
          19,
          38,
          27,
          0,
          33,
          6,
          17,
          34,
          50,
          27,
          20,
          30,
          0,
          25,
          25,
          29,
          11,
          0,
          23,
          23,
          28,
          48,
          35,
          0,
          0,
          0,
          36,
          21,
          24,
          31,
          70,
          16,
          30,
          19,
          31,
          4,
          6,
          33,
          23,
          48,
          0,
          28,
          18,
          34,
          33,
          0,
          41,
          20,
          36,
          16,
          51,
          0,
          30,
          0,
          32,
          24,
          48,
          57,
          0,
          54,
          18,
          0,
          5,
          0,
          43,
          13,
          17,
          29,
          0,
          25,
          25,
          18,
          8,
          1,
          46,
          0,
          16,
          0,
          0,
          25,
          39,
          49,
          31,
          30,
          30,
          34,
          31,
          11,
          0,
          27,
          31,
          39,
          18,
          39,
          33,
          26,
          39,
          35,
          6,
          30,
          0,
          23,
          31,
          43,
          10,
          52,
          27,
          38,
          27,
          2,
          0,
          0,
          1,
          0,
          15,
          0,
          0,
          23,
          18,
          39,
          21,
          0,
          32,
          0,
          20,
          16,
          30,
          34,
          17,
          42,
          0,
          35,
          28,
          0,
          4,
          74,
          9,
          16,
          44,
          18,
          45,
          51,
          24,
          0,
          41,
          21,
          48,
          0,
          24,
          42,
          27,
          31,
          0,
          4,
          26,
          47,
          33,
          47,
          28,
          15,
          20,
          19,
          0,
          56,
          25,
          33,
          22,
          28,
          25,
          39,
          27,
          19,
          0,
          26,
          32
         ],
         "y0": " ",
         "yaxis": "y"
        }
       ],
       "layout": {
        "boxmode": "group",
        "legend": {
         "tracegroupgap": 0
        },
        "margin": {
         "t": 60
        },
        "template": {
         "data": {
          "bar": [
           {
            "error_x": {
             "color": "rgb(51,51,51)"
            },
            "error_y": {
             "color": "rgb(51,51,51)"
            },
            "marker": {
             "line": {
              "color": "rgb(237,237,237)",
              "width": 0.5
             },
             "pattern": {
              "fillmode": "overlay",
              "size": 10,
              "solidity": 0.2
             }
            },
            "type": "bar"
           }
          ],
          "barpolar": [
           {
            "marker": {
             "line": {
              "color": "rgb(237,237,237)",
              "width": 0.5
             },
             "pattern": {
              "fillmode": "overlay",
              "size": 10,
              "solidity": 0.2
             }
            },
            "type": "barpolar"
           }
          ],
          "carpet": [
           {
            "aaxis": {
             "endlinecolor": "rgb(51,51,51)",
             "gridcolor": "white",
             "linecolor": "white",
             "minorgridcolor": "white",
             "startlinecolor": "rgb(51,51,51)"
            },
            "baxis": {
             "endlinecolor": "rgb(51,51,51)",
             "gridcolor": "white",
             "linecolor": "white",
             "minorgridcolor": "white",
             "startlinecolor": "rgb(51,51,51)"
            },
            "type": "carpet"
           }
          ],
          "choropleth": [
           {
            "colorbar": {
             "outlinewidth": 0,
             "tickcolor": "rgb(237,237,237)",
             "ticklen": 6,
             "ticks": "inside"
            },
            "type": "choropleth"
           }
          ],
          "contour": [
           {
            "colorbar": {
             "outlinewidth": 0,
             "tickcolor": "rgb(237,237,237)",
             "ticklen": 6,
             "ticks": "inside"
            },
            "colorscale": [
             [
              0,
              "rgb(20,44,66)"
             ],
             [
              1,
              "rgb(90,179,244)"
             ]
            ],
            "type": "contour"
           }
          ],
          "contourcarpet": [
           {
            "colorbar": {
             "outlinewidth": 0,
             "tickcolor": "rgb(237,237,237)",
             "ticklen": 6,
             "ticks": "inside"
            },
            "type": "contourcarpet"
           }
          ],
          "heatmap": [
           {
            "colorbar": {
             "outlinewidth": 0,
             "tickcolor": "rgb(237,237,237)",
             "ticklen": 6,
             "ticks": "inside"
            },
            "colorscale": [
             [
              0,
              "rgb(20,44,66)"
             ],
             [
              1,
              "rgb(90,179,244)"
             ]
            ],
            "type": "heatmap"
           }
          ],
          "heatmapgl": [
           {
            "colorbar": {
             "outlinewidth": 0,
             "tickcolor": "rgb(237,237,237)",
             "ticklen": 6,
             "ticks": "inside"
            },
            "colorscale": [
             [
              0,
              "rgb(20,44,66)"
             ],
             [
              1,
              "rgb(90,179,244)"
             ]
            ],
            "type": "heatmapgl"
           }
          ],
          "histogram": [
           {
            "marker": {
             "pattern": {
              "fillmode": "overlay",
              "size": 10,
              "solidity": 0.2
             }
            },
            "type": "histogram"
           }
          ],
          "histogram2d": [
           {
            "colorbar": {
             "outlinewidth": 0,
             "tickcolor": "rgb(237,237,237)",
             "ticklen": 6,
             "ticks": "inside"
            },
            "colorscale": [
             [
              0,
              "rgb(20,44,66)"
             ],
             [
              1,
              "rgb(90,179,244)"
             ]
            ],
            "type": "histogram2d"
           }
          ],
          "histogram2dcontour": [
           {
            "colorbar": {
             "outlinewidth": 0,
             "tickcolor": "rgb(237,237,237)",
             "ticklen": 6,
             "ticks": "inside"
            },
            "colorscale": [
             [
              0,
              "rgb(20,44,66)"
             ],
             [
              1,
              "rgb(90,179,244)"
             ]
            ],
            "type": "histogram2dcontour"
           }
          ],
          "mesh3d": [
           {
            "colorbar": {
             "outlinewidth": 0,
             "tickcolor": "rgb(237,237,237)",
             "ticklen": 6,
             "ticks": "inside"
            },
            "type": "mesh3d"
           }
          ],
          "parcoords": [
           {
            "line": {
             "colorbar": {
              "outlinewidth": 0,
              "tickcolor": "rgb(237,237,237)",
              "ticklen": 6,
              "ticks": "inside"
             }
            },
            "type": "parcoords"
           }
          ],
          "pie": [
           {
            "automargin": true,
            "type": "pie"
           }
          ],
          "scatter": [
           {
            "fillpattern": {
             "fillmode": "overlay",
             "size": 10,
             "solidity": 0.2
            },
            "type": "scatter"
           }
          ],
          "scatter3d": [
           {
            "line": {
             "colorbar": {
              "outlinewidth": 0,
              "tickcolor": "rgb(237,237,237)",
              "ticklen": 6,
              "ticks": "inside"
             }
            },
            "marker": {
             "colorbar": {
              "outlinewidth": 0,
              "tickcolor": "rgb(237,237,237)",
              "ticklen": 6,
              "ticks": "inside"
             }
            },
            "type": "scatter3d"
           }
          ],
          "scattercarpet": [
           {
            "marker": {
             "colorbar": {
              "outlinewidth": 0,
              "tickcolor": "rgb(237,237,237)",
              "ticklen": 6,
              "ticks": "inside"
             }
            },
            "type": "scattercarpet"
           }
          ],
          "scattergeo": [
           {
            "marker": {
             "colorbar": {
              "outlinewidth": 0,
              "tickcolor": "rgb(237,237,237)",
              "ticklen": 6,
              "ticks": "inside"
             }
            },
            "type": "scattergeo"
           }
          ],
          "scattergl": [
           {
            "marker": {
             "colorbar": {
              "outlinewidth": 0,
              "tickcolor": "rgb(237,237,237)",
              "ticklen": 6,
              "ticks": "inside"
             }
            },
            "type": "scattergl"
           }
          ],
          "scattermapbox": [
           {
            "marker": {
             "colorbar": {
              "outlinewidth": 0,
              "tickcolor": "rgb(237,237,237)",
              "ticklen": 6,
              "ticks": "inside"
             }
            },
            "type": "scattermapbox"
           }
          ],
          "scatterpolar": [
           {
            "marker": {
             "colorbar": {
              "outlinewidth": 0,
              "tickcolor": "rgb(237,237,237)",
              "ticklen": 6,
              "ticks": "inside"
             }
            },
            "type": "scatterpolar"
           }
          ],
          "scatterpolargl": [
           {
            "marker": {
             "colorbar": {
              "outlinewidth": 0,
              "tickcolor": "rgb(237,237,237)",
              "ticklen": 6,
              "ticks": "inside"
             }
            },
            "type": "scatterpolargl"
           }
          ],
          "scatterternary": [
           {
            "marker": {
             "colorbar": {
              "outlinewidth": 0,
              "tickcolor": "rgb(237,237,237)",
              "ticklen": 6,
              "ticks": "inside"
             }
            },
            "type": "scatterternary"
           }
          ],
          "surface": [
           {
            "colorbar": {
             "outlinewidth": 0,
             "tickcolor": "rgb(237,237,237)",
             "ticklen": 6,
             "ticks": "inside"
            },
            "colorscale": [
             [
              0,
              "rgb(20,44,66)"
             ],
             [
              1,
              "rgb(90,179,244)"
             ]
            ],
            "type": "surface"
           }
          ],
          "table": [
           {
            "cells": {
             "fill": {
              "color": "rgb(237,237,237)"
             },
             "line": {
              "color": "white"
             }
            },
            "header": {
             "fill": {
              "color": "rgb(217,217,217)"
             },
             "line": {
              "color": "white"
             }
            },
            "type": "table"
           }
          ]
         },
         "layout": {
          "annotationdefaults": {
           "arrowhead": 0,
           "arrowwidth": 1
          },
          "autotypenumbers": "strict",
          "coloraxis": {
           "colorbar": {
            "outlinewidth": 0,
            "tickcolor": "rgb(237,237,237)",
            "ticklen": 6,
            "ticks": "inside"
           }
          },
          "colorscale": {
           "sequential": [
            [
             0,
             "rgb(20,44,66)"
            ],
            [
             1,
             "rgb(90,179,244)"
            ]
           ],
           "sequentialminus": [
            [
             0,
             "rgb(20,44,66)"
            ],
            [
             1,
             "rgb(90,179,244)"
            ]
           ]
          },
          "colorway": [
           "#F8766D",
           "#A3A500",
           "#00BF7D",
           "#00B0F6",
           "#E76BF3"
          ],
          "font": {
           "color": "rgb(51,51,51)"
          },
          "geo": {
           "bgcolor": "white",
           "lakecolor": "white",
           "landcolor": "rgb(237,237,237)",
           "showlakes": true,
           "showland": true,
           "subunitcolor": "white"
          },
          "hoverlabel": {
           "align": "left"
          },
          "hovermode": "closest",
          "paper_bgcolor": "white",
          "plot_bgcolor": "rgb(237,237,237)",
          "polar": {
           "angularaxis": {
            "gridcolor": "white",
            "linecolor": "white",
            "showgrid": true,
            "tickcolor": "rgb(51,51,51)",
            "ticks": "outside"
           },
           "bgcolor": "rgb(237,237,237)",
           "radialaxis": {
            "gridcolor": "white",
            "linecolor": "white",
            "showgrid": true,
            "tickcolor": "rgb(51,51,51)",
            "ticks": "outside"
           }
          },
          "scene": {
           "xaxis": {
            "backgroundcolor": "rgb(237,237,237)",
            "gridcolor": "white",
            "gridwidth": 2,
            "linecolor": "white",
            "showbackground": true,
            "showgrid": true,
            "tickcolor": "rgb(51,51,51)",
            "ticks": "outside",
            "zerolinecolor": "white"
           },
           "yaxis": {
            "backgroundcolor": "rgb(237,237,237)",
            "gridcolor": "white",
            "gridwidth": 2,
            "linecolor": "white",
            "showbackground": true,
            "showgrid": true,
            "tickcolor": "rgb(51,51,51)",
            "ticks": "outside",
            "zerolinecolor": "white"
           },
           "zaxis": {
            "backgroundcolor": "rgb(237,237,237)",
            "gridcolor": "white",
            "gridwidth": 2,
            "linecolor": "white",
            "showbackground": true,
            "showgrid": true,
            "tickcolor": "rgb(51,51,51)",
            "ticks": "outside",
            "zerolinecolor": "white"
           }
          },
          "shapedefaults": {
           "fillcolor": "black",
           "line": {
            "width": 0
           },
           "opacity": 0.3
          },
          "ternary": {
           "aaxis": {
            "gridcolor": "white",
            "linecolor": "white",
            "showgrid": true,
            "tickcolor": "rgb(51,51,51)",
            "ticks": "outside"
           },
           "baxis": {
            "gridcolor": "white",
            "linecolor": "white",
            "showgrid": true,
            "tickcolor": "rgb(51,51,51)",
            "ticks": "outside"
           },
           "bgcolor": "rgb(237,237,237)",
           "caxis": {
            "gridcolor": "white",
            "linecolor": "white",
            "showgrid": true,
            "tickcolor": "rgb(51,51,51)",
            "ticks": "outside"
           }
          },
          "xaxis": {
           "automargin": true,
           "gridcolor": "white",
           "linecolor": "white",
           "showgrid": true,
           "tickcolor": "rgb(51,51,51)",
           "ticks": "outside",
           "title": {
            "standoff": 15
           },
           "zerolinecolor": "white"
          },
          "yaxis": {
           "automargin": true,
           "gridcolor": "white",
           "linecolor": "white",
           "showgrid": true,
           "tickcolor": "rgb(51,51,51)",
           "ticks": "outside",
           "title": {
            "standoff": 15
           },
           "zerolinecolor": "white"
          }
         }
        },
        "xaxis": {
         "anchor": "y",
         "domain": [
          0,
          1
         ]
        },
        "yaxis": {
         "anchor": "x",
         "domain": [
          0,
          1
         ],
         "title": {
          "text": "Age"
         }
        }
       }
      }
     },
     "metadata": {},
     "output_type": "display_data"
    }
   ],
   "source": [
    "#Diagrama de caja:\n",
    "fig1 = px.box(df1, y='Age', template='ggplot2')\n",
    "fig1.show()"
   ]
  },
  {
   "cell_type": "markdown",
   "metadata": {},
   "source": [
    "<font color = 'Cadetblue'> Observamos que no existen muchos valores atípicos, por lo que el cálculo de la media de edad no se verá afectada por estos valores."
   ]
  },
  {
   "cell_type": "markdown",
   "metadata": {},
   "source": [
    "<font color = 'Cadetblue'> Una vez hemos visto que es posible utilizar la media, procedemos a su calculo. Se ha decidido calcular la media con dos muestras:\n",
    "- Excluyendo de la muestra todos aquellos pasajeros que no informaron de su edad.\n",
    "- Incluyendo la media o mediana de la edad en aquellos pasajeros que no informaron de su edad.\n",
    "\n",
    "Para este análisis, tendremos en cuenta nuestro df1, ya que es el que contempla los pasajeros afectados, excluyendo los que no han embarcado."
   ]
  },
  {
   "cell_type": "code",
   "execution_count": 15,
   "metadata": {},
   "outputs": [
    {
     "name": "stdout",
     "output_type": "stream",
     "text": [
      "La media de edad de los pasajeros que embarcaron y considerando solo los pasajeros cuya edad está informada fue de 29 años\n"
     ]
    }
   ],
   "source": [
    "\"\"\"\n",
    "CALCULO DE LA MEDIA EXCLUYENDO A AQUELLOS PASAJEROS DE LOS CUALES NO SE DISPONE INFORMACIÓN SOBRE SU EDAD\n",
    "\n",
    "\"\"\"\n",
    "\n",
    "#Debido a que el análisis se quiere realizar sobre los afectados, utilizamos el df1 ya que es el que excluye a los pasajeros que no embarcaron.\n",
    "#Primero vamos a filtrar los valores que no son 0:\n",
    "\n",
    "edad_filtrada = df1[df1['Age'] != 0]\n",
    "\n",
    "#calculamos la media sobre esta nueva muestra:\n",
    "\n",
    "media_edad = edad_filtrada['Age'].mean()\n",
    "\n",
    "#la convertimos a tipo 'int'\n",
    "media_edad = media_edad.astype(int)\n",
    "\n",
    "print('La media de edad de los pasajeros que embarcaron y considerando solo los pasajeros cuya edad está informada fue de', media_edad, 'años')"
   ]
  },
  {
   "cell_type": "code",
   "execution_count": 16,
   "metadata": {},
   "outputs": [],
   "source": [
    "\"\"\"\n",
    "CALCULO DE LA MEDIA INCLUYENDO LA MEDIA PARA AQUELLOS PASAJEROS DE LOS CUALES NO SE DISPONE INFORMACIÓN SOBRE SU EDAD\n",
    "\n",
    "\"\"\"\n",
    "\n",
    "#vamos a hacer lo mismo, pero tomando la media en aquellos casos en los que no disponemos de la edad:\n",
    "\n",
    "if (df1['Age'] == 0).any(): #si la edad = 0\n",
    "    df1['Age'].replace(0, df1['Age'].mean(), inplace = True) #sustituyelo por la media de edad\n"
   ]
  },
  {
   "cell_type": "code",
   "execution_count": 17,
   "metadata": {},
   "outputs": [
    {
     "name": "stdout",
     "output_type": "stream",
     "text": [
      "La media de edad de los pasajeros que embarcaron y considerando la media para aquellos que no viene informada fue de 28 años\n"
     ]
    }
   ],
   "source": [
    "#calculamos ahora la media:\n",
    "\n",
    "media_edad_2 = df1['Age'].mean()\n",
    "media_edad_2\n",
    "\n",
    "#la convertimos a tipo 'int'\n",
    "media_edad_2 = media_edad_2.astype(int)\n",
    "\n",
    "print('La media de edad de los pasajeros que embarcaron y considerando la media para aquellos que no viene informada fue de', media_edad_2, 'años')\n",
    "\n"
   ]
  },
  {
   "cell_type": "markdown",
   "metadata": {},
   "source": [
    "<font color = 'Lightcyan'> ¿Cómo se distribuyen las edades entre los pasajeros que han sobrevivido y los que han fallecido?"
   ]
  },
  {
   "cell_type": "code",
   "execution_count": 18,
   "metadata": {},
   "outputs": [
    {
     "data": {
      "image/png": "[encoded data removed]",
      "text/plain": [
       "<Figure size 640x480 with 1 Axes>"
      ]
     },
     "metadata": {},
     "output_type": "display_data"
    }
   ],
   "source": [
    "# Primero filtramos los pasajeros que han sobrevivido y los que han fallecido y accedemos a sus edades, guardando todo en las variables 'age_survived' y 'age_not_survived'\n",
    "edad_superv = df1[df1['Survived'] == 1]['Age']\n",
    "edad_fallec = df1[df1['Survived'] == 0]['Age']\n",
    "\n",
    "# Crear el histograma\n",
    "plt.hist(edad_superv, bins=20, alpha=0.5, label='Supervivientes') #una de las barras del histograma representará, las edades de los que han sobrevivido\n",
    "plt.hist(edad_fallec, bins=20, alpha=0.5, label='Fallecidos') #la otra barra representará las edades de los que han sobrevivido\n",
    "\n",
    "# Ponemos el nombre a los ejes y el titulo\n",
    "plt.xlabel('Edad')\n",
    "plt.ylabel('Frecuencia')\n",
    "plt.title('Histograma de Edades de supervivientes vs. fallecidos')\n",
    "plt.legend()\n",
    "\n",
    "# Mostrar el histograma\n",
    "plt.show()"
   ]
  },
  {
   "cell_type": "markdown",
   "metadata": {},
   "source": [
    "<font color = 'Cadetblue'> Se observa que la mayor parte de las edades se concentra en el ragno 15-35 años, tanto para los supervivientes como para los fallecidos."
   ]
  },
  {
   "cell_type": "markdown",
   "metadata": {},
   "source": [
    "### <font color = 'Lightcyan'> Analisis de precios"
   ]
  },
  {
   "cell_type": "markdown",
   "metadata": {},
   "source": [
    "<font color = 'Cadetblue'> Para llevar a cabo este análisis, utilizaremos nuestro DF orginal (el que contiene toda la muestra) ya que los precios de los pasajeros que no embarcaron tambien tiene logica tenerlos en cuenta."
   ]
  },
  {
   "cell_type": "markdown",
   "metadata": {},
   "source": [
    "<font color = 'Lightcyan'> ¿Cual es el precio medio o mediana de cada clase?"
   ]
  },
  {
   "cell_type": "markdown",
   "metadata": {},
   "source": [
    " <font color = 'Cadetblue'> Al igual que en la variable 'Edad', como primer paso vamos a ver cómo se distribuye la variable 'Fare', para poder tomar la decision sobre si utilizar la media o la mediana."
   ]
  },
  {
   "cell_type": "code",
   "execution_count": 19,
   "metadata": {},
   "outputs": [
    {
     "data": {
      "application/vnd.plotly.v1+json": {
       "config": {
        "plotlyServerURL": "https://plot.ly"
       },
       "data": [
        {
         "alignmentgroup": "True",
         "hovertemplate": "Fare=%{y}<extra></extra>",
         "legendgroup": "",
         "marker": {
          "color": "#F8766D"
         },
         "name": "",
         "notched": false,
         "offsetgroup": "",
         "orientation": "v",
         "showlegend": false,
         "type": "box",
         "x0": " ",
         "xaxis": "x",
         "y": [
          7.25,
          71.28,
          7.92,
          53.1,
          8.05,
          8.46,
          51.86,
          21.08,
          11.13,
          30.07,
          16.7,
          26.55,
          8.05,
          31.28,
          7.85,
          16,
          29.12,
          13,
          18,
          7.22,
          26,
          13,
          8.03,
          35.5,
          21.08,
          31.39,
          7.22,
          263,
          7.88,
          7.9,
          27.72,
          146.52,
          7.75,
          10.5,
          82.17,
          52,
          7.23,
          8.05,
          18,
          11.24,
          9.48,
          21,
          7.9,
          41.58,
          7.88,
          8.05,
          15.5,
          7.75,
          21.68,
          17.8,
          39.69,
          7.8,
          76.73,
          26,
          61.98,
          35.5,
          10.5,
          7.23,
          27.75,
          46.9,
          7.23,
          80,
          83.48,
          27.9,
          27.72,
          15.25,
          10.5,
          8.16,
          7.92,
          8.66,
          10.5,
          46.9,
          73.5,
          14.45,
          56.5,
          7.65,
          7.9,
          8.05,
          29,
          12.48,
          9,
          9.5,
          7.79,
          47.1,
          10.5,
          15.85,
          34.38,
          8.05,
          263,
          8.05,
          8.05,
          7.85,
          61.18,
          20.58,
          7.25,
          8.05,
          34.65,
          63.36,
          23,
          26,
          7.9,
          7.9,
          77.29,
          8.65,
          7.92,
          7.9,
          7.65,
          7.78,
          7.9,
          24.15,
          52,
          14.45,
          8.05,
          9.82,
          14.46,
          7.92,
          7.75,
          21,
          247.52,
          31.28,
          73.5,
          8.05,
          30.07,
          13,
          77.29,
          11.24,
          7.75,
          7.14,
          22.36,
          6.98,
          7.9,
          7.05,
          14.5,
          26,
          13,
          15.05,
          26.28,
          53.1,
          9.22,
          79.2,
          15.25,
          7.75,
          15.85,
          6.75,
          11.5,
          36.75,
          7.8,
          34.38,
          26,
          13,
          12.52,
          66.6,
          8.05,
          14.5,
          7.31,
          61.38,
          7.73,
          8.05,
          8.66,
          69.55,
          16.1,
          15.75,
          7.78,
          8.66,
          39.69,
          20.52,
          55,
          27.9,
          25.92,
          56.5,
          33.5,
          29.12,
          11.13,
          7.92,
          30.7,
          7.85,
          25.47,
          28.71,
          13,
          0,
          69.55,
          15.05,
          31.39,
          39,
          22.02,
          50,
          15.5,
          26.55,
          15.5,
          7.9,
          13,
          13,
          7.85,
          26,
          27.72,
          146.52,
          7.75,
          8.4,
          7.75,
          13,
          9.5,
          69.55,
          6.5,
          7.22,
          8.05,
          10.46,
          15.85,
          18.79,
          7.75,
          31,
          7.05,
          21,
          7.25,
          13,
          7.75,
          113.28,
          7.92,
          27,
          76.29,
          10.5,
          8.05,
          13,
          8.05,
          7.9,
          90,
          9.35,
          10.5,
          7.25,
          13,
          25.47,
          83.48,
          7.78,
          13.5,
          31.39,
          10.5,
          7.55,
          26,
          26.25,
          10.5,
          12.28,
          14.45,
          15.5,
          10.5,
          7.12,
          7.22,
          90,
          7.78,
          14.5,
          52.55,
          26,
          7.25,
          10.46,
          26.55,
          16.1,
          20.21,
          15.25,
          79.2,
          86.5,
          512.33,
          26,
          7.75,
          31.39,
          79.65,
          0,
          7.75,
          10.5,
          39.69,
          7.78,
          153.46,
          135.63,
          31,
          0,
          19.5,
          29.7,
          7.75,
          77.96,
          7.75,
          0,
          29.12,
          20.25,
          7.75,
          7.85,
          9.5,
          8.05,
          26,
          8.66,
          9.5,
          7.9,
          13,
          7.75,
          78.85,
          91.08,
          12.88,
          8.85,
          7.9,
          27.72,
          7.23,
          151.55,
          30.5,
          247.52,
          7.75,
          23.25,
          0,
          12.35,
          8.05,
          151.55,
          110.88,
          108.9,
          24,
          56.93,
          83.16,
          262.38,
          26,
          7.9,
          26.25,
          7.85,
          26,
          14,
          164.87,
          134.5,
          7.25,
          7.9,
          12.35,
          29,
          69.55,
          135.63,
          6.24,
          13,
          20.52,
          57.98,
          23.25,
          28.5,
          153.46,
          18,
          133.65,
          7.9,
          66.6,
          134.5,
          8.05,
          35.5,
          26,
          263,
          13,
          13,
          13,
          13,
          13,
          16.1,
          15.9,
          8.66,
          9.22,
          35,
          7.23,
          17.8,
          7.22,
          9.5,
          55,
          13,
          7.88,
          7.88,
          27.9,
          27.72,
          14.45,
          7.05,
          15.5,
          7.25,
          75.25,
          7.23,
          7.75,
          69.3,
          55.44,
          6.5,
          8.05,
          135.63,
          21.08,
          82.17,
          7.25,
          211.5,
          4.01,
          7.78,
          227.52,
          15.74,
          7.92,
          52,
          7.9,
          73.5,
          46.9,
          13,
          7.73,
          12,
          120,
          7.8,
          7.92,
          113.28,
          16.7,
          7.8,
          7.85,
          26,
          10.5,
          12.65,
          7.92,
          8.05,
          9.82,
          15.85,
          8.66,
          21,
          7.75,
          18.75,
          7.78,
          25.47,
          7.9,
          6.86,
          90,
          0,
          7.92,
          8.05,
          32.5,
          13,
          13,
          24.15,
          7.9,
          7.73,
          7.88,
          14.4,
          20.21,
          7.25,
          26,
          26,
          7.75,
          8.05,
          26.55,
          16.1,
          26,
          7.12,
          55.9,
          120,
          34.38,
          18.75,
          263,
          10.5,
          26.25,
          9.5,
          7.78,
          13,
          8.11,
          81.86,
          19.5,
          26.55,
          19.26,
          30.5,
          27.75,
          19.97,
          27.75,
          89.1,
          8.05,
          7.9,
          26.55,
          51.86,
          10.5,
          7.75,
          26.55,
          8.05,
          38.5,
          13,
          8.05,
          7.05,
          0,
          26.55,
          7.72,
          19.26,
          7.25,
          8.66,
          27.75,
          13.79,
          9.84,
          52,
          21,
          7.05,
          7.52,
          12.29,
          46.9,
          0,
          8.05,
          9.59,
          91.08,
          25.47,
          90,
          29.7,
          8.05,
          15.9,
          19.97,
          7.25,
          30.5,
          49.5,
          8.05,
          14.46,
          78.27,
          15.1,
          151.55,
          7.8,
          8.66,
          7.75,
          7.63,
          9.59,
          86.5,
          108.9,
          26,
          26.55,
          22.52,
          56.5,
          7.75,
          8.05,
          26.29,
          59.4,
          7.5,
          34.02,
          10.5,
          24.15,
          26,
          7.9,
          93.5,
          7.9,
          7.22,
          57.98,
          7.23,
          7.75,
          10.5,
          221.78,
          7.92,
          11.5,
          26,
          7.23,
          7.23,
          22.36,
          8.66,
          26.25,
          26.55,
          106.42,
          14.5,
          49.5,
          71,
          31.28,
          31.28,
          26,
          106.42,
          26,
          26,
          13.86,
          20.52,
          36.75,
          110.88,
          26,
          7.83,
          7.22,
          7.78,
          26.55,
          39.6,
          227.52,
          79.65,
          17.4,
          7.75,
          7.9,
          13.5,
          8.05,
          8.05,
          24.15,
          7.9,
          21.08,
          7.23,
          7.85,
          10.5,
          51.48,
          26.39,
          7.75,
          8.05,
          14.5,
          13,
          55.9,
          14.46,
          7.92,
          30,
          110.88,
          26,
          40.12,
          8.71,
          79.65,
          15,
          79.2,
          8.05,
          8.05,
          7.12,
          78.27,
          7.25,
          7.75,
          26,
          24.15,
          33,
          0,
          7.22,
          56.93,
          27,
          7.9,
          42.4,
          8.05,
          26.55,
          15.55,
          7.9,
          30.5,
          41.58,
          153.46,
          31.28,
          7.05,
          15.5,
          7.75,
          8.05,
          65,
          14.4,
          16.1,
          39,
          10.5,
          14.45,
          52.55,
          15.74,
          7.85,
          16.1,
          32.32,
          12.35,
          77.96,
          7.9,
          7.73,
          30,
          7.05,
          30.5,
          0,
          27.9,
          13,
          7.92,
          26.25,
          39.69,
          16.1,
          7.85,
          69.3,
          27.9,
          56.5,
          19.26,
          76.73,
          7.9,
          35.5,
          7.55,
          7.55,
          7.9,
          23,
          8.43,
          7.83,
          6.75,
          73.5,
          7.9,
          15.5,
          13,
          113.28,
          133.65,
          7.22,
          25.59,
          7.5,
          7.92,
          73.5,
          13,
          7.78,
          8.05,
          52,
          39,
          52,
          10.5,
          13,
          0,
          7.78,
          8.05,
          9.84,
          46.9,
          512.33,
          8.14,
          76.73,
          9.22,
          46.9,
          39,
          41.58,
          39.69,
          10.17,
          7.8,
          211.34,
          57,
          13.42,
          56.5,
          7.22,
          26.55,
          13.5,
          8.05,
          7.73,
          110.88,
          7.65,
          227.52,
          26.29,
          14.45,
          7.74,
          7.85,
          26,
          13.5,
          26.29,
          151.55,
          15.25,
          49.5,
          26.55,
          52,
          9.48,
          13,
          7.65,
          227.52,
          10.5,
          15.5,
          7.78,
          33,
          7.05,
          13,
          13,
          53.1,
          8.66,
          21,
          7.74,
          26,
          7.92,
          211.34,
          18.79,
          0,
          13,
          13,
          16.1,
          34.38,
          512.33,
          7.9,
          7.9,
          30,
          78.85,
          262.38,
          16.1,
          7.92,
          71,
          20.25,
          13,
          53.1,
          7.75,
          23,
          12.48,
          9.5,
          7.9,
          65,
          14.5,
          7.8,
          11.5,
          8.05,
          86.5,
          14.5,
          7.12,
          7.23,
          120,
          7.78,
          77.96,
          39.6,
          7.75,
          24.15,
          8.36,
          9.5,
          7.85,
          10.5,
          7.22,
          23,
          7.75,
          7.75,
          12.48,
          7.74,
          211.34,
          7.23,
          57,
          30,
          23.45,
          7.05,
          7.25,
          7.5,
          29.12,
          20.58,
          79.2,
          7.75,
          26,
          69.55,
          30.7,
          7.9,
          13,
          25.93,
          8.68,
          7.23,
          24.15,
          13,
          26.25,
          120,
          8.52,
          6.98,
          7.78,
          0,
          7.78,
          13,
          53.1,
          7.89,
          24.15,
          10.5,
          31.28,
          8.05,
          0,
          7.92,
          37,
          6.45,
          27.9,
          93.5,
          8.66,
          0,
          12.48,
          39.69,
          6.95,
          56.5,
          37,
          7.75,
          80,
          14.45,
          18.75,
          7.23,
          7.85,
          8.3,
          83.16,
          8.66,
          8.05,
          56.5,
          29.7,
          7.92,
          10.5,
          31,
          6.44,
          8.66,
          7.55,
          69.55,
          7.9,
          33,
          89.1,
          31.28,
          7.78,
          15.25,
          39.4,
          26,
          9.35,
          164.87,
          26.55,
          19.26,
          7.23,
          14.11,
          11.5,
          25.93,
          69.55,
          13,
          13,
          13.86,
          50.5,
          9.5,
          11.13,
          7.9,
          52.55,
          5,
          9,
          24,
          7.22,
          9.85,
          7.9,
          7.9,
          83.16,
          26,
          7.9,
          10.52,
          10.5,
          7.05,
          29.12,
          13,
          30,
          23.45,
          30,
          7.75
         ],
         "y0": " ",
         "yaxis": "y"
        }
       ],
       "layout": {
        "boxmode": "group",
        "legend": {
         "tracegroupgap": 0
        },
        "margin": {
         "t": 60
        },
        "template": {
         "data": {
          "bar": [
           {
            "error_x": {
             "color": "rgb(51,51,51)"
            },
            "error_y": {
             "color": "rgb(51,51,51)"
            },
            "marker": {
             "line": {
              "color": "rgb(237,237,237)",
              "width": 0.5
             },
             "pattern": {
              "fillmode": "overlay",
              "size": 10,
              "solidity": 0.2
             }
            },
            "type": "bar"
           }
          ],
          "barpolar": [
           {
            "marker": {
             "line": {
              "color": "rgb(237,237,237)",
              "width": 0.5
             },
             "pattern": {
              "fillmode": "overlay",
              "size": 10,
              "solidity": 0.2
             }
            },
            "type": "barpolar"
           }
          ],
          "carpet": [
           {
            "aaxis": {
             "endlinecolor": "rgb(51,51,51)",
             "gridcolor": "white",
             "linecolor": "white",
             "minorgridcolor": "white",
             "startlinecolor": "rgb(51,51,51)"
            },
            "baxis": {
             "endlinecolor": "rgb(51,51,51)",
             "gridcolor": "white",
             "linecolor": "white",
             "minorgridcolor": "white",
             "startlinecolor": "rgb(51,51,51)"
            },
            "type": "carpet"
           }
          ],
          "choropleth": [
           {
            "colorbar": {
             "outlinewidth": 0,
             "tickcolor": "rgb(237,237,237)",
             "ticklen": 6,
             "ticks": "inside"
            },
            "type": "choropleth"
           }
          ],
          "contour": [
           {
            "colorbar": {
             "outlinewidth": 0,
             "tickcolor": "rgb(237,237,237)",
             "ticklen": 6,
             "ticks": "inside"
            },
            "colorscale": [
             [
              0,
              "rgb(20,44,66)"
             ],
             [
              1,
              "rgb(90,179,244)"
             ]
            ],
            "type": "contour"
           }
          ],
          "contourcarpet": [
           {
            "colorbar": {
             "outlinewidth": 0,
             "tickcolor": "rgb(237,237,237)",
             "ticklen": 6,
             "ticks": "inside"
            },
            "type": "contourcarpet"
           }
          ],
          "heatmap": [
           {
            "colorbar": {
             "outlinewidth": 0,
             "tickcolor": "rgb(237,237,237)",
             "ticklen": 6,
             "ticks": "inside"
            },
            "colorscale": [
             [
              0,
              "rgb(20,44,66)"
             ],
             [
              1,
              "rgb(90,179,244)"
             ]
            ],
            "type": "heatmap"
           }
          ],
          "heatmapgl": [
           {
            "colorbar": {
             "outlinewidth": 0,
             "tickcolor": "rgb(237,237,237)",
             "ticklen": 6,
             "ticks": "inside"
            },
            "colorscale": [
             [
              0,
              "rgb(20,44,66)"
             ],
             [
              1,
              "rgb(90,179,244)"
             ]
            ],
            "type": "heatmapgl"
           }
          ],
          "histogram": [
           {
            "marker": {
             "pattern": {
              "fillmode": "overlay",
              "size": 10,
              "solidity": 0.2
             }
            },
            "type": "histogram"
           }
          ],
          "histogram2d": [
           {
            "colorbar": {
             "outlinewidth": 0,
             "tickcolor": "rgb(237,237,237)",
             "ticklen": 6,
             "ticks": "inside"
            },
            "colorscale": [
             [
              0,
              "rgb(20,44,66)"
             ],
             [
              1,
              "rgb(90,179,244)"
             ]
            ],
            "type": "histogram2d"
           }
          ],
          "histogram2dcontour": [
           {
            "colorbar": {
             "outlinewidth": 0,
             "tickcolor": "rgb(237,237,237)",
             "ticklen": 6,
             "ticks": "inside"
            },
            "colorscale": [
             [
              0,
              "rgb(20,44,66)"
             ],
             [
              1,
              "rgb(90,179,244)"
             ]
            ],
            "type": "histogram2dcontour"
           }
          ],
          "mesh3d": [
           {
            "colorbar": {
             "outlinewidth": 0,
             "tickcolor": "rgb(237,237,237)",
             "ticklen": 6,
             "ticks": "inside"
            },
            "type": "mesh3d"
           }
          ],
          "parcoords": [
           {
            "line": {
             "colorbar": {
              "outlinewidth": 0,
              "tickcolor": "rgb(237,237,237)",
              "ticklen": 6,
              "ticks": "inside"
             }
            },
            "type": "parcoords"
           }
          ],
          "pie": [
           {
            "automargin": true,
            "type": "pie"
           }
          ],
          "scatter": [
           {
            "fillpattern": {
             "fillmode": "overlay",
             "size": 10,
             "solidity": 0.2
            },
            "type": "scatter"
           }
          ],
          "scatter3d": [
           {
            "line": {
             "colorbar": {
              "outlinewidth": 0,
              "tickcolor": "rgb(237,237,237)",
              "ticklen": 6,
              "ticks": "inside"
             }
            },
            "marker": {
             "colorbar": {
              "outlinewidth": 0,
              "tickcolor": "rgb(237,237,237)",
              "ticklen": 6,
              "ticks": "inside"
             }
            },
            "type": "scatter3d"
           }
          ],
          "scattercarpet": [
           {
            "marker": {
             "colorbar": {
              "outlinewidth": 0,
              "tickcolor": "rgb(237,237,237)",
              "ticklen": 6,
              "ticks": "inside"
             }
            },
            "type": "scattercarpet"
           }
          ],
          "scattergeo": [
           {
            "marker": {
             "colorbar": {
              "outlinewidth": 0,
              "tickcolor": "rgb(237,237,237)",
              "ticklen": 6,
              "ticks": "inside"
             }
            },
            "type": "scattergeo"
           }
          ],
          "scattergl": [
           {
            "marker": {
             "colorbar": {
              "outlinewidth": 0,
              "tickcolor": "rgb(237,237,237)",
              "ticklen": 6,
              "ticks": "inside"
             }
            },
            "type": "scattergl"
           }
          ],
          "scattermapbox": [
           {
            "marker": {
             "colorbar": {
              "outlinewidth": 0,
              "tickcolor": "rgb(237,237,237)",
              "ticklen": 6,
              "ticks": "inside"
             }
            },
            "type": "scattermapbox"
           }
          ],
          "scatterpolar": [
           {
            "marker": {
             "colorbar": {
              "outlinewidth": 0,
              "tickcolor": "rgb(237,237,237)",
              "ticklen": 6,
              "ticks": "inside"
             }
            },
            "type": "scatterpolar"
           }
          ],
          "scatterpolargl": [
           {
            "marker": {
             "colorbar": {
              "outlinewidth": 0,
              "tickcolor": "rgb(237,237,237)",
              "ticklen": 6,
              "ticks": "inside"
             }
            },
            "type": "scatterpolargl"
           }
          ],
          "scatterternary": [
           {
            "marker": {
             "colorbar": {
              "outlinewidth": 0,
              "tickcolor": "rgb(237,237,237)",
              "ticklen": 6,
              "ticks": "inside"
             }
            },
            "type": "scatterternary"
           }
          ],
          "surface": [
           {
            "colorbar": {
             "outlinewidth": 0,
             "tickcolor": "rgb(237,237,237)",
             "ticklen": 6,
             "ticks": "inside"
            },
            "colorscale": [
             [
              0,
              "rgb(20,44,66)"
             ],
             [
              1,
              "rgb(90,179,244)"
             ]
            ],
            "type": "surface"
           }
          ],
          "table": [
           {
            "cells": {
             "fill": {
              "color": "rgb(237,237,237)"
             },
             "line": {
              "color": "white"
             }
            },
            "header": {
             "fill": {
              "color": "rgb(217,217,217)"
             },
             "line": {
              "color": "white"
             }
            },
            "type": "table"
           }
          ]
         },
         "layout": {
          "annotationdefaults": {
           "arrowhead": 0,
           "arrowwidth": 1
          },
          "autotypenumbers": "strict",
          "coloraxis": {
           "colorbar": {
            "outlinewidth": 0,
            "tickcolor": "rgb(237,237,237)",
            "ticklen": 6,
            "ticks": "inside"
           }
          },
          "colorscale": {
           "sequential": [
            [
             0,
             "rgb(20,44,66)"
            ],
            [
             1,
             "rgb(90,179,244)"
            ]
           ],
           "sequentialminus": [
            [
             0,
             "rgb(20,44,66)"
            ],
            [
             1,
             "rgb(90,179,244)"
            ]
           ]
          },
          "colorway": [
           "#F8766D",
           "#A3A500",
           "#00BF7D",
           "#00B0F6",
           "#E76BF3"
          ],
          "font": {
           "color": "rgb(51,51,51)"
          },
          "geo": {
           "bgcolor": "white",
           "lakecolor": "white",
           "landcolor": "rgb(237,237,237)",
           "showlakes": true,
           "showland": true,
           "subunitcolor": "white"
          },
          "hoverlabel": {
           "align": "left"
          },
          "hovermode": "closest",
          "paper_bgcolor": "white",
          "plot_bgcolor": "rgb(237,237,237)",
          "polar": {
           "angularaxis": {
            "gridcolor": "white",
            "linecolor": "white",
            "showgrid": true,
            "tickcolor": "rgb(51,51,51)",
            "ticks": "outside"
           },
           "bgcolor": "rgb(237,237,237)",
           "radialaxis": {
            "gridcolor": "white",
            "linecolor": "white",
            "showgrid": true,
            "tickcolor": "rgb(51,51,51)",
            "ticks": "outside"
           }
          },
          "scene": {
           "xaxis": {
            "backgroundcolor": "rgb(237,237,237)",
            "gridcolor": "white",
            "gridwidth": 2,
            "linecolor": "white",
            "showbackground": true,
            "showgrid": true,
            "tickcolor": "rgb(51,51,51)",
            "ticks": "outside",
            "zerolinecolor": "white"
           },
           "yaxis": {
            "backgroundcolor": "rgb(237,237,237)",
            "gridcolor": "white",
            "gridwidth": 2,
            "linecolor": "white",
            "showbackground": true,
            "showgrid": true,
            "tickcolor": "rgb(51,51,51)",
            "ticks": "outside",
            "zerolinecolor": "white"
           },
           "zaxis": {
            "backgroundcolor": "rgb(237,237,237)",
            "gridcolor": "white",
            "gridwidth": 2,
            "linecolor": "white",
            "showbackground": true,
            "showgrid": true,
            "tickcolor": "rgb(51,51,51)",
            "ticks": "outside",
            "zerolinecolor": "white"
           }
          },
          "shapedefaults": {
           "fillcolor": "black",
           "line": {
            "width": 0
           },
           "opacity": 0.3
          },
          "ternary": {
           "aaxis": {
            "gridcolor": "white",
            "linecolor": "white",
            "showgrid": true,
            "tickcolor": "rgb(51,51,51)",
            "ticks": "outside"
           },
           "baxis": {
            "gridcolor": "white",
            "linecolor": "white",
            "showgrid": true,
            "tickcolor": "rgb(51,51,51)",
            "ticks": "outside"
           },
           "bgcolor": "rgb(237,237,237)",
           "caxis": {
            "gridcolor": "white",
            "linecolor": "white",
            "showgrid": true,
            "tickcolor": "rgb(51,51,51)",
            "ticks": "outside"
           }
          },
          "xaxis": {
           "automargin": true,
           "gridcolor": "white",
           "linecolor": "white",
           "showgrid": true,
           "tickcolor": "rgb(51,51,51)",
           "ticks": "outside",
           "title": {
            "standoff": 15
           },
           "zerolinecolor": "white"
          },
          "yaxis": {
           "automargin": true,
           "gridcolor": "white",
           "linecolor": "white",
           "showgrid": true,
           "tickcolor": "rgb(51,51,51)",
           "ticks": "outside",
           "title": {
            "standoff": 15
           },
           "zerolinecolor": "white"
          }
         }
        },
        "xaxis": {
         "anchor": "y",
         "domain": [
          0,
          1
         ]
        },
        "yaxis": {
         "anchor": "x",
         "domain": [
          0,
          1
         ],
         "title": {
          "text": "Fare"
         }
        }
       }
      }
     },
     "metadata": {},
     "output_type": "display_data"
    }
   ],
   "source": [
    "fig = px.box(df, y='Fare', template='ggplot2')\n",
    "fig.show()"
   ]
  },
  {
   "cell_type": "markdown",
   "metadata": {},
   "source": [
    "<font color = 'Cadetblue'> Se observa que la variable 'Fare' sí que presenta outliers que pueden alterar significativamente la media. Por este motivo, calcularemos la mediana."
   ]
  },
  {
   "cell_type": "code",
   "execution_count": 20,
   "metadata": {},
   "outputs": [
    {
     "name": "stdout",
     "output_type": "stream",
     "text": [
      "El precio medio de la clase 1 es: 60.29\n",
      "El precio medio de la clase 2 es: 14.25\n",
      "El precio medio de la clase 3 es: 8.05\n"
     ]
    }
   ],
   "source": [
    "#CLASE 1:\n",
    "#filtramos nuestro DF:\n",
    "Pclass_1 = df[df['Pclass'] == 1]\n",
    "\n",
    "#Accedemos a los precios de nuestro DF ya filtrado:\n",
    "Pclass1_precios = Pclass_1['Fare']\n",
    "\n",
    "#Hacemos la media\n",
    "Pclass1_mediana = Pclass1_precios.median()\n",
    "\n",
    "#CLASE 2:\n",
    "#ahora lo haremos en un solo paso:\n",
    "Pclass_2 = df[df['Pclass'] == 2]['Fare'].median()\n",
    "\n",
    "\n",
    "#CLASE 3:\n",
    "\n",
    "Pclass_3 = df[df['Pclass'] == 3]['Fare'].median()\n",
    "\n",
    "\n",
    "\n",
    "\n",
    "print('El precio medio de la clase 1 es:', Pclass1_mediana)\n",
    "print('El precio medio de la clase 2 es:', Pclass_2)\n",
    "print('El precio medio de la clase 3 es:', Pclass_3)"
   ]
  },
  {
   "cell_type": "markdown",
   "metadata": {},
   "source": [
    "<font color = 'Lightcyan'> ¿Cual es el precio medio por clase, diferenciando entre si el billete incluye camarote o no?"
   ]
  },
  {
   "cell_type": "markdown",
   "metadata": {},
   "source": [
    "<font color = 'Cadetblue'> Para llevar a cabo este ejercicio, tenemos que agrupar los diferentes camarotes asignados en una sola variable, para que después podamos agrupar entre los que sí que disponen de camarote y los que no. Para no alterar el df original, este cambio lo haremos en un nuevo df que llamaremos df2."
   ]
  },
  {
   "cell_type": "code",
   "execution_count": 21,
   "metadata": {},
   "outputs": [
    {
     "data": {
      "text/html": [
       "<div>\n",
       "<style scoped>\n",
       "    .dataframe tbody tr th:only-of-type {\n",
       "        vertical-align: middle;\n",
       "    }\n",
       "\n",
       "    .dataframe tbody tr th {\n",
       "        vertical-align: top;\n",
       "    }\n",
       "\n",
       "    .dataframe thead th {\n",
       "        text-align: right;\n",
       "    }\n",
       "</style>\n",
       "<table border=\"1\" class=\"dataframe\">\n",
       "  <thead>\n",
       "    <tr style=\"text-align: right;\">\n",
       "      <th></th>\n",
       "      <th>PassengerId</th>\n",
       "      <th>Survived</th>\n",
       "      <th>Pclass</th>\n",
       "      <th>Name</th>\n",
       "      <th>Sex</th>\n",
       "      <th>Age</th>\n",
       "      <th>SibSp</th>\n",
       "      <th>Parch</th>\n",
       "      <th>Ticket</th>\n",
       "      <th>Fare</th>\n",
       "      <th>Cabin</th>\n",
       "      <th>Embarked</th>\n",
       "    </tr>\n",
       "  </thead>\n",
       "  <tbody>\n",
       "    <tr>\n",
       "      <th>0</th>\n",
       "      <td>1</td>\n",
       "      <td>0</td>\n",
       "      <td>3</td>\n",
       "      <td>Braund, Mr. Owen Harris</td>\n",
       "      <td>male</td>\n",
       "      <td>22</td>\n",
       "      <td>1</td>\n",
       "      <td>0</td>\n",
       "      <td>A/5 21171</td>\n",
       "      <td>7.25</td>\n",
       "      <td>Sin cabina</td>\n",
       "      <td>S</td>\n",
       "    </tr>\n",
       "    <tr>\n",
       "      <th>1</th>\n",
       "      <td>2</td>\n",
       "      <td>1</td>\n",
       "      <td>1</td>\n",
       "      <td>Cumings, Mrs. John Bradley (Florence Briggs Th...</td>\n",
       "      <td>female</td>\n",
       "      <td>38</td>\n",
       "      <td>1</td>\n",
       "      <td>0</td>\n",
       "      <td>PC 17599</td>\n",
       "      <td>71.28</td>\n",
       "      <td>Con cabina</td>\n",
       "      <td>C</td>\n",
       "    </tr>\n",
       "    <tr>\n",
       "      <th>2</th>\n",
       "      <td>3</td>\n",
       "      <td>1</td>\n",
       "      <td>3</td>\n",
       "      <td>Heikkinen, Miss. Laina</td>\n",
       "      <td>female</td>\n",
       "      <td>26</td>\n",
       "      <td>0</td>\n",
       "      <td>0</td>\n",
       "      <td>STON/O2. 3101282</td>\n",
       "      <td>7.92</td>\n",
       "      <td>Sin cabina</td>\n",
       "      <td>S</td>\n",
       "    </tr>\n",
       "    <tr>\n",
       "      <th>3</th>\n",
       "      <td>4</td>\n",
       "      <td>1</td>\n",
       "      <td>1</td>\n",
       "      <td>Futrelle, Mrs. Jacques Heath (Lily May Peel)</td>\n",
       "      <td>female</td>\n",
       "      <td>35</td>\n",
       "      <td>1</td>\n",
       "      <td>0</td>\n",
       "      <td>113803</td>\n",
       "      <td>53.10</td>\n",
       "      <td>Con cabina</td>\n",
       "      <td>S</td>\n",
       "    </tr>\n",
       "    <tr>\n",
       "      <th>4</th>\n",
       "      <td>5</td>\n",
       "      <td>0</td>\n",
       "      <td>3</td>\n",
       "      <td>Allen, Mr. William Henry</td>\n",
       "      <td>male</td>\n",
       "      <td>35</td>\n",
       "      <td>0</td>\n",
       "      <td>0</td>\n",
       "      <td>373450</td>\n",
       "      <td>8.05</td>\n",
       "      <td>Sin cabina</td>\n",
       "      <td>S</td>\n",
       "    </tr>\n",
       "    <tr>\n",
       "      <th>...</th>\n",
       "      <td>...</td>\n",
       "      <td>...</td>\n",
       "      <td>...</td>\n",
       "      <td>...</td>\n",
       "      <td>...</td>\n",
       "      <td>...</td>\n",
       "      <td>...</td>\n",
       "      <td>...</td>\n",
       "      <td>...</td>\n",
       "      <td>...</td>\n",
       "      <td>...</td>\n",
       "      <td>...</td>\n",
       "    </tr>\n",
       "    <tr>\n",
       "      <th>886</th>\n",
       "      <td>887</td>\n",
       "      <td>0</td>\n",
       "      <td>2</td>\n",
       "      <td>Montvila, Rev. Juozas</td>\n",
       "      <td>male</td>\n",
       "      <td>27</td>\n",
       "      <td>0</td>\n",
       "      <td>0</td>\n",
       "      <td>211536</td>\n",
       "      <td>13.00</td>\n",
       "      <td>Sin cabina</td>\n",
       "      <td>S</td>\n",
       "    </tr>\n",
       "    <tr>\n",
       "      <th>887</th>\n",
       "      <td>888</td>\n",
       "      <td>1</td>\n",
       "      <td>1</td>\n",
       "      <td>Graham, Miss. Margaret Edith</td>\n",
       "      <td>female</td>\n",
       "      <td>19</td>\n",
       "      <td>0</td>\n",
       "      <td>0</td>\n",
       "      <td>112053</td>\n",
       "      <td>30.00</td>\n",
       "      <td>Con cabina</td>\n",
       "      <td>S</td>\n",
       "    </tr>\n",
       "    <tr>\n",
       "      <th>888</th>\n",
       "      <td>889</td>\n",
       "      <td>0</td>\n",
       "      <td>3</td>\n",
       "      <td>Johnston, Miss. Catherine Helen \"Carrie\"</td>\n",
       "      <td>female</td>\n",
       "      <td>0</td>\n",
       "      <td>1</td>\n",
       "      <td>2</td>\n",
       "      <td>W./C. 6607</td>\n",
       "      <td>23.45</td>\n",
       "      <td>Sin cabina</td>\n",
       "      <td>S</td>\n",
       "    </tr>\n",
       "    <tr>\n",
       "      <th>889</th>\n",
       "      <td>890</td>\n",
       "      <td>1</td>\n",
       "      <td>1</td>\n",
       "      <td>Behr, Mr. Karl Howell</td>\n",
       "      <td>male</td>\n",
       "      <td>26</td>\n",
       "      <td>0</td>\n",
       "      <td>0</td>\n",
       "      <td>111369</td>\n",
       "      <td>30.00</td>\n",
       "      <td>Con cabina</td>\n",
       "      <td>C</td>\n",
       "    </tr>\n",
       "    <tr>\n",
       "      <th>890</th>\n",
       "      <td>891</td>\n",
       "      <td>0</td>\n",
       "      <td>3</td>\n",
       "      <td>Dooley, Mr. Patrick</td>\n",
       "      <td>male</td>\n",
       "      <td>32</td>\n",
       "      <td>0</td>\n",
       "      <td>0</td>\n",
       "      <td>370376</td>\n",
       "      <td>7.75</td>\n",
       "      <td>Sin cabina</td>\n",
       "      <td>Q</td>\n",
       "    </tr>\n",
       "  </tbody>\n",
       "</table>\n",
       "<p>891 rows × 12 columns</p>\n",
       "</div>"
      ],
      "text/plain": [
       "     PassengerId  Survived  Pclass  \\\n",
       "0              1         0       3   \n",
       "1              2         1       1   \n",
       "2              3         1       3   \n",
       "3              4         1       1   \n",
       "4              5         0       3   \n",
       "..           ...       ...     ...   \n",
       "886          887         0       2   \n",
       "887          888         1       1   \n",
       "888          889         0       3   \n",
       "889          890         1       1   \n",
       "890          891         0       3   \n",
       "\n",
       "                                                  Name     Sex  Age  SibSp  \\\n",
       "0                              Braund, Mr. Owen Harris    male   22      1   \n",
       "1    Cumings, Mrs. John Bradley (Florence Briggs Th...  female   38      1   \n",
       "2                               Heikkinen, Miss. Laina  female   26      0   \n",
       "3         Futrelle, Mrs. Jacques Heath (Lily May Peel)  female   35      1   \n",
       "4                             Allen, Mr. William Henry    male   35      0   \n",
       "..                                                 ...     ...  ...    ...   \n",
       "886                              Montvila, Rev. Juozas    male   27      0   \n",
       "887                       Graham, Miss. Margaret Edith  female   19      0   \n",
       "888           Johnston, Miss. Catherine Helen \"Carrie\"  female    0      1   \n",
       "889                              Behr, Mr. Karl Howell    male   26      0   \n",
       "890                                Dooley, Mr. Patrick    male   32      0   \n",
       "\n",
       "     Parch            Ticket   Fare       Cabin Embarked  \n",
       "0        0         A/5 21171   7.25  Sin cabina        S  \n",
       "1        0          PC 17599  71.28  Con cabina        C  \n",
       "2        0  STON/O2. 3101282   7.92  Sin cabina        S  \n",
       "3        0            113803  53.10  Con cabina        S  \n",
       "4        0            373450   8.05  Sin cabina        S  \n",
       "..     ...               ...    ...         ...      ...  \n",
       "886      0            211536  13.00  Sin cabina        S  \n",
       "887      0            112053  30.00  Con cabina        S  \n",
       "888      2        W./C. 6607  23.45  Sin cabina        S  \n",
       "889      0            111369  30.00  Con cabina        C  \n",
       "890      0            370376   7.75  Sin cabina        Q  \n",
       "\n",
       "[891 rows x 12 columns]"
      ]
     },
     "execution_count": 21,
     "metadata": {},
     "output_type": "execute_result"
    }
   ],
   "source": [
    "#primero vamos a crear una copia del df original para no alterarlo:\n",
    "df2 = df.copy()\n",
    "\n",
    "\n",
    "# Filtramos los valores que son diferentes a 'Sin cabina' y le asignamos el valor 'Con cabina'. \n",
    "# Tenemos que indicarle que la condicion se aplicará a la columna 'Cabin', ya que sino se aplicará a toda la fila.\n",
    "\n",
    "df2.loc[df2['Cabin'] != 'Sin cabina', 'Cabin'] = 'Con cabina'\n",
    "\n",
    "#creamos un nuevo dataframe para operar sobre este.\n",
    "\n",
    "df2"
   ]
  },
  {
   "cell_type": "code",
   "execution_count": 22,
   "metadata": {},
   "outputs": [
    {
     "data": {
      "text/plain": [
       "Pclass  Cabin     \n",
       "1       Con cabina    67.950\n",
       "        Sin cabina    44.750\n",
       "2       Con cabina    13.000\n",
       "        Sin cabina    15.025\n",
       "3       Con cabina    10.460\n",
       "        Sin cabina     8.050\n",
       "Name: Fare, dtype: float64"
      ]
     },
     "execution_count": 22,
     "metadata": {},
     "output_type": "execute_result"
    }
   ],
   "source": [
    "# Agrupamos y calculamos la mediana\n",
    "\n",
    "precios_medios = df2.groupby(['Pclass', 'Cabin'])['Fare'].median() #al haber creado la variable 'Con cabina', ya podemos agrupar.\n",
    "\n",
    "# Dado que existen precios muy altos y muy bajos que pueden alterar los resultados, hemos decidido realizarlo con la mediana.\n",
    "\n",
    "precios_medios"
   ]
  },
  {
   "cell_type": "markdown",
   "metadata": {},
   "source": [
    "<font color = 'Lightcyan'> ¿Por qué la media general del precio de la clase 3 coincide con la media del precio de la clase 3 que no incluye cabina?"
   ]
  },
  {
   "cell_type": "code",
   "execution_count": 23,
   "metadata": {},
   "outputs": [
    {
     "name": "stdout",
     "output_type": "stream",
     "text": [
      "Personas que escogieron la clase 3 con cabina: 12\n",
      "Personas que escogieron la clase 3 sin cabina: 479\n"
     ]
    }
   ],
   "source": [
    "\"\"\"\n",
    "Para responder a la pregunta, se va a observar la demanda de cada tipo de billete (con cabina y sin cabina).\n",
    "Si existe mucha más demanda de billetes sin cabina que incluyendola, seguramente el hecho de que coincida la media se deba a esto.\n",
    "\n",
    "\"\"\"\n",
    "\n",
    "#Numero de personas que escogieron clase 3 con cabina:\n",
    "\n",
    "clase3_concabina = df2[(df2['Pclass'] == 3) & (df2['Cabin'] == 'Con cabina')]\n",
    "\n",
    "num_personas_1 = clase3_concabina.value_counts().sum()\n",
    "\n",
    "#Numero de personas que escogieron clase 3 sin cabina:\n",
    "\n",
    "clase3_sincabina = df2[(df2['Pclass'] == 3) & (df2['Cabin'] == 'Sin cabina')]\n",
    "\n",
    "num_personas_2 = clase3_sincabina.value_counts().sum()\n",
    "\n",
    "print('Personas que escogieron la clase 3 con cabina:', num_personas_1)\n",
    "print('Personas que escogieron la clase 3 sin cabina:', num_personas_2)\n",
    "\n"
   ]
  },
  {
   "cell_type": "markdown",
   "metadata": {},
   "source": [
    "<font color = 'Cadetblue'> Se observa una gran diferencia en cuanto a la demanda de billetes que incluyen cabina y los que no. Seguramente, la media general del precio de la clase 3 coincida con la media del precio de la clase 3 sin cabina porque se ve muy influenciada por los precios de este tipo de billete."
   ]
  },
  {
   "cell_type": "markdown",
   "metadata": {},
   "source": [
    "<font color = 'Lightcyan'> ¿Por qué el precio de la clase 2 con cabina es más bajo que la clase 2 sin cabina?"
   ]
  },
  {
   "cell_type": "code",
   "execution_count": 24,
   "metadata": {},
   "outputs": [
    {
     "data": {
      "application/vnd.plotly.v1+json": {
       "config": {
        "plotlyServerURL": "https://plot.ly"
       },
       "data": [
        {
         "alignmentgroup": "True",
         "hovertemplate": "Fare=%{y}<extra></extra>",
         "legendgroup": "",
         "marker": {
          "color": "#F8766D"
         },
         "name": "",
         "notched": false,
         "offsetgroup": "",
         "orientation": "v",
         "showlegend": false,
         "type": "box",
         "x0": " ",
         "xaxis": "x",
         "y": [
          13,
          10.5,
          13,
          26,
          39,
          26,
          12.88,
          12.35,
          13,
          26,
          13,
          13.79,
          10.5,
          39,
          10.5,
          10.5
         ],
         "y0": " ",
         "yaxis": "y"
        }
       ],
       "layout": {
        "boxmode": "group",
        "legend": {
         "tracegroupgap": 0
        },
        "template": {
         "data": {
          "bar": [
           {
            "error_x": {
             "color": "rgb(51,51,51)"
            },
            "error_y": {
             "color": "rgb(51,51,51)"
            },
            "marker": {
             "line": {
              "color": "rgb(237,237,237)",
              "width": 0.5
             },
             "pattern": {
              "fillmode": "overlay",
              "size": 10,
              "solidity": 0.2
             }
            },
            "type": "bar"
           }
          ],
          "barpolar": [
           {
            "marker": {
             "line": {
              "color": "rgb(237,237,237)",
              "width": 0.5
             },
             "pattern": {
              "fillmode": "overlay",
              "size": 10,
              "solidity": 0.2
             }
            },
            "type": "barpolar"
           }
          ],
          "carpet": [
           {
            "aaxis": {
             "endlinecolor": "rgb(51,51,51)",
             "gridcolor": "white",
             "linecolor": "white",
             "minorgridcolor": "white",
             "startlinecolor": "rgb(51,51,51)"
            },
            "baxis": {
             "endlinecolor": "rgb(51,51,51)",
             "gridcolor": "white",
             "linecolor": "white",
             "minorgridcolor": "white",
             "startlinecolor": "rgb(51,51,51)"
            },
            "type": "carpet"
           }
          ],
          "choropleth": [
           {
            "colorbar": {
             "outlinewidth": 0,
             "tickcolor": "rgb(237,237,237)",
             "ticklen": 6,
             "ticks": "inside"
            },
            "type": "choropleth"
           }
          ],
          "contour": [
           {
            "colorbar": {
             "outlinewidth": 0,
             "tickcolor": "rgb(237,237,237)",
             "ticklen": 6,
             "ticks": "inside"
            },
            "colorscale": [
             [
              0,
              "rgb(20,44,66)"
             ],
             [
              1,
              "rgb(90,179,244)"
             ]
            ],
            "type": "contour"
           }
          ],
          "contourcarpet": [
           {
            "colorbar": {
             "outlinewidth": 0,
             "tickcolor": "rgb(237,237,237)",
             "ticklen": 6,
             "ticks": "inside"
            },
            "type": "contourcarpet"
           }
          ],
          "heatmap": [
           {
            "colorbar": {
             "outlinewidth": 0,
             "tickcolor": "rgb(237,237,237)",
             "ticklen": 6,
             "ticks": "inside"
            },
            "colorscale": [
             [
              0,
              "rgb(20,44,66)"
             ],
             [
              1,
              "rgb(90,179,244)"
             ]
            ],
            "type": "heatmap"
           }
          ],
          "heatmapgl": [
           {
            "colorbar": {
             "outlinewidth": 0,
             "tickcolor": "rgb(237,237,237)",
             "ticklen": 6,
             "ticks": "inside"
            },
            "colorscale": [
             [
              0,
              "rgb(20,44,66)"
             ],
             [
              1,
              "rgb(90,179,244)"
             ]
            ],
            "type": "heatmapgl"
           }
          ],
          "histogram": [
           {
            "marker": {
             "pattern": {
              "fillmode": "overlay",
              "size": 10,
              "solidity": 0.2
             }
            },
            "type": "histogram"
           }
          ],
          "histogram2d": [
           {
            "colorbar": {
             "outlinewidth": 0,
             "tickcolor": "rgb(237,237,237)",
             "ticklen": 6,
             "ticks": "inside"
            },
            "colorscale": [
             [
              0,
              "rgb(20,44,66)"
             ],
             [
              1,
              "rgb(90,179,244)"
             ]
            ],
            "type": "histogram2d"
           }
          ],
          "histogram2dcontour": [
           {
            "colorbar": {
             "outlinewidth": 0,
             "tickcolor": "rgb(237,237,237)",
             "ticklen": 6,
             "ticks": "inside"
            },
            "colorscale": [
             [
              0,
              "rgb(20,44,66)"
             ],
             [
              1,
              "rgb(90,179,244)"
             ]
            ],
            "type": "histogram2dcontour"
           }
          ],
          "mesh3d": [
           {
            "colorbar": {
             "outlinewidth": 0,
             "tickcolor": "rgb(237,237,237)",
             "ticklen": 6,
             "ticks": "inside"
            },
            "type": "mesh3d"
           }
          ],
          "parcoords": [
           {
            "line": {
             "colorbar": {
              "outlinewidth": 0,
              "tickcolor": "rgb(237,237,237)",
              "ticklen": 6,
              "ticks": "inside"
             }
            },
            "type": "parcoords"
           }
          ],
          "pie": [
           {
            "automargin": true,
            "type": "pie"
           }
          ],
          "scatter": [
           {
            "fillpattern": {
             "fillmode": "overlay",
             "size": 10,
             "solidity": 0.2
            },
            "type": "scatter"
           }
          ],
          "scatter3d": [
           {
            "line": {
             "colorbar": {
              "outlinewidth": 0,
              "tickcolor": "rgb(237,237,237)",
              "ticklen": 6,
              "ticks": "inside"
             }
            },
            "marker": {
             "colorbar": {
              "outlinewidth": 0,
              "tickcolor": "rgb(237,237,237)",
              "ticklen": 6,
              "ticks": "inside"
             }
            },
            "type": "scatter3d"
           }
          ],
          "scattercarpet": [
           {
            "marker": {
             "colorbar": {
              "outlinewidth": 0,
              "tickcolor": "rgb(237,237,237)",
              "ticklen": 6,
              "ticks": "inside"
             }
            },
            "type": "scattercarpet"
           }
          ],
          "scattergeo": [
           {
            "marker": {
             "colorbar": {
              "outlinewidth": 0,
              "tickcolor": "rgb(237,237,237)",
              "ticklen": 6,
              "ticks": "inside"
             }
            },
            "type": "scattergeo"
           }
          ],
          "scattergl": [
           {
            "marker": {
             "colorbar": {
              "outlinewidth": 0,
              "tickcolor": "rgb(237,237,237)",
              "ticklen": 6,
              "ticks": "inside"
             }
            },
            "type": "scattergl"
           }
          ],
          "scattermapbox": [
           {
            "marker": {
             "colorbar": {
              "outlinewidth": 0,
              "tickcolor": "rgb(237,237,237)",
              "ticklen": 6,
              "ticks": "inside"
             }
            },
            "type": "scattermapbox"
           }
          ],
          "scatterpolar": [
           {
            "marker": {
             "colorbar": {
              "outlinewidth": 0,
              "tickcolor": "rgb(237,237,237)",
              "ticklen": 6,
              "ticks": "inside"
             }
            },
            "type": "scatterpolar"
           }
          ],
          "scatterpolargl": [
           {
            "marker": {
             "colorbar": {
              "outlinewidth": 0,
              "tickcolor": "rgb(237,237,237)",
              "ticklen": 6,
              "ticks": "inside"
             }
            },
            "type": "scatterpolargl"
           }
          ],
          "scatterternary": [
           {
            "marker": {
             "colorbar": {
              "outlinewidth": 0,
              "tickcolor": "rgb(237,237,237)",
              "ticklen": 6,
              "ticks": "inside"
             }
            },
            "type": "scatterternary"
           }
          ],
          "surface": [
           {
            "colorbar": {
             "outlinewidth": 0,
             "tickcolor": "rgb(237,237,237)",
             "ticklen": 6,
             "ticks": "inside"
            },
            "colorscale": [
             [
              0,
              "rgb(20,44,66)"
             ],
             [
              1,
              "rgb(90,179,244)"
             ]
            ],
            "type": "surface"
           }
          ],
          "table": [
           {
            "cells": {
             "fill": {
              "color": "rgb(237,237,237)"
             },
             "line": {
              "color": "white"
             }
            },
            "header": {
             "fill": {
              "color": "rgb(217,217,217)"
             },
             "line": {
              "color": "white"
             }
            },
            "type": "table"
           }
          ]
         },
         "layout": {
          "annotationdefaults": {
           "arrowhead": 0,
           "arrowwidth": 1
          },
          "autotypenumbers": "strict",
          "coloraxis": {
           "colorbar": {
            "outlinewidth": 0,
            "tickcolor": "rgb(237,237,237)",
            "ticklen": 6,
            "ticks": "inside"
           }
          },
          "colorscale": {
           "sequential": [
            [
             0,
             "rgb(20,44,66)"
            ],
            [
             1,
             "rgb(90,179,244)"
            ]
           ],
           "sequentialminus": [
            [
             0,
             "rgb(20,44,66)"
            ],
            [
             1,
             "rgb(90,179,244)"
            ]
           ]
          },
          "colorway": [
           "#F8766D",
           "#A3A500",
           "#00BF7D",
           "#00B0F6",
           "#E76BF3"
          ],
          "font": {
           "color": "rgb(51,51,51)"
          },
          "geo": {
           "bgcolor": "white",
           "lakecolor": "white",
           "landcolor": "rgb(237,237,237)",
           "showlakes": true,
           "showland": true,
           "subunitcolor": "white"
          },
          "hoverlabel": {
           "align": "left"
          },
          "hovermode": "closest",
          "paper_bgcolor": "white",
          "plot_bgcolor": "rgb(237,237,237)",
          "polar": {
           "angularaxis": {
            "gridcolor": "white",
            "linecolor": "white",
            "showgrid": true,
            "tickcolor": "rgb(51,51,51)",
            "ticks": "outside"
           },
           "bgcolor": "rgb(237,237,237)",
           "radialaxis": {
            "gridcolor": "white",
            "linecolor": "white",
            "showgrid": true,
            "tickcolor": "rgb(51,51,51)",
            "ticks": "outside"
           }
          },
          "scene": {
           "xaxis": {
            "backgroundcolor": "rgb(237,237,237)",
            "gridcolor": "white",
            "gridwidth": 2,
            "linecolor": "white",
            "showbackground": true,
            "showgrid": true,
            "tickcolor": "rgb(51,51,51)",
            "ticks": "outside",
            "zerolinecolor": "white"
           },
           "yaxis": {
            "backgroundcolor": "rgb(237,237,237)",
            "gridcolor": "white",
            "gridwidth": 2,
            "linecolor": "white",
            "showbackground": true,
            "showgrid": true,
            "tickcolor": "rgb(51,51,51)",
            "ticks": "outside",
            "zerolinecolor": "white"
           },
           "zaxis": {
            "backgroundcolor": "rgb(237,237,237)",
            "gridcolor": "white",
            "gridwidth": 2,
            "linecolor": "white",
            "showbackground": true,
            "showgrid": true,
            "tickcolor": "rgb(51,51,51)",
            "ticks": "outside",
            "zerolinecolor": "white"
           }
          },
          "shapedefaults": {
           "fillcolor": "black",
           "line": {
            "width": 0
           },
           "opacity": 0.3
          },
          "ternary": {
           "aaxis": {
            "gridcolor": "white",
            "linecolor": "white",
            "showgrid": true,
            "tickcolor": "rgb(51,51,51)",
            "ticks": "outside"
           },
           "baxis": {
            "gridcolor": "white",
            "linecolor": "white",
            "showgrid": true,
            "tickcolor": "rgb(51,51,51)",
            "ticks": "outside"
           },
           "bgcolor": "rgb(237,237,237)",
           "caxis": {
            "gridcolor": "white",
            "linecolor": "white",
            "showgrid": true,
            "tickcolor": "rgb(51,51,51)",
            "ticks": "outside"
           }
          },
          "xaxis": {
           "automargin": true,
           "gridcolor": "white",
           "linecolor": "white",
           "showgrid": true,
           "tickcolor": "rgb(51,51,51)",
           "ticks": "outside",
           "title": {
            "standoff": 15
           },
           "zerolinecolor": "white"
          },
          "yaxis": {
           "automargin": true,
           "gridcolor": "white",
           "linecolor": "white",
           "showgrid": true,
           "tickcolor": "rgb(51,51,51)",
           "ticks": "outside",
           "title": {
            "standoff": 15
           },
           "zerolinecolor": "white"
          }
         }
        },
        "title": {
         "text": "Distribución de los precios del billete de clase 2 con cabina"
        },
        "xaxis": {
         "anchor": "y",
         "domain": [
          0,
          1
         ]
        },
        "yaxis": {
         "anchor": "x",
         "domain": [
          0,
          1
         ],
         "title": {
          "text": "Fare"
         }
        }
       }
      }
     },
     "metadata": {},
     "output_type": "display_data"
    }
   ],
   "source": [
    "\"\"\"\n",
    "Para responder a la pregunta, vamos a ver la presencia de outliers en cada tipo de billete.\n",
    "Para ello, crearemos dos DataFrames filtrados según si incluye cabina o no, y veremos los outliers en el precio.\n",
    "\n",
    "\"\"\"\n",
    "#filtramos el df2 para quedarnos solo con las filas que incluyan la clase 2 con cabina, y accedemos al precio.\n",
    "df_clase2_concabina = df2[(df2['Pclass']==2) & (df2['Cabin'] == 'Con cabina')]['Fare']\n",
    "df_clase2_concabina = pd.DataFrame(df_clase2_concabina)\n",
    "df_clase2_concabina\n",
    "\n",
    "#gráfico:\n",
    "fig1 = px.box(df_clase2_concabina, y='Fare', template='ggplot2', title='Distribución de los precios del billete de clase 2 con cabina')\n",
    "\n",
    "fig1.show()\n"
   ]
  },
  {
   "cell_type": "code",
   "execution_count": 25,
   "metadata": {},
   "outputs": [
    {
     "data": {
      "application/vnd.plotly.v1+json": {
       "config": {
        "plotlyServerURL": "https://plot.ly"
       },
       "data": [
        {
         "alignmentgroup": "True",
         "hovertemplate": "Fare=%{y}<extra></extra>",
         "legendgroup": "",
         "marker": {
          "color": "#F8766D"
         },
         "name": "",
         "notched": false,
         "offsetgroup": "",
         "orientation": "v",
         "showlegend": false,
         "type": "box",
         "x0": " ",
         "xaxis": "x",
         "y": [
          30.07,
          16,
          13,
          26,
          10.5,
          21,
          41.58,
          26,
          10.5,
          27.75,
          10.5,
          73.5,
          29,
          10.5,
          23,
          26,
          21,
          73.5,
          30.07,
          26,
          13,
          15.05,
          11.5,
          36.75,
          13,
          12.52,
          15.75,
          13,
          15.05,
          13,
          13,
          13,
          21,
          13,
          27,
          10.5,
          13,
          10.5,
          13,
          13.5,
          10.5,
          26,
          26.25,
          10.5,
          12.28,
          10.5,
          14.5,
          26,
          26,
          10.5,
          19.5,
          0,
          13,
          24,
          26,
          26.25,
          26,
          14,
          12.35,
          29,
          13,
          13,
          13,
          13,
          13,
          27.72,
          73.5,
          13,
          12,
          26,
          10.5,
          12.65,
          21,
          18.75,
          0,
          32.5,
          13,
          13,
          26,
          26,
          26,
          18.75,
          10.5,
          26.25,
          13,
          19.5,
          27.75,
          10.5,
          13,
          0,
          27.75,
          21,
          0,
          26,
          26,
          10.5,
          11.5,
          26,
          26.25,
          26,
          26,
          13.86,
          36.75,
          26,
          13.5,
          10.5,
          13,
          30,
          26,
          15,
          26,
          33,
          27,
          41.58,
          65,
          10.5,
          12.35,
          13,
          26.25,
          23,
          73.5,
          13,
          73.5,
          13,
          39,
          10.5,
          13,
          0,
          39,
          41.58,
          13.5,
          26,
          13.5,
          13,
          33,
          13,
          13,
          21,
          26,
          0,
          13,
          13,
          13,
          23,
          65,
          14.5,
          11.5,
          23,
          26,
          13,
          13,
          26.25,
          13,
          10.5,
          37,
          37,
          18.75,
          10.5,
          33,
          26,
          11.5,
          13,
          13,
          13.86,
          24,
          26,
          10.5,
          13
         ],
         "y0": " ",
         "yaxis": "y"
        }
       ],
       "layout": {
        "boxmode": "group",
        "legend": {
         "tracegroupgap": 0
        },
        "template": {
         "data": {
          "bar": [
           {
            "error_x": {
             "color": "rgb(51,51,51)"
            },
            "error_y": {
             "color": "rgb(51,51,51)"
            },
            "marker": {
             "line": {
              "color": "rgb(237,237,237)",
              "width": 0.5
             },
             "pattern": {
              "fillmode": "overlay",
              "size": 10,
              "solidity": 0.2
             }
            },
            "type": "bar"
           }
          ],
          "barpolar": [
           {
            "marker": {
             "line": {
              "color": "rgb(237,237,237)",
              "width": 0.5
             },
             "pattern": {
              "fillmode": "overlay",
              "size": 10,
              "solidity": 0.2
             }
            },
            "type": "barpolar"
           }
          ],
          "carpet": [
           {
            "aaxis": {
             "endlinecolor": "rgb(51,51,51)",
             "gridcolor": "white",
             "linecolor": "white",
             "minorgridcolor": "white",
             "startlinecolor": "rgb(51,51,51)"
            },
            "baxis": {
             "endlinecolor": "rgb(51,51,51)",
             "gridcolor": "white",
             "linecolor": "white",
             "minorgridcolor": "white",
             "startlinecolor": "rgb(51,51,51)"
            },
            "type": "carpet"
           }
          ],
          "choropleth": [
           {
            "colorbar": {
             "outlinewidth": 0,
             "tickcolor": "rgb(237,237,237)",
             "ticklen": 6,
             "ticks": "inside"
            },
            "type": "choropleth"
           }
          ],
          "contour": [
           {
            "colorbar": {
             "outlinewidth": 0,
             "tickcolor": "rgb(237,237,237)",
             "ticklen": 6,
             "ticks": "inside"
            },
            "colorscale": [
             [
              0,
              "rgb(20,44,66)"
             ],
             [
              1,
              "rgb(90,179,244)"
             ]
            ],
            "type": "contour"
           }
          ],
          "contourcarpet": [
           {
            "colorbar": {
             "outlinewidth": 0,
             "tickcolor": "rgb(237,237,237)",
             "ticklen": 6,
             "ticks": "inside"
            },
            "type": "contourcarpet"
           }
          ],
          "heatmap": [
           {
            "colorbar": {
             "outlinewidth": 0,
             "tickcolor": "rgb(237,237,237)",
             "ticklen": 6,
             "ticks": "inside"
            },
            "colorscale": [
             [
              0,
              "rgb(20,44,66)"
             ],
             [
              1,
              "rgb(90,179,244)"
             ]
            ],
            "type": "heatmap"
           }
          ],
          "heatmapgl": [
           {
            "colorbar": {
             "outlinewidth": 0,
             "tickcolor": "rgb(237,237,237)",
             "ticklen": 6,
             "ticks": "inside"
            },
            "colorscale": [
             [
              0,
              "rgb(20,44,66)"
             ],
             [
              1,
              "rgb(90,179,244)"
             ]
            ],
            "type": "heatmapgl"
           }
          ],
          "histogram": [
           {
            "marker": {
             "pattern": {
              "fillmode": "overlay",
              "size": 10,
              "solidity": 0.2
             }
            },
            "type": "histogram"
           }
          ],
          "histogram2d": [
           {
            "colorbar": {
             "outlinewidth": 0,
             "tickcolor": "rgb(237,237,237)",
             "ticklen": 6,
             "ticks": "inside"
            },
            "colorscale": [
             [
              0,
              "rgb(20,44,66)"
             ],
             [
              1,
              "rgb(90,179,244)"
             ]
            ],
            "type": "histogram2d"
           }
          ],
          "histogram2dcontour": [
           {
            "colorbar": {
             "outlinewidth": 0,
             "tickcolor": "rgb(237,237,237)",
             "ticklen": 6,
             "ticks": "inside"
            },
            "colorscale": [
             [
              0,
              "rgb(20,44,66)"
             ],
             [
              1,
              "rgb(90,179,244)"
             ]
            ],
            "type": "histogram2dcontour"
           }
          ],
          "mesh3d": [
           {
            "colorbar": {
             "outlinewidth": 0,
             "tickcolor": "rgb(237,237,237)",
             "ticklen": 6,
             "ticks": "inside"
            },
            "type": "mesh3d"
           }
          ],
          "parcoords": [
           {
            "line": {
             "colorbar": {
              "outlinewidth": 0,
              "tickcolor": "rgb(237,237,237)",
              "ticklen": 6,
              "ticks": "inside"
             }
            },
            "type": "parcoords"
           }
          ],
          "pie": [
           {
            "automargin": true,
            "type": "pie"
           }
          ],
          "scatter": [
           {
            "fillpattern": {
             "fillmode": "overlay",
             "size": 10,
             "solidity": 0.2
            },
            "type": "scatter"
           }
          ],
          "scatter3d": [
           {
            "line": {
             "colorbar": {
              "outlinewidth": 0,
              "tickcolor": "rgb(237,237,237)",
              "ticklen": 6,
              "ticks": "inside"
             }
            },
            "marker": {
             "colorbar": {
              "outlinewidth": 0,
              "tickcolor": "rgb(237,237,237)",
              "ticklen": 6,
              "ticks": "inside"
             }
            },
            "type": "scatter3d"
           }
          ],
          "scattercarpet": [
           {
            "marker": {
             "colorbar": {
              "outlinewidth": 0,
              "tickcolor": "rgb(237,237,237)",
              "ticklen": 6,
              "ticks": "inside"
             }
            },
            "type": "scattercarpet"
           }
          ],
          "scattergeo": [
           {
            "marker": {
             "colorbar": {
              "outlinewidth": 0,
              "tickcolor": "rgb(237,237,237)",
              "ticklen": 6,
              "ticks": "inside"
             }
            },
            "type": "scattergeo"
           }
          ],
          "scattergl": [
           {
            "marker": {
             "colorbar": {
              "outlinewidth": 0,
              "tickcolor": "rgb(237,237,237)",
              "ticklen": 6,
              "ticks": "inside"
             }
            },
            "type": "scattergl"
           }
          ],
          "scattermapbox": [
           {
            "marker": {
             "colorbar": {
              "outlinewidth": 0,
              "tickcolor": "rgb(237,237,237)",
              "ticklen": 6,
              "ticks": "inside"
             }
            },
            "type": "scattermapbox"
           }
          ],
          "scatterpolar": [
           {
            "marker": {
             "colorbar": {
              "outlinewidth": 0,
              "tickcolor": "rgb(237,237,237)",
              "ticklen": 6,
              "ticks": "inside"
             }
            },
            "type": "scatterpolar"
           }
          ],
          "scatterpolargl": [
           {
            "marker": {
             "colorbar": {
              "outlinewidth": 0,
              "tickcolor": "rgb(237,237,237)",
              "ticklen": 6,
              "ticks": "inside"
             }
            },
            "type": "scatterpolargl"
           }
          ],
          "scatterternary": [
           {
            "marker": {
             "colorbar": {
              "outlinewidth": 0,
              "tickcolor": "rgb(237,237,237)",
              "ticklen": 6,
              "ticks": "inside"
             }
            },
            "type": "scatterternary"
           }
          ],
          "surface": [
           {
            "colorbar": {
             "outlinewidth": 0,
             "tickcolor": "rgb(237,237,237)",
             "ticklen": 6,
             "ticks": "inside"
            },
            "colorscale": [
             [
              0,
              "rgb(20,44,66)"
             ],
             [
              1,
              "rgb(90,179,244)"
             ]
            ],
            "type": "surface"
           }
          ],
          "table": [
           {
            "cells": {
             "fill": {
              "color": "rgb(237,237,237)"
             },
             "line": {
              "color": "white"
             }
            },
            "header": {
             "fill": {
              "color": "rgb(217,217,217)"
             },
             "line": {
              "color": "white"
             }
            },
            "type": "table"
           }
          ]
         },
         "layout": {
          "annotationdefaults": {
           "arrowhead": 0,
           "arrowwidth": 1
          },
          "autotypenumbers": "strict",
          "coloraxis": {
           "colorbar": {
            "outlinewidth": 0,
            "tickcolor": "rgb(237,237,237)",
            "ticklen": 6,
            "ticks": "inside"
           }
          },
          "colorscale": {
           "sequential": [
            [
             0,
             "rgb(20,44,66)"
            ],
            [
             1,
             "rgb(90,179,244)"
            ]
           ],
           "sequentialminus": [
            [
             0,
             "rgb(20,44,66)"
            ],
            [
             1,
             "rgb(90,179,244)"
            ]
           ]
          },
          "colorway": [
           "#F8766D",
           "#A3A500",
           "#00BF7D",
           "#00B0F6",
           "#E76BF3"
          ],
          "font": {
           "color": "rgb(51,51,51)"
          },
          "geo": {
           "bgcolor": "white",
           "lakecolor": "white",
           "landcolor": "rgb(237,237,237)",
           "showlakes": true,
           "showland": true,
           "subunitcolor": "white"
          },
          "hoverlabel": {
           "align": "left"
          },
          "hovermode": "closest",
          "paper_bgcolor": "white",
          "plot_bgcolor": "rgb(237,237,237)",
          "polar": {
           "angularaxis": {
            "gridcolor": "white",
            "linecolor": "white",
            "showgrid": true,
            "tickcolor": "rgb(51,51,51)",
            "ticks": "outside"
           },
           "bgcolor": "rgb(237,237,237)",
           "radialaxis": {
            "gridcolor": "white",
            "linecolor": "white",
            "showgrid": true,
            "tickcolor": "rgb(51,51,51)",
            "ticks": "outside"
           }
          },
          "scene": {
           "xaxis": {
            "backgroundcolor": "rgb(237,237,237)",
            "gridcolor": "white",
            "gridwidth": 2,
            "linecolor": "white",
            "showbackground": true,
            "showgrid": true,
            "tickcolor": "rgb(51,51,51)",
            "ticks": "outside",
            "zerolinecolor": "white"
           },
           "yaxis": {
            "backgroundcolor": "rgb(237,237,237)",
            "gridcolor": "white",
            "gridwidth": 2,
            "linecolor": "white",
            "showbackground": true,
            "showgrid": true,
            "tickcolor": "rgb(51,51,51)",
            "ticks": "outside",
            "zerolinecolor": "white"
           },
           "zaxis": {
            "backgroundcolor": "rgb(237,237,237)",
            "gridcolor": "white",
            "gridwidth": 2,
            "linecolor": "white",
            "showbackground": true,
            "showgrid": true,
            "tickcolor": "rgb(51,51,51)",
            "ticks": "outside",
            "zerolinecolor": "white"
           }
          },
          "shapedefaults": {
           "fillcolor": "black",
           "line": {
            "width": 0
           },
           "opacity": 0.3
          },
          "ternary": {
           "aaxis": {
            "gridcolor": "white",
            "linecolor": "white",
            "showgrid": true,
            "tickcolor": "rgb(51,51,51)",
            "ticks": "outside"
           },
           "baxis": {
            "gridcolor": "white",
            "linecolor": "white",
            "showgrid": true,
            "tickcolor": "rgb(51,51,51)",
            "ticks": "outside"
           },
           "bgcolor": "rgb(237,237,237)",
           "caxis": {
            "gridcolor": "white",
            "linecolor": "white",
            "showgrid": true,
            "tickcolor": "rgb(51,51,51)",
            "ticks": "outside"
           }
          },
          "xaxis": {
           "automargin": true,
           "gridcolor": "white",
           "linecolor": "white",
           "showgrid": true,
           "tickcolor": "rgb(51,51,51)",
           "ticks": "outside",
           "title": {
            "standoff": 15
           },
           "zerolinecolor": "white"
          },
          "yaxis": {
           "automargin": true,
           "gridcolor": "white",
           "linecolor": "white",
           "showgrid": true,
           "tickcolor": "rgb(51,51,51)",
           "ticks": "outside",
           "title": {
            "standoff": 15
           },
           "zerolinecolor": "white"
          }
         }
        },
        "title": {
         "text": "Distribución de los precios del billete de clase 2 sin cabina"
        },
        "xaxis": {
         "anchor": "y",
         "domain": [
          0,
          1
         ]
        },
        "yaxis": {
         "anchor": "x",
         "domain": [
          0,
          1
         ],
         "title": {
          "text": "Fare"
         }
        }
       }
      }
     },
     "metadata": {},
     "output_type": "display_data"
    }
   ],
   "source": [
    "# Filtramos el df2 para quedarnos solo con las filas que incluyan la clase 2 sin cabina, y accedemos al precio.\n",
    "\n",
    "df_clase2_sincabina = df2[(df2['Pclass']==2) & (df2['Cabin'] == 'Sin cabina')]['Fare']\n",
    "df_clase2_sincabina = pd.DataFrame(df_clase2_sincabina)\n",
    "df_clase2_sincabina\n",
    "\n",
    "# Grafico:\n",
    "fig1 = px.box(df_clase2_sincabina, y='Fare', template='ggplot2', title='Distribución de los precios del billete de clase 2 sin cabina')\n",
    "fig1.show()"
   ]
  },
  {
   "cell_type": "markdown",
   "metadata": {},
   "source": [
    "<font color = 'Cadetblue'> Se observa que los precios de la clase 2 que no incluyen camarote se ven afectados por la presencia de dos outliers positivos, mientras que los precios del billete de la clase 2 con camarote se encuentran mejor distribuidos. Aunque hayamos utilizado la mediana y esta sea menos sensible a los outliers, se sigue viendo influenciada por los mismos, sobretodo si son outliers muy lejanos al resto de datos."
   ]
  },
  {
   "cell_type": "markdown",
   "metadata": {},
   "source": [
    "<font color = 'Lightcyan'> ¿Existe algún tipo de relacion entre el precio del billete y la edad del pasajero?"
   ]
  },
  {
   "cell_type": "markdown",
   "metadata": {},
   "source": [
    "<font color = 'Cadetblue'> El objetivo de este ejercicio es ver si las personas más jóvenes tienden a comprar billetes más baratos y las personas más mayores a comprar billetes más caros.\n",
    "Para ello vamos a ver la correlacion entre las dos variables."
   ]
  },
  {
   "cell_type": "code",
   "execution_count": 26,
   "metadata": {},
   "outputs": [
    {
     "name": "stdout",
     "output_type": "stream",
     "text": [
      "La correlación entre las dos variables es de: 0.13566013676260588\n"
     ]
    },
    {
     "data": {
      "image/png": "[encoded data removed]",
      "text/plain": [
       "<Figure size 640x480 with 2 Axes>"
      ]
     },
     "metadata": {},
     "output_type": "display_data"
    }
   ],
   "source": [
    "# Creamos un df nuevo (df6) para almacenar las columnas 'Age' y 'Fare': \n",
    "df4 = df[['Age', 'Fare']]\n",
    "df4\n",
    "\n",
    "#Correlacion:\n",
    "correlacion = df4['Fare'].corr(df4['Age'])\n",
    "print('La correlación entre las dos variables es de:', correlacion)\n",
    "\n",
    "#Heatmap\n",
    "sns.heatmap(df4.corr(), annot=True, cmap='coolwarm');\n"
   ]
  },
  {
   "cell_type": "markdown",
   "metadata": {},
   "source": [
    "<font color = 'Cadetblue'> Se observa que la correlación es baja, aún así positiva. Esto quiere decir que, efectivamente, las personas más mayores tienden a comprar tarifas de billetes ligeramente más caras."
   ]
  },
  {
   "cell_type": "markdown",
   "metadata": {},
   "source": [
    "### <font color = 'Lightcyan'> Análisis de los pasajeros supervivientes y fallecidos"
   ]
  },
  {
   "cell_type": "markdown",
   "metadata": {},
   "source": [
    "<font color = 'Lightcyan'> ¿Cuantas personas sobrevivieron y cuantas fallecieron?"
   ]
  },
  {
   "cell_type": "markdown",
   "metadata": {},
   "source": [
    "<font color = 'Cadetblue'> Para este ejercicio, volveremos a nuestro df1, que es el que contempla los pasajeros afectados (los que embarcaron)."
   ]
  },
  {
   "cell_type": "code",
   "execution_count": 27,
   "metadata": {},
   "outputs": [
    {
     "name": "stdout",
     "output_type": "stream",
     "text": [
      "Survived\n",
      "1    340\n",
      "Name: count, dtype: int64\n",
      "Survived\n",
      "0    549\n",
      "Name: count, dtype: int64\n"
     ]
    }
   ],
   "source": [
    "#filtramos la variable\n",
    "\n",
    "vivos = df1[df1['Survived'] == 1] \n",
    "fallecidos = df1[df1['Survived'] == 0]\n",
    "\n",
    "#contamos cuantas hay con valor 1 y 0\n",
    "vivos = vivos['Survived'].value_counts()\n",
    "\n",
    "fallecidos = fallecidos['Survived'].value_counts()\n",
    "\n",
    "#imprimimos\n",
    "#sobrevivieron 340 personas.\n",
    "print(vivos)\n",
    "print(fallecidos)"
   ]
  },
  {
   "cell_type": "markdown",
   "metadata": {},
   "source": [
    "<font color = 'Lightcyan'> ¿Cuantos supervivientes y personas fallecidas tenian a bordo algún familiar?"
   ]
  },
  {
   "cell_type": "markdown",
   "metadata": {},
   "source": [
    "<font color = 'Cadetblue'> Para llevar a cabo este análisis, tenemos que agregar las columnas 'Parch' y 'SibSp', ya que la suma total de cónyuges, hermanos, hijos y padres nos dará el total de familiares a bordo."
   ]
  },
  {
   "cell_type": "code",
   "execution_count": 28,
   "metadata": {},
   "outputs": [
    {
     "data": {
      "text/html": [
       "<div>\n",
       "<style scoped>\n",
       "    .dataframe tbody tr th:only-of-type {\n",
       "        vertical-align: middle;\n",
       "    }\n",
       "\n",
       "    .dataframe tbody tr th {\n",
       "        vertical-align: top;\n",
       "    }\n",
       "\n",
       "    .dataframe thead th {\n",
       "        text-align: right;\n",
       "    }\n",
       "</style>\n",
       "<table border=\"1\" class=\"dataframe\">\n",
       "  <thead>\n",
       "    <tr style=\"text-align: right;\">\n",
       "      <th></th>\n",
       "      <th>PassengerId</th>\n",
       "      <th>Survived</th>\n",
       "      <th>Pclass</th>\n",
       "      <th>Name</th>\n",
       "      <th>Sex</th>\n",
       "      <th>Age</th>\n",
       "      <th>SibSp</th>\n",
       "      <th>Parch</th>\n",
       "      <th>Ticket</th>\n",
       "      <th>Fare</th>\n",
       "      <th>Cabin</th>\n",
       "      <th>Embarked</th>\n",
       "      <th>Total relatives</th>\n",
       "    </tr>\n",
       "  </thead>\n",
       "  <tbody>\n",
       "    <tr>\n",
       "      <th>0</th>\n",
       "      <td>1</td>\n",
       "      <td>0</td>\n",
       "      <td>3</td>\n",
       "      <td>Braund, Mr. Owen Harris</td>\n",
       "      <td>male</td>\n",
       "      <td>22.000000</td>\n",
       "      <td>1</td>\n",
       "      <td>0</td>\n",
       "      <td>A/5 21171</td>\n",
       "      <td>7.25</td>\n",
       "      <td>Sin cabina</td>\n",
       "      <td>S</td>\n",
       "      <td>1</td>\n",
       "    </tr>\n",
       "    <tr>\n",
       "      <th>1</th>\n",
       "      <td>2</td>\n",
       "      <td>1</td>\n",
       "      <td>1</td>\n",
       "      <td>Cumings, Mrs. John Bradley (Florence Briggs Th...</td>\n",
       "      <td>female</td>\n",
       "      <td>38.000000</td>\n",
       "      <td>1</td>\n",
       "      <td>0</td>\n",
       "      <td>PC 17599</td>\n",
       "      <td>71.28</td>\n",
       "      <td>C85</td>\n",
       "      <td>C</td>\n",
       "      <td>1</td>\n",
       "    </tr>\n",
       "    <tr>\n",
       "      <th>2</th>\n",
       "      <td>3</td>\n",
       "      <td>1</td>\n",
       "      <td>3</td>\n",
       "      <td>Heikkinen, Miss. Laina</td>\n",
       "      <td>female</td>\n",
       "      <td>26.000000</td>\n",
       "      <td>0</td>\n",
       "      <td>0</td>\n",
       "      <td>STON/O2. 3101282</td>\n",
       "      <td>7.92</td>\n",
       "      <td>Sin cabina</td>\n",
       "      <td>S</td>\n",
       "      <td>0</td>\n",
       "    </tr>\n",
       "    <tr>\n",
       "      <th>3</th>\n",
       "      <td>4</td>\n",
       "      <td>1</td>\n",
       "      <td>1</td>\n",
       "      <td>Futrelle, Mrs. Jacques Heath (Lily May Peel)</td>\n",
       "      <td>female</td>\n",
       "      <td>35.000000</td>\n",
       "      <td>1</td>\n",
       "      <td>0</td>\n",
       "      <td>113803</td>\n",
       "      <td>53.10</td>\n",
       "      <td>C123</td>\n",
       "      <td>S</td>\n",
       "      <td>1</td>\n",
       "    </tr>\n",
       "    <tr>\n",
       "      <th>4</th>\n",
       "      <td>5</td>\n",
       "      <td>0</td>\n",
       "      <td>3</td>\n",
       "      <td>Allen, Mr. William Henry</td>\n",
       "      <td>male</td>\n",
       "      <td>35.000000</td>\n",
       "      <td>0</td>\n",
       "      <td>0</td>\n",
       "      <td>373450</td>\n",
       "      <td>8.05</td>\n",
       "      <td>Sin cabina</td>\n",
       "      <td>S</td>\n",
       "      <td>0</td>\n",
       "    </tr>\n",
       "    <tr>\n",
       "      <th>...</th>\n",
       "      <td>...</td>\n",
       "      <td>...</td>\n",
       "      <td>...</td>\n",
       "      <td>...</td>\n",
       "      <td>...</td>\n",
       "      <td>...</td>\n",
       "      <td>...</td>\n",
       "      <td>...</td>\n",
       "      <td>...</td>\n",
       "      <td>...</td>\n",
       "      <td>...</td>\n",
       "      <td>...</td>\n",
       "      <td>...</td>\n",
       "    </tr>\n",
       "    <tr>\n",
       "      <th>886</th>\n",
       "      <td>887</td>\n",
       "      <td>0</td>\n",
       "      <td>2</td>\n",
       "      <td>Montvila, Rev. Juozas</td>\n",
       "      <td>male</td>\n",
       "      <td>27.000000</td>\n",
       "      <td>0</td>\n",
       "      <td>0</td>\n",
       "      <td>211536</td>\n",
       "      <td>13.00</td>\n",
       "      <td>Sin cabina</td>\n",
       "      <td>S</td>\n",
       "      <td>0</td>\n",
       "    </tr>\n",
       "    <tr>\n",
       "      <th>887</th>\n",
       "      <td>888</td>\n",
       "      <td>1</td>\n",
       "      <td>1</td>\n",
       "      <td>Graham, Miss. Margaret Edith</td>\n",
       "      <td>female</td>\n",
       "      <td>19.000000</td>\n",
       "      <td>0</td>\n",
       "      <td>0</td>\n",
       "      <td>112053</td>\n",
       "      <td>30.00</td>\n",
       "      <td>B42</td>\n",
       "      <td>S</td>\n",
       "      <td>0</td>\n",
       "    </tr>\n",
       "    <tr>\n",
       "      <th>888</th>\n",
       "      <td>889</td>\n",
       "      <td>0</td>\n",
       "      <td>3</td>\n",
       "      <td>Johnston, Miss. Catherine Helen \"Carrie\"</td>\n",
       "      <td>female</td>\n",
       "      <td>23.724409</td>\n",
       "      <td>1</td>\n",
       "      <td>2</td>\n",
       "      <td>W./C. 6607</td>\n",
       "      <td>23.45</td>\n",
       "      <td>Sin cabina</td>\n",
       "      <td>S</td>\n",
       "      <td>3</td>\n",
       "    </tr>\n",
       "    <tr>\n",
       "      <th>889</th>\n",
       "      <td>890</td>\n",
       "      <td>1</td>\n",
       "      <td>1</td>\n",
       "      <td>Behr, Mr. Karl Howell</td>\n",
       "      <td>male</td>\n",
       "      <td>26.000000</td>\n",
       "      <td>0</td>\n",
       "      <td>0</td>\n",
       "      <td>111369</td>\n",
       "      <td>30.00</td>\n",
       "      <td>C148</td>\n",
       "      <td>C</td>\n",
       "      <td>0</td>\n",
       "    </tr>\n",
       "    <tr>\n",
       "      <th>890</th>\n",
       "      <td>891</td>\n",
       "      <td>0</td>\n",
       "      <td>3</td>\n",
       "      <td>Dooley, Mr. Patrick</td>\n",
       "      <td>male</td>\n",
       "      <td>32.000000</td>\n",
       "      <td>0</td>\n",
       "      <td>0</td>\n",
       "      <td>370376</td>\n",
       "      <td>7.75</td>\n",
       "      <td>Sin cabina</td>\n",
       "      <td>Q</td>\n",
       "      <td>0</td>\n",
       "    </tr>\n",
       "  </tbody>\n",
       "</table>\n",
       "<p>889 rows × 13 columns</p>\n",
       "</div>"
      ],
      "text/plain": [
       "     PassengerId  Survived  Pclass  \\\n",
       "0              1         0       3   \n",
       "1              2         1       1   \n",
       "2              3         1       3   \n",
       "3              4         1       1   \n",
       "4              5         0       3   \n",
       "..           ...       ...     ...   \n",
       "886          887         0       2   \n",
       "887          888         1       1   \n",
       "888          889         0       3   \n",
       "889          890         1       1   \n",
       "890          891         0       3   \n",
       "\n",
       "                                                  Name     Sex        Age  \\\n",
       "0                              Braund, Mr. Owen Harris    male  22.000000   \n",
       "1    Cumings, Mrs. John Bradley (Florence Briggs Th...  female  38.000000   \n",
       "2                               Heikkinen, Miss. Laina  female  26.000000   \n",
       "3         Futrelle, Mrs. Jacques Heath (Lily May Peel)  female  35.000000   \n",
       "4                             Allen, Mr. William Henry    male  35.000000   \n",
       "..                                                 ...     ...        ...   \n",
       "886                              Montvila, Rev. Juozas    male  27.000000   \n",
       "887                       Graham, Miss. Margaret Edith  female  19.000000   \n",
       "888           Johnston, Miss. Catherine Helen \"Carrie\"  female  23.724409   \n",
       "889                              Behr, Mr. Karl Howell    male  26.000000   \n",
       "890                                Dooley, Mr. Patrick    male  32.000000   \n",
       "\n",
       "     SibSp  Parch            Ticket   Fare       Cabin Embarked  \\\n",
       "0        1      0         A/5 21171   7.25  Sin cabina        S   \n",
       "1        1      0          PC 17599  71.28         C85        C   \n",
       "2        0      0  STON/O2. 3101282   7.92  Sin cabina        S   \n",
       "3        1      0            113803  53.10        C123        S   \n",
       "4        0      0            373450   8.05  Sin cabina        S   \n",
       "..     ...    ...               ...    ...         ...      ...   \n",
       "886      0      0            211536  13.00  Sin cabina        S   \n",
       "887      0      0            112053  30.00         B42        S   \n",
       "888      1      2        W./C. 6607  23.45  Sin cabina        S   \n",
       "889      0      0            111369  30.00        C148        C   \n",
       "890      0      0            370376   7.75  Sin cabina        Q   \n",
       "\n",
       "     Total relatives  \n",
       "0                  1  \n",
       "1                  1  \n",
       "2                  0  \n",
       "3                  1  \n",
       "4                  0  \n",
       "..               ...  \n",
       "886                0  \n",
       "887                0  \n",
       "888                3  \n",
       "889                0  \n",
       "890                0  \n",
       "\n",
       "[889 rows x 13 columns]"
      ]
     },
     "execution_count": 28,
     "metadata": {},
     "output_type": "execute_result"
    }
   ],
   "source": [
    "# Sumamos las columnas para obtener el total de familiares:\n",
    "\n",
    "df1['Total relatives'] = df1['SibSp'] + df1['Parch']\n",
    "\n",
    "df1\n"
   ]
  },
  {
   "cell_type": "code",
   "execution_count": 29,
   "metadata": {},
   "outputs": [
    {
     "name": "stdout",
     "output_type": "stream",
     "text": [
      "De los que sobrevivieron, 179 contaban con algun familiar a bordo\n",
      "De los que fallecieron, 175 contaban con algun familiar a bordo\n"
     ]
    }
   ],
   "source": [
    "\"\"\"\n",
    "IMPORTANTE: Queremos sacar las personas que tuvieran ALGÚN familiar, no el total de familiares.\n",
    "\"\"\"\n",
    "#SUPERVIVIENTES:\n",
    "#filtramos nuestro df1 para obtener las lineas que sean survived = 1 y que el total de familiares sea diferente de 0.\n",
    "familiares_supervivientes = df1[(df1['Survived'] == 1) & (df1['Total relatives'] != 0)]\n",
    "\n",
    "familiares_supervivientes = familiares_supervivientes.value_counts().sum()\n",
    "familiares_supervivientes\n",
    "\n",
    "#FALLECIDOS:\n",
    "#filtramos nuestro df1 para obtener las lineas que sean survived = 0 y que el numero total de familiares sea diferente de 0:\n",
    "familiares_fallecidos = df1[(df1['Survived'] == 0) & (df1['Total relatives'] != 0)]\n",
    "familiares_fallecidos = familiares_fallecidos.value_counts().sum() #sumamos el total de familiares\n",
    "\n",
    "#IMPRIMIMOS:\n",
    "print('De los que sobrevivieron,', familiares_supervivientes, 'contaban con algun familiar a bordo')\n",
    "print('De los que fallecieron,', familiares_fallecidos, 'contaban con algun familiar a bordo')\n"
   ]
  },
  {
   "cell_type": "markdown",
   "metadata": {},
   "source": [
    "<font color = 'Lightcyan'> De esas personas que tenian familiares a bordo, ¿cuantas tenian padres o hijos?"
   ]
  },
  {
   "cell_type": "code",
   "execution_count": 30,
   "metadata": {},
   "outputs": [
    {
     "name": "stdout",
     "output_type": "stream",
     "text": [
      "De los que sobrevivieron, 109 tenian padres o hijos\n",
      "De que fallecieron, 104 tenian padres o hijos\n"
     ]
    }
   ],
   "source": [
    "#SUPERVIVIENTES:\n",
    "#filtramos nuestro df1 para obtener las lineas que sean survived = 1 y que el numero total de hijos o padres sea diferente de 0:\n",
    "parch_vivos = df1[(df1['Survived']==1) & (df1['Parch'] != 0)]\n",
    "parch_vivos = parch_vivos.value_counts().sum()\n",
    "\n",
    "\n",
    "#FALLECIDOS:\n",
    "#filtramos nuestro df1 para obtener las lineas que sean survived = 0 y que el numero total de hijos o padres sea diferente de 0:\n",
    "parch_fallecidos = df1[(df1['Survived']==0) & (df1['Parch'] != 0)]\n",
    "parch_fallecidos = parch_fallecidos.value_counts().sum()\n",
    "\n",
    "#IMPRIMIMOS:\n",
    "print('De los que sobrevivieron,', parch_vivos, 'tenian padres o hijos')\n",
    "print('De que fallecieron,', parch_fallecidos, 'tenian padres o hijos')"
   ]
  },
  {
   "cell_type": "markdown",
   "metadata": {},
   "source": [
    "<font color = 'Cadetblue'>Tras realizar los anteriores análisis, se ha visto la posibilidad de grear un gráfico Funnel:"
   ]
  },
  {
   "cell_type": "code",
   "execution_count": 31,
   "metadata": {},
   "outputs": [
    {
     "name": "stderr",
     "output_type": "stream",
     "text": [
      "\n",
      "[notice] A new release of pip is available: 23.2.1 -> 23.3\n",
      "[notice] To update, run: python.exe -m pip install --upgrade pip\n"
     ]
    }
   ],
   "source": [
    "!pip install nbformat>=4.2.0"
   ]
  },
  {
   "cell_type": "code",
   "execution_count": 32,
   "metadata": {},
   "outputs": [
    {
     "data": {
      "application/vnd.plotly.v1+json": {
       "config": {
        "plotlyServerURL": "https://plot.ly"
       },
       "data": [
        {
         "hovertemplate": "Survived=0<br>number=%{x}<br>stage=%{y}<extra></extra>",
         "legendgroup": "0",
         "marker": {
          "color": "#F8766D"
         },
         "name": "0",
         "orientation": "h",
         "showlegend": true,
         "type": "funnel",
         "x": [
          549,
          175,
          104
         ],
         "xaxis": "x",
         "y": [
          "Survived/Not Survived",
          "Relatives",
          "Parents/Children"
         ],
         "yaxis": "y"
        },
        {
         "hovertemplate": "Survived=1<br>number=%{x}<br>stage=%{y}<extra></extra>",
         "legendgroup": "1",
         "marker": {
          "color": "#A3A500"
         },
         "name": "1",
         "orientation": "h",
         "showlegend": true,
         "type": "funnel",
         "x": [
          340,
          179,
          109
         ],
         "xaxis": "x",
         "y": [
          "Survived/Not Survived",
          "Relatives",
          "Parents/Children"
         ],
         "yaxis": "y"
        }
       ],
       "layout": {
        "legend": {
         "title": {
          "text": "Survived"
         },
         "tracegroupgap": 0
        },
        "margin": {
         "t": 60
        },
        "template": {
         "data": {
          "bar": [
           {
            "error_x": {
             "color": "rgb(51,51,51)"
            },
            "error_y": {
             "color": "rgb(51,51,51)"
            },
            "marker": {
             "line": {
              "color": "rgb(237,237,237)",
              "width": 0.5
             },
             "pattern": {
              "fillmode": "overlay",
              "size": 10,
              "solidity": 0.2
             }
            },
            "type": "bar"
           }
          ],
          "barpolar": [
           {
            "marker": {
             "line": {
              "color": "rgb(237,237,237)",
              "width": 0.5
             },
             "pattern": {
              "fillmode": "overlay",
              "size": 10,
              "solidity": 0.2
             }
            },
            "type": "barpolar"
           }
          ],
          "carpet": [
           {
            "aaxis": {
             "endlinecolor": "rgb(51,51,51)",
             "gridcolor": "white",
             "linecolor": "white",
             "minorgridcolor": "white",
             "startlinecolor": "rgb(51,51,51)"
            },
            "baxis": {
             "endlinecolor": "rgb(51,51,51)",
             "gridcolor": "white",
             "linecolor": "white",
             "minorgridcolor": "white",
             "startlinecolor": "rgb(51,51,51)"
            },
            "type": "carpet"
           }
          ],
          "choropleth": [
           {
            "colorbar": {
             "outlinewidth": 0,
             "tickcolor": "rgb(237,237,237)",
             "ticklen": 6,
             "ticks": "inside"
            },
            "type": "choropleth"
           }
          ],
          "contour": [
           {
            "colorbar": {
             "outlinewidth": 0,
             "tickcolor": "rgb(237,237,237)",
             "ticklen": 6,
             "ticks": "inside"
            },
            "colorscale": [
             [
              0,
              "rgb(20,44,66)"
             ],
             [
              1,
              "rgb(90,179,244)"
             ]
            ],
            "type": "contour"
           }
          ],
          "contourcarpet": [
           {
            "colorbar": {
             "outlinewidth": 0,
             "tickcolor": "rgb(237,237,237)",
             "ticklen": 6,
             "ticks": "inside"
            },
            "type": "contourcarpet"
           }
          ],
          "heatmap": [
           {
            "colorbar": {
             "outlinewidth": 0,
             "tickcolor": "rgb(237,237,237)",
             "ticklen": 6,
             "ticks": "inside"
            },
            "colorscale": [
             [
              0,
              "rgb(20,44,66)"
             ],
             [
              1,
              "rgb(90,179,244)"
             ]
            ],
            "type": "heatmap"
           }
          ],
          "heatmapgl": [
           {
            "colorbar": {
             "outlinewidth": 0,
             "tickcolor": "rgb(237,237,237)",
             "ticklen": 6,
             "ticks": "inside"
            },
            "colorscale": [
             [
              0,
              "rgb(20,44,66)"
             ],
             [
              1,
              "rgb(90,179,244)"
             ]
            ],
            "type": "heatmapgl"
           }
          ],
          "histogram": [
           {
            "marker": {
             "pattern": {
              "fillmode": "overlay",
              "size": 10,
              "solidity": 0.2
             }
            },
            "type": "histogram"
           }
          ],
          "histogram2d": [
           {
            "colorbar": {
             "outlinewidth": 0,
             "tickcolor": "rgb(237,237,237)",
             "ticklen": 6,
             "ticks": "inside"
            },
            "colorscale": [
             [
              0,
              "rgb(20,44,66)"
             ],
             [
              1,
              "rgb(90,179,244)"
             ]
            ],
            "type": "histogram2d"
           }
          ],
          "histogram2dcontour": [
           {
            "colorbar": {
             "outlinewidth": 0,
             "tickcolor": "rgb(237,237,237)",
             "ticklen": 6,
             "ticks": "inside"
            },
            "colorscale": [
             [
              0,
              "rgb(20,44,66)"
             ],
             [
              1,
              "rgb(90,179,244)"
             ]
            ],
            "type": "histogram2dcontour"
           }
          ],
          "mesh3d": [
           {
            "colorbar": {
             "outlinewidth": 0,
             "tickcolor": "rgb(237,237,237)",
             "ticklen": 6,
             "ticks": "inside"
            },
            "type": "mesh3d"
           }
          ],
          "parcoords": [
           {
            "line": {
             "colorbar": {
              "outlinewidth": 0,
              "tickcolor": "rgb(237,237,237)",
              "ticklen": 6,
              "ticks": "inside"
             }
            },
            "type": "parcoords"
           }
          ],
          "pie": [
           {
            "automargin": true,
            "type": "pie"
           }
          ],
          "scatter": [
           {
            "fillpattern": {
             "fillmode": "overlay",
             "size": 10,
             "solidity": 0.2
            },
            "type": "scatter"
           }
          ],
          "scatter3d": [
           {
            "line": {
             "colorbar": {
              "outlinewidth": 0,
              "tickcolor": "rgb(237,237,237)",
              "ticklen": 6,
              "ticks": "inside"
             }
            },
            "marker": {
             "colorbar": {
              "outlinewidth": 0,
              "tickcolor": "rgb(237,237,237)",
              "ticklen": 6,
              "ticks": "inside"
             }
            },
            "type": "scatter3d"
           }
          ],
          "scattercarpet": [
           {
            "marker": {
             "colorbar": {
              "outlinewidth": 0,
              "tickcolor": "rgb(237,237,237)",
              "ticklen": 6,
              "ticks": "inside"
             }
            },
            "type": "scattercarpet"
           }
          ],
          "scattergeo": [
           {
            "marker": {
             "colorbar": {
              "outlinewidth": 0,
              "tickcolor": "rgb(237,237,237)",
              "ticklen": 6,
              "ticks": "inside"
             }
            },
            "type": "scattergeo"
           }
          ],
          "scattergl": [
           {
            "marker": {
             "colorbar": {
              "outlinewidth": 0,
              "tickcolor": "rgb(237,237,237)",
              "ticklen": 6,
              "ticks": "inside"
             }
            },
            "type": "scattergl"
           }
          ],
          "scattermapbox": [
           {
            "marker": {
             "colorbar": {
              "outlinewidth": 0,
              "tickcolor": "rgb(237,237,237)",
              "ticklen": 6,
              "ticks": "inside"
             }
            },
            "type": "scattermapbox"
           }
          ],
          "scatterpolar": [
           {
            "marker": {
             "colorbar": {
              "outlinewidth": 0,
              "tickcolor": "rgb(237,237,237)",
              "ticklen": 6,
              "ticks": "inside"
             }
            },
            "type": "scatterpolar"
           }
          ],
          "scatterpolargl": [
           {
            "marker": {
             "colorbar": {
              "outlinewidth": 0,
              "tickcolor": "rgb(237,237,237)",
              "ticklen": 6,
              "ticks": "inside"
             }
            },
            "type": "scatterpolargl"
           }
          ],
          "scatterternary": [
           {
            "marker": {
             "colorbar": {
              "outlinewidth": 0,
              "tickcolor": "rgb(237,237,237)",
              "ticklen": 6,
              "ticks": "inside"
             }
            },
            "type": "scatterternary"
           }
          ],
          "surface": [
           {
            "colorbar": {
             "outlinewidth": 0,
             "tickcolor": "rgb(237,237,237)",
             "ticklen": 6,
             "ticks": "inside"
            },
            "colorscale": [
             [
              0,
              "rgb(20,44,66)"
             ],
             [
              1,
              "rgb(90,179,244)"
             ]
            ],
            "type": "surface"
           }
          ],
          "table": [
           {
            "cells": {
             "fill": {
              "color": "rgb(237,237,237)"
             },
             "line": {
              "color": "white"
             }
            },
            "header": {
             "fill": {
              "color": "rgb(217,217,217)"
             },
             "line": {
              "color": "white"
             }
            },
            "type": "table"
           }
          ]
         },
         "layout": {
          "annotationdefaults": {
           "arrowhead": 0,
           "arrowwidth": 1
          },
          "autotypenumbers": "strict",
          "coloraxis": {
           "colorbar": {
            "outlinewidth": 0,
            "tickcolor": "rgb(237,237,237)",
            "ticklen": 6,
            "ticks": "inside"
           }
          },
          "colorscale": {
           "sequential": [
            [
             0,
             "rgb(20,44,66)"
            ],
            [
             1,
             "rgb(90,179,244)"
            ]
           ],
           "sequentialminus": [
            [
             0,
             "rgb(20,44,66)"
            ],
            [
             1,
             "rgb(90,179,244)"
            ]
           ]
          },
          "colorway": [
           "#F8766D",
           "#A3A500",
           "#00BF7D",
           "#00B0F6",
           "#E76BF3"
          ],
          "font": {
           "color": "rgb(51,51,51)"
          },
          "geo": {
           "bgcolor": "white",
           "lakecolor": "white",
           "landcolor": "rgb(237,237,237)",
           "showlakes": true,
           "showland": true,
           "subunitcolor": "white"
          },
          "hoverlabel": {
           "align": "left"
          },
          "hovermode": "closest",
          "paper_bgcolor": "white",
          "plot_bgcolor": "rgb(237,237,237)",
          "polar": {
           "angularaxis": {
            "gridcolor": "white",
            "linecolor": "white",
            "showgrid": true,
            "tickcolor": "rgb(51,51,51)",
            "ticks": "outside"
           },
           "bgcolor": "rgb(237,237,237)",
           "radialaxis": {
            "gridcolor": "white",
            "linecolor": "white",
            "showgrid": true,
            "tickcolor": "rgb(51,51,51)",
            "ticks": "outside"
           }
          },
          "scene": {
           "xaxis": {
            "backgroundcolor": "rgb(237,237,237)",
            "gridcolor": "white",
            "gridwidth": 2,
            "linecolor": "white",
            "showbackground": true,
            "showgrid": true,
            "tickcolor": "rgb(51,51,51)",
            "ticks": "outside",
            "zerolinecolor": "white"
           },
           "yaxis": {
            "backgroundcolor": "rgb(237,237,237)",
            "gridcolor": "white",
            "gridwidth": 2,
            "linecolor": "white",
            "showbackground": true,
            "showgrid": true,
            "tickcolor": "rgb(51,51,51)",
            "ticks": "outside",
            "zerolinecolor": "white"
           },
           "zaxis": {
            "backgroundcolor": "rgb(237,237,237)",
            "gridcolor": "white",
            "gridwidth": 2,
            "linecolor": "white",
            "showbackground": true,
            "showgrid": true,
            "tickcolor": "rgb(51,51,51)",
            "ticks": "outside",
            "zerolinecolor": "white"
           }
          },
          "shapedefaults": {
           "fillcolor": "black",
           "line": {
            "width": 0
           },
           "opacity": 0.3
          },
          "ternary": {
           "aaxis": {
            "gridcolor": "white",
            "linecolor": "white",
            "showgrid": true,
            "tickcolor": "rgb(51,51,51)",
            "ticks": "outside"
           },
           "baxis": {
            "gridcolor": "white",
            "linecolor": "white",
            "showgrid": true,
            "tickcolor": "rgb(51,51,51)",
            "ticks": "outside"
           },
           "bgcolor": "rgb(237,237,237)",
           "caxis": {
            "gridcolor": "white",
            "linecolor": "white",
            "showgrid": true,
            "tickcolor": "rgb(51,51,51)",
            "ticks": "outside"
           }
          },
          "xaxis": {
           "automargin": true,
           "gridcolor": "white",
           "linecolor": "white",
           "showgrid": true,
           "tickcolor": "rgb(51,51,51)",
           "ticks": "outside",
           "title": {
            "standoff": 15
           },
           "zerolinecolor": "white"
          },
          "yaxis": {
           "automargin": true,
           "gridcolor": "white",
           "linecolor": "white",
           "showgrid": true,
           "tickcolor": "rgb(51,51,51)",
           "ticks": "outside",
           "title": {
            "standoff": 15
           },
           "zerolinecolor": "white"
          }
         }
        },
        "xaxis": {
         "anchor": "y",
         "domain": [
          0,
          1
         ],
         "title": {
          "text": "number"
         }
        },
        "yaxis": {
         "anchor": "x",
         "domain": [
          0,
          1
         ],
         "title": {
          "text": "stage"
         }
        }
       }
      }
     },
     "metadata": {},
     "output_type": "display_data"
    }
   ],
   "source": [
    "import plotly.express as px\n",
    "#nombramos los stages\n",
    "stages = ['Survived/Not Survived', 'Relatives', 'Parents/Children']\n",
    "#definimos la variable mujeres, indicandole los valores y el nombre de la variable\n",
    "df_fallecidos = pd.DataFrame(dict(number = [549, 175, 104], stage = stages))\n",
    "df_fallecidos['Survived'] = 0\n",
    "#definimos la variable hombres, indicandole los valores y el nombre de la variable\n",
    "df_vivos = pd.DataFrame(dict(number = [340, 179, 109], stage = stages))\n",
    "df_vivos['Survived'] = 1\n",
    "#concatenamos los dos DF\n",
    "df3 = pd.concat([df_fallecidos, df_vivos])\n",
    "fig = px.funnel(df3, x = 'number', y = 'stage', color='Survived', template='ggplot2')\n",
    "fig.show()"
   ]
  },
  {
   "cell_type": "markdown",
   "metadata": {},
   "source": [
    "### <font color = 'Lightcyan'> Análisis según el género"
   ]
  },
  {
   "cell_type": "markdown",
   "metadata": {},
   "source": [
    "<font color = 'Lightcyan'> ¿Cuantos hombres y cuantas mujeres embarcaron?"
   ]
  },
  {
   "cell_type": "code",
   "execution_count": 33,
   "metadata": {},
   "outputs": [
    {
     "name": "stdout",
     "output_type": "stream",
     "text": [
      "Total mujeres a bordo: 312\n",
      "Total hombres a bordo: 577\n"
     ]
    }
   ],
   "source": [
    "#Primero filtramos el df1 por el género 'female' y contamos los valores que existen con este filtro.\n",
    "\n",
    "mujeres = df1[df1['Sex'] == 'female'].value_counts().sum()\n",
    "\n",
    "#Replicamos lo mismo para los hombres:\n",
    "\n",
    "hombres = df1[df1['Sex'] == 'male'].value_counts().sum()\n",
    "\n",
    "\n",
    "print('Total mujeres a bordo:', mujeres)\n",
    "print('Total hombres a bordo:', hombres)"
   ]
  },
  {
   "cell_type": "markdown",
   "metadata": {},
   "source": [
    "<font color = 'Lightcyan'> ¿Cuantas mujeres y cuantos hombres fallecieron y sobrevivieron?"
   ]
  },
  {
   "cell_type": "code",
   "execution_count": 34,
   "metadata": {},
   "outputs": [
    {
     "data": {
      "text/plain": [
       "Sex     Survived\n",
       "female  1           231\n",
       "        0            81\n",
       "male    0           468\n",
       "        1           109\n",
       "Name: count, dtype: int64"
      ]
     },
     "execution_count": 34,
     "metadata": {},
     "output_type": "execute_result"
    }
   ],
   "source": [
    "# Agrupamos y calculamos la mediana\n",
    "\n",
    "muj_hom_estado = df1.groupby(['Sex'])['Survived'].value_counts() #al haber creado la variable 'Con cabina', ya podemos agrupar.\n",
    "\n",
    "# Dado que existen precios muy altos y muy bajos que pueden alterar los resultados, hemos decidido realizarlo con la mediana.\n",
    "\n",
    "muj_hom_estado"
   ]
  },
  {
   "cell_type": "code",
   "execution_count": 35,
   "metadata": {},
   "outputs": [
    {
     "name": "stdout",
     "output_type": "stream",
     "text": [
      "La proporción de mujeres que murieron sobre las que embarcaron fue: 25.96 %\n",
      "La proporción de hombres que murieron sobre las que embarcaron fue: 81.11 %\n"
     ]
    }
   ],
   "source": [
    "\"\"\"\n",
    "La información anterior no confirma del todo que murieran más hombres que mujeres, ya que a bordo ya había más hombres. \n",
    "Para saber esto, habría que ver la proporción.\n",
    "\"\"\"\n",
    "#MUJERES:\n",
    "proporcion_fallecidos_muj = lambda mujeres: round((81 / mujeres)*100, 2)\n",
    "\n",
    "resultado_mujeres = proporcion_fallecidos_muj(mujeres)\n",
    "\n",
    "#HOMBRES:\n",
    "proporcion_fallecidos_hom = lambda hombres: round((468 / hombres)*100, 2)\n",
    "\n",
    "resultado_hombres = proporcion_fallecidos_hom(hombres)\n",
    "\n",
    "\n",
    "print('La proporción de mujeres que murieron sobre las que embarcaron fue:', resultado_mujeres,'%')\n",
    "print('La proporción de hombres que murieron sobre las que embarcaron fue:', resultado_hombres,'%')"
   ]
  },
  {
   "cell_type": "markdown",
   "metadata": {},
   "source": [
    "## <font color = 'Lightcyan'> Análisis complementario: evacuación de pasajeros"
   ]
  },
  {
   "cell_type": "markdown",
   "metadata": {},
   "source": [
    "____________________________________________________________________________________________________________________________________________________________________________________________________________"
   ]
  },
  {
   "cell_type": "markdown",
   "metadata": {},
   "source": [
    "<font color = 'Cadetblue'> Para realizar el presente análisis complementario, se ha consultado la web https://es.wikipedia.org/wiki/Hundimiento_del_RMS_Titanic donde se informa sobre los botes que se tiraron para el rescate de pasajeros. "
   ]
  },
  {
   "cell_type": "code",
   "execution_count": 36,
   "metadata": {},
   "outputs": [
    {
     "data": {
      "text/plain": [
       "[                          Hundimiento del RMS Titanic  \\\n",
       " 0   Der Untergang der Titanic, ilustración del hun...   \n",
       " 1                                              Suceso   \n",
       " 2                                               Fecha   \n",
       " 3                                                Hora   \n",
       " 4                                               Causa   \n",
       " 5                                               Lugar   \n",
       " 6                                         Coordenadas   \n",
       " 7                                              Origen   \n",
       " 8                                       Última escala   \n",
       " 9                                             Destino   \n",
       " 10                                         Fallecidos   \n",
       " 11                                          Implicado   \n",
       " 12                                               Tipo   \n",
       " 13                                           Operador   \n",
       " 14                                           Registro   \n",
       " 15                                             Nombre   \n",
       " 16                                          Pasajeros   \n",
       " 17                                        Tripulación   \n",
       " 18                                     Supervivientes   \n",
       " 19                                                NaN   \n",
       " 20                         [editar datos en Wikidata]   \n",
       " \n",
       "                         Hundimiento del RMS Titanic.1  \\\n",
       " 0   Der Untergang der Titanic, ilustración del hun...   \n",
       " 1                                           Naufragio   \n",
       " 2                              14-15 de abril de 1912   \n",
       " 3         23:40 del 14 de abril-02:20 del 15 de abril   \n",
       " 4                            Colisión con un iceberg.   \n",
       " 5                                    Océano Atlántico   \n",
       " 6   41°43′55″N 49°56′45″O﻿ / ﻿41.73194444, -49.945...   \n",
       " 7                                         Southampton   \n",
       " 8                                          Queenstown   \n",
       " 9                                          Nueva York   \n",
       " 10                                               1496   \n",
       " 11                                          Implicado   \n",
       " 12         Segundo transatlántico de la clase Olympic   \n",
       " 13                                    White Star Line   \n",
       " 14  Número Oficial 131428[1]​ Código de letras HVM...   \n",
       " 15                                        RMS Titanic   \n",
       " 16                                               1317   \n",
       " 17                                                891   \n",
       " 18                                                712   \n",
       " 19                                                NaN   \n",
       " 20                         [editar datos en Wikidata]   \n",
       " \n",
       "                         Hundimiento del RMS Titanic.2  \n",
       " 0   Der Untergang der Titanic, ilustración del hun...  \n",
       " 1                                           Naufragio  \n",
       " 2                              14-15 de abril de 1912  \n",
       " 3         23:40 del 14 de abril-02:20 del 15 de abril  \n",
       " 4                            Colisión con un iceberg.  \n",
       " 5                                    Océano Atlántico  \n",
       " 6   41°43′55″N 49°56′45″O﻿ / ﻿41.73194444, -49.945...  \n",
       " 7                                         Southampton  \n",
       " 8                                          Queenstown  \n",
       " 9                                          Nueva York  \n",
       " 10                                               1496  \n",
       " 11                                          Implicado  \n",
       " 12         Segundo transatlántico de la clase Olympic  \n",
       " 13                                    White Star Line  \n",
       " 14  Número Oficial 131428[1]​ Código de letras HVM...  \n",
       " 15                                        RMS Titanic  \n",
       " 16                                               1317  \n",
       " 17                                                891  \n",
       " 18                                                712  \n",
       " 19                                                NaN  \n",
       " 20                         [editar datos en Wikidata]  ,\n",
       "       Botes Hora del lanzamiento al mar[74]​  Capacidad  Contenido real  \\\n",
       " 0    Bote 1                            01:05         40              12   \n",
       " 1    Bote 2                            01:45         40              18   \n",
       " 2    Bote 3                            00:55         65              32   \n",
       " 3    Bote 4                            01:50         65              30   \n",
       " 4    Bote 5                            00:43         65              35   \n",
       " 5    Bote 6                            01:10         65              24   \n",
       " 6    Bote 7                            00:40         65              28   \n",
       " 7    Bote 8                            01:00         65              28   \n",
       " 8    Bote 9                            01:30         65              42   \n",
       " 9   Bote 10                            01:50         65              34   \n",
       " 10  Bote 11                            01:35         65              55   \n",
       " 11  Bote 12                            01:30         65              40   \n",
       " 12  Bote 13                            01:40         65              64   \n",
       " 13  Bote 14                            01:25         65              40   \n",
       " 14  Bote 15                            01:40         65              65   \n",
       " 15  Bote 16                            01:20         65              40   \n",
       " 16   Bote A                            02:15         47              20   \n",
       " 17   Bote B                            02:15         47              30   \n",
       " 18   Bote C                            02:00         47              40   \n",
       " 19   Bote D                            02:05         47              24   \n",
       " 20    Total                              NaN       1178             712   \n",
       " \n",
       "         Lado    Personal de asistencia Hora de recogida por el Carpathia[75]​  \n",
       " 0   Estribor             Murdoch, Lowe                                  04:45  \n",
       " 1      Babor              Wilde, Smith                                  04:10  \n",
       " 2   Estribor             Murdoch, Lowe                                  07:30  \n",
       " 3      Babor                Lightoller                                  08:00  \n",
       " 4   Estribor     Murdoch, Lowe, Pitman                                  06:00  \n",
       " 5      Babor         Lightoller, Smith                                  08:00  \n",
       " 6   Estribor             Murdoch, Lowe                                  06:15  \n",
       " 7      Babor  Lightoller, Wilde, Smith                                  07:30  \n",
       " 8   Estribor            Murdoch, Moody                                  06:15  \n",
       " 9      Babor                   Murdoch                                  08:00  \n",
       " 10  Estribor                   Murdoch                                  07:00  \n",
       " 11     Babor         Wilde, Lightoller                                  08:15  \n",
       " 12  Estribor            Murdoch, Moody                                  06:30  \n",
       " 13     Babor   Lowe, Wilde, Lightoller                                  07:15  \n",
       " 14  Estribor            Murdoch, Moody                                  07:30  \n",
       " 15     Babor                     Moody                                  06:45  \n",
       " 16  Estribor            Murdoch, Moody  Abandonado a la deriva antes de 04:10  \n",
       " 17     Babor                Lightoller  Abandonado a la deriva antes de 04:10  \n",
       " 18  Estribor            Murdoch, Wilde                                  05:45  \n",
       " 19     Babor         Lightoller, Wilde                                  07:15  \n",
       " 20       NaN                       NaN                                    NaN  ,\n",
       "                             0              1              2              3  \\\n",
       " 0                         NaN  Primera clase  Segunda clase  Tercera clase   \n",
       " 1                         NaN            NaN            NaN            NaN   \n",
       " 2            Hombres víctimas            118            154            387   \n",
       " 3            Mujeres víctimas              4             13             89   \n",
       " 4              Niños víctimas              1              0             52   \n",
       " 5              Total víctimas   123 (37,8 %)   167 (58,6 %)   528 (74,8 %)   \n",
       " 6                         NaN            NaN            NaN            NaN   \n",
       " 7             Hombres a bordo            175            168            462   \n",
       " 8             Mujeres a bordo            144             93            165   \n",
       " 9               Niños a bordo              6             24             79   \n",
       " 10                        NaN            NaN            NaN            NaN   \n",
       " 11  Total de personas a bordo            325            285            706   \n",
       " \n",
       "                      4            5              6  \n",
       " 0   Total de pasajeros  Tripulación          Total  \n",
       " 1                  NaN          NaN            NaN  \n",
       " 2                  659          670           1329  \n",
       " 3                  106            3            109  \n",
       " 4                   53            -             53  \n",
       " 5         818 (62,2 %)   673 (76 %)  1491 (67,7 %)  \n",
       " 6                  NaN          NaN            NaN  \n",
       " 7                  805          862           1667  \n",
       " 8                  402           23            425  \n",
       " 9                  109            -            109  \n",
       " 10                 NaN          NaN            NaN  \n",
       " 11                1316          885           2201  ,\n",
       "                         0                                                  1\n",
       " 0  Control de autoridades  Proyectos Wikimedia  Datos: Q2577588  Multimed...]"
      ]
     },
     "execution_count": 36,
     "metadata": {},
     "output_type": "execute_result"
    }
   ],
   "source": [
    "#guardamos nuestra URL en una variable\n",
    "URL = 'https://es.wikipedia.org/wiki/Hundimiento_del_RMS_Titanic'\n",
    "\n",
    "#con read_html, se va a leer el codigo entero. Como pandas lo que hace es crear tablas, va a almacenar en la variable 'tables' las tablas que encuentre\n",
    "tablas = pd.read_html(URL)\n",
    "tablas"
   ]
  },
  {
   "cell_type": "code",
   "execution_count": 37,
   "metadata": {},
   "outputs": [
    {
     "name": "stdout",
     "output_type": "stream",
     "text": [
      "      Botes Hora del lanzamiento al mar[74]​  Capacidad  Contenido real  \\\n",
      "0    Bote 1                            01:05         40              12   \n",
      "1    Bote 2                            01:45         40              18   \n",
      "2    Bote 3                            00:55         65              32   \n",
      "3    Bote 4                            01:50         65              30   \n",
      "4    Bote 5                            00:43         65              35   \n",
      "5    Bote 6                            01:10         65              24   \n",
      "6    Bote 7                            00:40         65              28   \n",
      "7    Bote 8                            01:00         65              28   \n",
      "8    Bote 9                            01:30         65              42   \n",
      "9   Bote 10                            01:50         65              34   \n",
      "10  Bote 11                            01:35         65              55   \n",
      "11  Bote 12                            01:30         65              40   \n",
      "12  Bote 13                            01:40         65              64   \n",
      "13  Bote 14                            01:25         65              40   \n",
      "14  Bote 15                            01:40         65              65   \n",
      "15  Bote 16                            01:20         65              40   \n",
      "16   Bote A                            02:15         47              20   \n",
      "17   Bote B                            02:15         47              30   \n",
      "18   Bote C                            02:00         47              40   \n",
      "19   Bote D                            02:05         47              24   \n",
      "20    Total                              NaN       1178             712   \n",
      "\n",
      "        Lado    Personal de asistencia Hora de recogida por el Carpathia[75]​  \n",
      "0   Estribor             Murdoch, Lowe                                  04:45  \n",
      "1      Babor              Wilde, Smith                                  04:10  \n",
      "2   Estribor             Murdoch, Lowe                                  07:30  \n",
      "3      Babor                Lightoller                                  08:00  \n",
      "4   Estribor     Murdoch, Lowe, Pitman                                  06:00  \n",
      "5      Babor         Lightoller, Smith                                  08:00  \n",
      "6   Estribor             Murdoch, Lowe                                  06:15  \n",
      "7      Babor  Lightoller, Wilde, Smith                                  07:30  \n",
      "8   Estribor            Murdoch, Moody                                  06:15  \n",
      "9      Babor                   Murdoch                                  08:00  \n",
      "10  Estribor                   Murdoch                                  07:00  \n",
      "11     Babor         Wilde, Lightoller                                  08:15  \n",
      "12  Estribor            Murdoch, Moody                                  06:30  \n",
      "13     Babor   Lowe, Wilde, Lightoller                                  07:15  \n",
      "14  Estribor            Murdoch, Moody                                  07:30  \n",
      "15     Babor                     Moody                                  06:45  \n",
      "16  Estribor            Murdoch, Moody  Abandonado a la deriva antes de 04:10  \n",
      "17     Babor                Lightoller  Abandonado a la deriva antes de 04:10  \n",
      "18  Estribor            Murdoch, Wilde                                  05:45  \n",
      "19     Babor         Lightoller, Wilde                                  07:15  \n",
      "20       NaN                       NaN                                    NaN  \n"
     ]
    }
   ],
   "source": [
    "#como siguiente paso, se ha creado un bucle for para iterar sobre las tablas que se han encontrado.\n",
    "\n",
    "\n",
    "for tabla in tablas: #para cada elemento de mi variable 'tables' (la que contiene todas las tablas encontradas)\n",
    "    if 'Botes' in tabla.columns: #si la palabra 'botes' está en las clumnas del elemento\n",
    "        print(tabla) #imprimeme la tabla\n",
    "        break #si encuentra alguna, para la iteracion\n",
    "          \n",
    "else:\n",
    "    print('Tabla no encontrada')"
   ]
  },
  {
   "cell_type": "code",
   "execution_count": 38,
   "metadata": {},
   "outputs": [
    {
     "data": {
      "text/html": [
       "<div>\n",
       "<style scoped>\n",
       "    .dataframe tbody tr th:only-of-type {\n",
       "        vertical-align: middle;\n",
       "    }\n",
       "\n",
       "    .dataframe tbody tr th {\n",
       "        vertical-align: top;\n",
       "    }\n",
       "\n",
       "    .dataframe thead th {\n",
       "        text-align: right;\n",
       "    }\n",
       "</style>\n",
       "<table border=\"1\" class=\"dataframe\">\n",
       "  <thead>\n",
       "    <tr style=\"text-align: right;\">\n",
       "      <th></th>\n",
       "      <th>Botes</th>\n",
       "      <th>Hora del lanzamiento al mar[74]​</th>\n",
       "      <th>Capacidad</th>\n",
       "      <th>Contenido real</th>\n",
       "      <th>Lado</th>\n",
       "      <th>Personal de asistencia</th>\n",
       "      <th>Hora de recogida por el Carpathia[75]​</th>\n",
       "    </tr>\n",
       "  </thead>\n",
       "  <tbody>\n",
       "    <tr>\n",
       "      <th>0</th>\n",
       "      <td>Bote 1</td>\n",
       "      <td>01:05</td>\n",
       "      <td>40</td>\n",
       "      <td>12</td>\n",
       "      <td>Estribor</td>\n",
       "      <td>Murdoch, Lowe</td>\n",
       "      <td>04:45</td>\n",
       "    </tr>\n",
       "    <tr>\n",
       "      <th>1</th>\n",
       "      <td>Bote 2</td>\n",
       "      <td>01:45</td>\n",
       "      <td>40</td>\n",
       "      <td>18</td>\n",
       "      <td>Babor</td>\n",
       "      <td>Wilde, Smith</td>\n",
       "      <td>04:10</td>\n",
       "    </tr>\n",
       "    <tr>\n",
       "      <th>2</th>\n",
       "      <td>Bote 3</td>\n",
       "      <td>00:55</td>\n",
       "      <td>65</td>\n",
       "      <td>32</td>\n",
       "      <td>Estribor</td>\n",
       "      <td>Murdoch, Lowe</td>\n",
       "      <td>07:30</td>\n",
       "    </tr>\n",
       "    <tr>\n",
       "      <th>3</th>\n",
       "      <td>Bote 4</td>\n",
       "      <td>01:50</td>\n",
       "      <td>65</td>\n",
       "      <td>30</td>\n",
       "      <td>Babor</td>\n",
       "      <td>Lightoller</td>\n",
       "      <td>08:00</td>\n",
       "    </tr>\n",
       "    <tr>\n",
       "      <th>4</th>\n",
       "      <td>Bote 5</td>\n",
       "      <td>00:43</td>\n",
       "      <td>65</td>\n",
       "      <td>35</td>\n",
       "      <td>Estribor</td>\n",
       "      <td>Murdoch, Lowe, Pitman</td>\n",
       "      <td>06:00</td>\n",
       "    </tr>\n",
       "    <tr>\n",
       "      <th>5</th>\n",
       "      <td>Bote 6</td>\n",
       "      <td>01:10</td>\n",
       "      <td>65</td>\n",
       "      <td>24</td>\n",
       "      <td>Babor</td>\n",
       "      <td>Lightoller, Smith</td>\n",
       "      <td>08:00</td>\n",
       "    </tr>\n",
       "    <tr>\n",
       "      <th>6</th>\n",
       "      <td>Bote 7</td>\n",
       "      <td>00:40</td>\n",
       "      <td>65</td>\n",
       "      <td>28</td>\n",
       "      <td>Estribor</td>\n",
       "      <td>Murdoch, Lowe</td>\n",
       "      <td>06:15</td>\n",
       "    </tr>\n",
       "    <tr>\n",
       "      <th>7</th>\n",
       "      <td>Bote 8</td>\n",
       "      <td>01:00</td>\n",
       "      <td>65</td>\n",
       "      <td>28</td>\n",
       "      <td>Babor</td>\n",
       "      <td>Lightoller, Wilde, Smith</td>\n",
       "      <td>07:30</td>\n",
       "    </tr>\n",
       "    <tr>\n",
       "      <th>8</th>\n",
       "      <td>Bote 9</td>\n",
       "      <td>01:30</td>\n",
       "      <td>65</td>\n",
       "      <td>42</td>\n",
       "      <td>Estribor</td>\n",
       "      <td>Murdoch, Moody</td>\n",
       "      <td>06:15</td>\n",
       "    </tr>\n",
       "    <tr>\n",
       "      <th>9</th>\n",
       "      <td>Bote 10</td>\n",
       "      <td>01:50</td>\n",
       "      <td>65</td>\n",
       "      <td>34</td>\n",
       "      <td>Babor</td>\n",
       "      <td>Murdoch</td>\n",
       "      <td>08:00</td>\n",
       "    </tr>\n",
       "    <tr>\n",
       "      <th>10</th>\n",
       "      <td>Bote 11</td>\n",
       "      <td>01:35</td>\n",
       "      <td>65</td>\n",
       "      <td>55</td>\n",
       "      <td>Estribor</td>\n",
       "      <td>Murdoch</td>\n",
       "      <td>07:00</td>\n",
       "    </tr>\n",
       "    <tr>\n",
       "      <th>11</th>\n",
       "      <td>Bote 12</td>\n",
       "      <td>01:30</td>\n",
       "      <td>65</td>\n",
       "      <td>40</td>\n",
       "      <td>Babor</td>\n",
       "      <td>Wilde, Lightoller</td>\n",
       "      <td>08:15</td>\n",
       "    </tr>\n",
       "    <tr>\n",
       "      <th>12</th>\n",
       "      <td>Bote 13</td>\n",
       "      <td>01:40</td>\n",
       "      <td>65</td>\n",
       "      <td>64</td>\n",
       "      <td>Estribor</td>\n",
       "      <td>Murdoch, Moody</td>\n",
       "      <td>06:30</td>\n",
       "    </tr>\n",
       "    <tr>\n",
       "      <th>13</th>\n",
       "      <td>Bote 14</td>\n",
       "      <td>01:25</td>\n",
       "      <td>65</td>\n",
       "      <td>40</td>\n",
       "      <td>Babor</td>\n",
       "      <td>Lowe, Wilde, Lightoller</td>\n",
       "      <td>07:15</td>\n",
       "    </tr>\n",
       "    <tr>\n",
       "      <th>14</th>\n",
       "      <td>Bote 15</td>\n",
       "      <td>01:40</td>\n",
       "      <td>65</td>\n",
       "      <td>65</td>\n",
       "      <td>Estribor</td>\n",
       "      <td>Murdoch, Moody</td>\n",
       "      <td>07:30</td>\n",
       "    </tr>\n",
       "    <tr>\n",
       "      <th>15</th>\n",
       "      <td>Bote 16</td>\n",
       "      <td>01:20</td>\n",
       "      <td>65</td>\n",
       "      <td>40</td>\n",
       "      <td>Babor</td>\n",
       "      <td>Moody</td>\n",
       "      <td>06:45</td>\n",
       "    </tr>\n",
       "    <tr>\n",
       "      <th>16</th>\n",
       "      <td>Bote A</td>\n",
       "      <td>02:15</td>\n",
       "      <td>47</td>\n",
       "      <td>20</td>\n",
       "      <td>Estribor</td>\n",
       "      <td>Murdoch, Moody</td>\n",
       "      <td>Abandonado a la deriva antes de 04:10</td>\n",
       "    </tr>\n",
       "    <tr>\n",
       "      <th>17</th>\n",
       "      <td>Bote B</td>\n",
       "      <td>02:15</td>\n",
       "      <td>47</td>\n",
       "      <td>30</td>\n",
       "      <td>Babor</td>\n",
       "      <td>Lightoller</td>\n",
       "      <td>Abandonado a la deriva antes de 04:10</td>\n",
       "    </tr>\n",
       "    <tr>\n",
       "      <th>18</th>\n",
       "      <td>Bote C</td>\n",
       "      <td>02:00</td>\n",
       "      <td>47</td>\n",
       "      <td>40</td>\n",
       "      <td>Estribor</td>\n",
       "      <td>Murdoch, Wilde</td>\n",
       "      <td>05:45</td>\n",
       "    </tr>\n",
       "    <tr>\n",
       "      <th>19</th>\n",
       "      <td>Bote D</td>\n",
       "      <td>02:05</td>\n",
       "      <td>47</td>\n",
       "      <td>24</td>\n",
       "      <td>Babor</td>\n",
       "      <td>Lightoller, Wilde</td>\n",
       "      <td>07:15</td>\n",
       "    </tr>\n",
       "    <tr>\n",
       "      <th>20</th>\n",
       "      <td>Total</td>\n",
       "      <td>NaN</td>\n",
       "      <td>1178</td>\n",
       "      <td>712</td>\n",
       "      <td>NaN</td>\n",
       "      <td>NaN</td>\n",
       "      <td>NaN</td>\n",
       "    </tr>\n",
       "  </tbody>\n",
       "</table>\n",
       "</div>"
      ],
      "text/plain": [
       "      Botes Hora del lanzamiento al mar[74]​  Capacidad  Contenido real  \\\n",
       "0    Bote 1                            01:05         40              12   \n",
       "1    Bote 2                            01:45         40              18   \n",
       "2    Bote 3                            00:55         65              32   \n",
       "3    Bote 4                            01:50         65              30   \n",
       "4    Bote 5                            00:43         65              35   \n",
       "5    Bote 6                            01:10         65              24   \n",
       "6    Bote 7                            00:40         65              28   \n",
       "7    Bote 8                            01:00         65              28   \n",
       "8    Bote 9                            01:30         65              42   \n",
       "9   Bote 10                            01:50         65              34   \n",
       "10  Bote 11                            01:35         65              55   \n",
       "11  Bote 12                            01:30         65              40   \n",
       "12  Bote 13                            01:40         65              64   \n",
       "13  Bote 14                            01:25         65              40   \n",
       "14  Bote 15                            01:40         65              65   \n",
       "15  Bote 16                            01:20         65              40   \n",
       "16   Bote A                            02:15         47              20   \n",
       "17   Bote B                            02:15         47              30   \n",
       "18   Bote C                            02:00         47              40   \n",
       "19   Bote D                            02:05         47              24   \n",
       "20    Total                              NaN       1178             712   \n",
       "\n",
       "        Lado    Personal de asistencia Hora de recogida por el Carpathia[75]​  \n",
       "0   Estribor             Murdoch, Lowe                                  04:45  \n",
       "1      Babor              Wilde, Smith                                  04:10  \n",
       "2   Estribor             Murdoch, Lowe                                  07:30  \n",
       "3      Babor                Lightoller                                  08:00  \n",
       "4   Estribor     Murdoch, Lowe, Pitman                                  06:00  \n",
       "5      Babor         Lightoller, Smith                                  08:00  \n",
       "6   Estribor             Murdoch, Lowe                                  06:15  \n",
       "7      Babor  Lightoller, Wilde, Smith                                  07:30  \n",
       "8   Estribor            Murdoch, Moody                                  06:15  \n",
       "9      Babor                   Murdoch                                  08:00  \n",
       "10  Estribor                   Murdoch                                  07:00  \n",
       "11     Babor         Wilde, Lightoller                                  08:15  \n",
       "12  Estribor            Murdoch, Moody                                  06:30  \n",
       "13     Babor   Lowe, Wilde, Lightoller                                  07:15  \n",
       "14  Estribor            Murdoch, Moody                                  07:30  \n",
       "15     Babor                     Moody                                  06:45  \n",
       "16  Estribor            Murdoch, Moody  Abandonado a la deriva antes de 04:10  \n",
       "17     Babor                Lightoller  Abandonado a la deriva antes de 04:10  \n",
       "18  Estribor            Murdoch, Wilde                                  05:45  \n",
       "19     Babor         Lightoller, Wilde                                  07:15  \n",
       "20       NaN                       NaN                                    NaN  "
      ]
     },
     "execution_count": 38,
     "metadata": {},
     "output_type": "execute_result"
    }
   ],
   "source": [
    "#convertimos a DF\n",
    "tabla = pd.DataFrame(tabla)\n",
    "tabla"
   ]
  },
  {
   "cell_type": "code",
   "execution_count": 39,
   "metadata": {},
   "outputs": [
    {
     "data": {
      "text/html": [
       "<div>\n",
       "<style scoped>\n",
       "    .dataframe tbody tr th:only-of-type {\n",
       "        vertical-align: middle;\n",
       "    }\n",
       "\n",
       "    .dataframe tbody tr th {\n",
       "        vertical-align: top;\n",
       "    }\n",
       "\n",
       "    .dataframe thead th {\n",
       "        text-align: right;\n",
       "    }\n",
       "</style>\n",
       "<table border=\"1\" class=\"dataframe\">\n",
       "  <thead>\n",
       "    <tr style=\"text-align: right;\">\n",
       "      <th></th>\n",
       "      <th>Botes</th>\n",
       "      <th>Hora del lanzamiento al mar[74]​</th>\n",
       "      <th>Capacidad</th>\n",
       "      <th>Contenido real</th>\n",
       "      <th>Lado</th>\n",
       "      <th>Personal de asistencia</th>\n",
       "      <th>Hora de recogida por el Carpathia[75]​</th>\n",
       "    </tr>\n",
       "  </thead>\n",
       "  <tbody>\n",
       "    <tr>\n",
       "      <th>0</th>\n",
       "      <td>Bote 1</td>\n",
       "      <td>01:05</td>\n",
       "      <td>40</td>\n",
       "      <td>12</td>\n",
       "      <td>Estribor</td>\n",
       "      <td>Murdoch, Lowe</td>\n",
       "      <td>04:45</td>\n",
       "    </tr>\n",
       "    <tr>\n",
       "      <th>1</th>\n",
       "      <td>Bote 2</td>\n",
       "      <td>01:45</td>\n",
       "      <td>40</td>\n",
       "      <td>18</td>\n",
       "      <td>Babor</td>\n",
       "      <td>Wilde, Smith</td>\n",
       "      <td>04:10</td>\n",
       "    </tr>\n",
       "    <tr>\n",
       "      <th>2</th>\n",
       "      <td>Bote 3</td>\n",
       "      <td>00:55</td>\n",
       "      <td>65</td>\n",
       "      <td>32</td>\n",
       "      <td>Estribor</td>\n",
       "      <td>Murdoch, Lowe</td>\n",
       "      <td>07:30</td>\n",
       "    </tr>\n",
       "    <tr>\n",
       "      <th>3</th>\n",
       "      <td>Bote 4</td>\n",
       "      <td>01:50</td>\n",
       "      <td>65</td>\n",
       "      <td>30</td>\n",
       "      <td>Babor</td>\n",
       "      <td>Lightoller</td>\n",
       "      <td>08:00</td>\n",
       "    </tr>\n",
       "    <tr>\n",
       "      <th>4</th>\n",
       "      <td>Bote 5</td>\n",
       "      <td>00:43</td>\n",
       "      <td>65</td>\n",
       "      <td>35</td>\n",
       "      <td>Estribor</td>\n",
       "      <td>Murdoch, Lowe, Pitman</td>\n",
       "      <td>06:00</td>\n",
       "    </tr>\n",
       "    <tr>\n",
       "      <th>5</th>\n",
       "      <td>Bote 6</td>\n",
       "      <td>01:10</td>\n",
       "      <td>65</td>\n",
       "      <td>24</td>\n",
       "      <td>Babor</td>\n",
       "      <td>Lightoller, Smith</td>\n",
       "      <td>08:00</td>\n",
       "    </tr>\n",
       "    <tr>\n",
       "      <th>6</th>\n",
       "      <td>Bote 7</td>\n",
       "      <td>00:40</td>\n",
       "      <td>65</td>\n",
       "      <td>28</td>\n",
       "      <td>Estribor</td>\n",
       "      <td>Murdoch, Lowe</td>\n",
       "      <td>06:15</td>\n",
       "    </tr>\n",
       "    <tr>\n",
       "      <th>7</th>\n",
       "      <td>Bote 8</td>\n",
       "      <td>01:00</td>\n",
       "      <td>65</td>\n",
       "      <td>28</td>\n",
       "      <td>Babor</td>\n",
       "      <td>Lightoller, Wilde, Smith</td>\n",
       "      <td>07:30</td>\n",
       "    </tr>\n",
       "    <tr>\n",
       "      <th>8</th>\n",
       "      <td>Bote 9</td>\n",
       "      <td>01:30</td>\n",
       "      <td>65</td>\n",
       "      <td>42</td>\n",
       "      <td>Estribor</td>\n",
       "      <td>Murdoch, Moody</td>\n",
       "      <td>06:15</td>\n",
       "    </tr>\n",
       "    <tr>\n",
       "      <th>9</th>\n",
       "      <td>Bote 10</td>\n",
       "      <td>01:50</td>\n",
       "      <td>65</td>\n",
       "      <td>34</td>\n",
       "      <td>Babor</td>\n",
       "      <td>Murdoch</td>\n",
       "      <td>08:00</td>\n",
       "    </tr>\n",
       "    <tr>\n",
       "      <th>10</th>\n",
       "      <td>Bote 11</td>\n",
       "      <td>01:35</td>\n",
       "      <td>65</td>\n",
       "      <td>55</td>\n",
       "      <td>Estribor</td>\n",
       "      <td>Murdoch</td>\n",
       "      <td>07:00</td>\n",
       "    </tr>\n",
       "    <tr>\n",
       "      <th>11</th>\n",
       "      <td>Bote 12</td>\n",
       "      <td>01:30</td>\n",
       "      <td>65</td>\n",
       "      <td>40</td>\n",
       "      <td>Babor</td>\n",
       "      <td>Wilde, Lightoller</td>\n",
       "      <td>08:15</td>\n",
       "    </tr>\n",
       "    <tr>\n",
       "      <th>12</th>\n",
       "      <td>Bote 13</td>\n",
       "      <td>01:40</td>\n",
       "      <td>65</td>\n",
       "      <td>64</td>\n",
       "      <td>Estribor</td>\n",
       "      <td>Murdoch, Moody</td>\n",
       "      <td>06:30</td>\n",
       "    </tr>\n",
       "    <tr>\n",
       "      <th>13</th>\n",
       "      <td>Bote 14</td>\n",
       "      <td>01:25</td>\n",
       "      <td>65</td>\n",
       "      <td>40</td>\n",
       "      <td>Babor</td>\n",
       "      <td>Lowe, Wilde, Lightoller</td>\n",
       "      <td>07:15</td>\n",
       "    </tr>\n",
       "    <tr>\n",
       "      <th>14</th>\n",
       "      <td>Bote 15</td>\n",
       "      <td>01:40</td>\n",
       "      <td>65</td>\n",
       "      <td>65</td>\n",
       "      <td>Estribor</td>\n",
       "      <td>Murdoch, Moody</td>\n",
       "      <td>07:30</td>\n",
       "    </tr>\n",
       "    <tr>\n",
       "      <th>15</th>\n",
       "      <td>Bote 16</td>\n",
       "      <td>01:20</td>\n",
       "      <td>65</td>\n",
       "      <td>40</td>\n",
       "      <td>Babor</td>\n",
       "      <td>Moody</td>\n",
       "      <td>06:45</td>\n",
       "    </tr>\n",
       "    <tr>\n",
       "      <th>16</th>\n",
       "      <td>Bote A</td>\n",
       "      <td>02:15</td>\n",
       "      <td>47</td>\n",
       "      <td>20</td>\n",
       "      <td>Estribor</td>\n",
       "      <td>Murdoch, Moody</td>\n",
       "      <td>Abandonado a la deriva antes de 04:10</td>\n",
       "    </tr>\n",
       "    <tr>\n",
       "      <th>17</th>\n",
       "      <td>Bote B</td>\n",
       "      <td>02:15</td>\n",
       "      <td>47</td>\n",
       "      <td>30</td>\n",
       "      <td>Babor</td>\n",
       "      <td>Lightoller</td>\n",
       "      <td>Abandonado a la deriva antes de 04:10</td>\n",
       "    </tr>\n",
       "    <tr>\n",
       "      <th>18</th>\n",
       "      <td>Bote C</td>\n",
       "      <td>02:00</td>\n",
       "      <td>47</td>\n",
       "      <td>40</td>\n",
       "      <td>Estribor</td>\n",
       "      <td>Murdoch, Wilde</td>\n",
       "      <td>05:45</td>\n",
       "    </tr>\n",
       "    <tr>\n",
       "      <th>19</th>\n",
       "      <td>Bote D</td>\n",
       "      <td>02:05</td>\n",
       "      <td>47</td>\n",
       "      <td>24</td>\n",
       "      <td>Babor</td>\n",
       "      <td>Lightoller, Wilde</td>\n",
       "      <td>07:15</td>\n",
       "    </tr>\n",
       "  </tbody>\n",
       "</table>\n",
       "</div>"
      ],
      "text/plain": [
       "      Botes Hora del lanzamiento al mar[74]​  Capacidad  Contenido real  \\\n",
       "0    Bote 1                            01:05         40              12   \n",
       "1    Bote 2                            01:45         40              18   \n",
       "2    Bote 3                            00:55         65              32   \n",
       "3    Bote 4                            01:50         65              30   \n",
       "4    Bote 5                            00:43         65              35   \n",
       "5    Bote 6                            01:10         65              24   \n",
       "6    Bote 7                            00:40         65              28   \n",
       "7    Bote 8                            01:00         65              28   \n",
       "8    Bote 9                            01:30         65              42   \n",
       "9   Bote 10                            01:50         65              34   \n",
       "10  Bote 11                            01:35         65              55   \n",
       "11  Bote 12                            01:30         65              40   \n",
       "12  Bote 13                            01:40         65              64   \n",
       "13  Bote 14                            01:25         65              40   \n",
       "14  Bote 15                            01:40         65              65   \n",
       "15  Bote 16                            01:20         65              40   \n",
       "16   Bote A                            02:15         47              20   \n",
       "17   Bote B                            02:15         47              30   \n",
       "18   Bote C                            02:00         47              40   \n",
       "19   Bote D                            02:05         47              24   \n",
       "\n",
       "        Lado    Personal de asistencia Hora de recogida por el Carpathia[75]​  \n",
       "0   Estribor             Murdoch, Lowe                                  04:45  \n",
       "1      Babor              Wilde, Smith                                  04:10  \n",
       "2   Estribor             Murdoch, Lowe                                  07:30  \n",
       "3      Babor                Lightoller                                  08:00  \n",
       "4   Estribor     Murdoch, Lowe, Pitman                                  06:00  \n",
       "5      Babor         Lightoller, Smith                                  08:00  \n",
       "6   Estribor             Murdoch, Lowe                                  06:15  \n",
       "7      Babor  Lightoller, Wilde, Smith                                  07:30  \n",
       "8   Estribor            Murdoch, Moody                                  06:15  \n",
       "9      Babor                   Murdoch                                  08:00  \n",
       "10  Estribor                   Murdoch                                  07:00  \n",
       "11     Babor         Wilde, Lightoller                                  08:15  \n",
       "12  Estribor            Murdoch, Moody                                  06:30  \n",
       "13     Babor   Lowe, Wilde, Lightoller                                  07:15  \n",
       "14  Estribor            Murdoch, Moody                                  07:30  \n",
       "15     Babor                     Moody                                  06:45  \n",
       "16  Estribor            Murdoch, Moody  Abandonado a la deriva antes de 04:10  \n",
       "17     Babor                Lightoller  Abandonado a la deriva antes de 04:10  \n",
       "18  Estribor            Murdoch, Wilde                                  05:45  \n",
       "19     Babor         Lightoller, Wilde                                  07:15  "
      ]
     },
     "execution_count": 39,
     "metadata": {},
     "output_type": "execute_result"
    }
   ],
   "source": [
    "#vamos a quitarnos la fila del total\n",
    "\n",
    "tabla = tabla.drop(tabla.index[20])\n",
    "\n",
    "tabla\n"
   ]
  },
  {
   "cell_type": "markdown",
   "metadata": {},
   "source": [
    "<font color = 'Lightcyan'> ¿Cuantos botes se tiraron en total y cuantas personas consiguieron subirse?"
   ]
  },
  {
   "cell_type": "code",
   "execution_count": 40,
   "metadata": {},
   "outputs": [
    {
     "name": "stdout",
     "output_type": "stream",
     "text": [
      "Se tiraron un total de 20 botes y consiguieron subirse un total de 701 personas\n"
     ]
    }
   ],
   "source": [
    "num_botes = tabla['Botes'].value_counts().sum()\n",
    "num_personas_botes = tabla['Contenido real'].sum()\n",
    "print('Se tiraron un total de', num_botes, 'botes y consiguieron subirse un total de', num_personas_botes, 'personas')\n"
   ]
  },
  {
   "cell_type": "markdown",
   "metadata": {},
   "source": [
    "<font color = 'Lightcyan'> ¿Cuanto fue el tiempo medio que estuvieron los botes en el mar hasta que los recogieron?"
   ]
  },
  {
   "cell_type": "code",
   "execution_count": 41,
   "metadata": {},
   "outputs": [
    {
     "data": {
      "text/html": [
       "<div>\n",
       "<style scoped>\n",
       "    .dataframe tbody tr th:only-of-type {\n",
       "        vertical-align: middle;\n",
       "    }\n",
       "\n",
       "    .dataframe tbody tr th {\n",
       "        vertical-align: top;\n",
       "    }\n",
       "\n",
       "    .dataframe thead th {\n",
       "        text-align: right;\n",
       "    }\n",
       "</style>\n",
       "<table border=\"1\" class=\"dataframe\">\n",
       "  <thead>\n",
       "    <tr style=\"text-align: right;\">\n",
       "      <th></th>\n",
       "      <th>Botes</th>\n",
       "      <th>Hora del lanzamiento al mar[74]​</th>\n",
       "      <th>Capacidad</th>\n",
       "      <th>Contenido real</th>\n",
       "      <th>Lado</th>\n",
       "      <th>Personal de asistencia</th>\n",
       "      <th>Hora de recogida por el Carpathia[75]​</th>\n",
       "    </tr>\n",
       "  </thead>\n",
       "  <tbody>\n",
       "    <tr>\n",
       "      <th>0</th>\n",
       "      <td>Bote 1</td>\n",
       "      <td>01:05</td>\n",
       "      <td>40</td>\n",
       "      <td>12</td>\n",
       "      <td>Estribor</td>\n",
       "      <td>Murdoch, Lowe</td>\n",
       "      <td>04:45</td>\n",
       "    </tr>\n",
       "    <tr>\n",
       "      <th>1</th>\n",
       "      <td>Bote 2</td>\n",
       "      <td>01:45</td>\n",
       "      <td>40</td>\n",
       "      <td>18</td>\n",
       "      <td>Babor</td>\n",
       "      <td>Wilde, Smith</td>\n",
       "      <td>04:10</td>\n",
       "    </tr>\n",
       "    <tr>\n",
       "      <th>2</th>\n",
       "      <td>Bote 3</td>\n",
       "      <td>00:55</td>\n",
       "      <td>65</td>\n",
       "      <td>32</td>\n",
       "      <td>Estribor</td>\n",
       "      <td>Murdoch, Lowe</td>\n",
       "      <td>07:30</td>\n",
       "    </tr>\n",
       "    <tr>\n",
       "      <th>3</th>\n",
       "      <td>Bote 4</td>\n",
       "      <td>01:50</td>\n",
       "      <td>65</td>\n",
       "      <td>30</td>\n",
       "      <td>Babor</td>\n",
       "      <td>Lightoller</td>\n",
       "      <td>08:00</td>\n",
       "    </tr>\n",
       "    <tr>\n",
       "      <th>4</th>\n",
       "      <td>Bote 5</td>\n",
       "      <td>00:43</td>\n",
       "      <td>65</td>\n",
       "      <td>35</td>\n",
       "      <td>Estribor</td>\n",
       "      <td>Murdoch, Lowe, Pitman</td>\n",
       "      <td>06:00</td>\n",
       "    </tr>\n",
       "    <tr>\n",
       "      <th>5</th>\n",
       "      <td>Bote 6</td>\n",
       "      <td>01:10</td>\n",
       "      <td>65</td>\n",
       "      <td>24</td>\n",
       "      <td>Babor</td>\n",
       "      <td>Lightoller, Smith</td>\n",
       "      <td>08:00</td>\n",
       "    </tr>\n",
       "    <tr>\n",
       "      <th>6</th>\n",
       "      <td>Bote 7</td>\n",
       "      <td>00:40</td>\n",
       "      <td>65</td>\n",
       "      <td>28</td>\n",
       "      <td>Estribor</td>\n",
       "      <td>Murdoch, Lowe</td>\n",
       "      <td>06:15</td>\n",
       "    </tr>\n",
       "    <tr>\n",
       "      <th>7</th>\n",
       "      <td>Bote 8</td>\n",
       "      <td>01:00</td>\n",
       "      <td>65</td>\n",
       "      <td>28</td>\n",
       "      <td>Babor</td>\n",
       "      <td>Lightoller, Wilde, Smith</td>\n",
       "      <td>07:30</td>\n",
       "    </tr>\n",
       "    <tr>\n",
       "      <th>8</th>\n",
       "      <td>Bote 9</td>\n",
       "      <td>01:30</td>\n",
       "      <td>65</td>\n",
       "      <td>42</td>\n",
       "      <td>Estribor</td>\n",
       "      <td>Murdoch, Moody</td>\n",
       "      <td>06:15</td>\n",
       "    </tr>\n",
       "    <tr>\n",
       "      <th>9</th>\n",
       "      <td>Bote 10</td>\n",
       "      <td>01:50</td>\n",
       "      <td>65</td>\n",
       "      <td>34</td>\n",
       "      <td>Babor</td>\n",
       "      <td>Murdoch</td>\n",
       "      <td>08:00</td>\n",
       "    </tr>\n",
       "    <tr>\n",
       "      <th>10</th>\n",
       "      <td>Bote 11</td>\n",
       "      <td>01:35</td>\n",
       "      <td>65</td>\n",
       "      <td>55</td>\n",
       "      <td>Estribor</td>\n",
       "      <td>Murdoch</td>\n",
       "      <td>07:00</td>\n",
       "    </tr>\n",
       "    <tr>\n",
       "      <th>11</th>\n",
       "      <td>Bote 12</td>\n",
       "      <td>01:30</td>\n",
       "      <td>65</td>\n",
       "      <td>40</td>\n",
       "      <td>Babor</td>\n",
       "      <td>Wilde, Lightoller</td>\n",
       "      <td>08:15</td>\n",
       "    </tr>\n",
       "    <tr>\n",
       "      <th>12</th>\n",
       "      <td>Bote 13</td>\n",
       "      <td>01:40</td>\n",
       "      <td>65</td>\n",
       "      <td>64</td>\n",
       "      <td>Estribor</td>\n",
       "      <td>Murdoch, Moody</td>\n",
       "      <td>06:30</td>\n",
       "    </tr>\n",
       "    <tr>\n",
       "      <th>13</th>\n",
       "      <td>Bote 14</td>\n",
       "      <td>01:25</td>\n",
       "      <td>65</td>\n",
       "      <td>40</td>\n",
       "      <td>Babor</td>\n",
       "      <td>Lowe, Wilde, Lightoller</td>\n",
       "      <td>07:15</td>\n",
       "    </tr>\n",
       "    <tr>\n",
       "      <th>14</th>\n",
       "      <td>Bote 15</td>\n",
       "      <td>01:40</td>\n",
       "      <td>65</td>\n",
       "      <td>65</td>\n",
       "      <td>Estribor</td>\n",
       "      <td>Murdoch, Moody</td>\n",
       "      <td>07:30</td>\n",
       "    </tr>\n",
       "    <tr>\n",
       "      <th>15</th>\n",
       "      <td>Bote 16</td>\n",
       "      <td>01:20</td>\n",
       "      <td>65</td>\n",
       "      <td>40</td>\n",
       "      <td>Babor</td>\n",
       "      <td>Moody</td>\n",
       "      <td>06:45</td>\n",
       "    </tr>\n",
       "    <tr>\n",
       "      <th>16</th>\n",
       "      <td>Bote A</td>\n",
       "      <td>02:15</td>\n",
       "      <td>47</td>\n",
       "      <td>20</td>\n",
       "      <td>Estribor</td>\n",
       "      <td>Murdoch, Moody</td>\n",
       "      <td>Abandonado a la deriva antes de 04:10</td>\n",
       "    </tr>\n",
       "    <tr>\n",
       "      <th>17</th>\n",
       "      <td>Bote B</td>\n",
       "      <td>02:15</td>\n",
       "      <td>47</td>\n",
       "      <td>30</td>\n",
       "      <td>Babor</td>\n",
       "      <td>Lightoller</td>\n",
       "      <td>Abandonado a la deriva antes de 04:10</td>\n",
       "    </tr>\n",
       "    <tr>\n",
       "      <th>18</th>\n",
       "      <td>Bote C</td>\n",
       "      <td>02:00</td>\n",
       "      <td>47</td>\n",
       "      <td>40</td>\n",
       "      <td>Estribor</td>\n",
       "      <td>Murdoch, Wilde</td>\n",
       "      <td>05:45</td>\n",
       "    </tr>\n",
       "    <tr>\n",
       "      <th>19</th>\n",
       "      <td>Bote D</td>\n",
       "      <td>02:05</td>\n",
       "      <td>47</td>\n",
       "      <td>24</td>\n",
       "      <td>Babor</td>\n",
       "      <td>Lightoller, Wilde</td>\n",
       "      <td>07:15</td>\n",
       "    </tr>\n",
       "  </tbody>\n",
       "</table>\n",
       "</div>"
      ],
      "text/plain": [
       "      Botes Hora del lanzamiento al mar[74]​  Capacidad  Contenido real  \\\n",
       "0    Bote 1                            01:05         40              12   \n",
       "1    Bote 2                            01:45         40              18   \n",
       "2    Bote 3                            00:55         65              32   \n",
       "3    Bote 4                            01:50         65              30   \n",
       "4    Bote 5                            00:43         65              35   \n",
       "5    Bote 6                            01:10         65              24   \n",
       "6    Bote 7                            00:40         65              28   \n",
       "7    Bote 8                            01:00         65              28   \n",
       "8    Bote 9                            01:30         65              42   \n",
       "9   Bote 10                            01:50         65              34   \n",
       "10  Bote 11                            01:35         65              55   \n",
       "11  Bote 12                            01:30         65              40   \n",
       "12  Bote 13                            01:40         65              64   \n",
       "13  Bote 14                            01:25         65              40   \n",
       "14  Bote 15                            01:40         65              65   \n",
       "15  Bote 16                            01:20         65              40   \n",
       "16   Bote A                            02:15         47              20   \n",
       "17   Bote B                            02:15         47              30   \n",
       "18   Bote C                            02:00         47              40   \n",
       "19   Bote D                            02:05         47              24   \n",
       "\n",
       "        Lado    Personal de asistencia Hora de recogida por el Carpathia[75]​  \n",
       "0   Estribor             Murdoch, Lowe                                  04:45  \n",
       "1      Babor              Wilde, Smith                                  04:10  \n",
       "2   Estribor             Murdoch, Lowe                                  07:30  \n",
       "3      Babor                Lightoller                                  08:00  \n",
       "4   Estribor     Murdoch, Lowe, Pitman                                  06:00  \n",
       "5      Babor         Lightoller, Smith                                  08:00  \n",
       "6   Estribor             Murdoch, Lowe                                  06:15  \n",
       "7      Babor  Lightoller, Wilde, Smith                                  07:30  \n",
       "8   Estribor            Murdoch, Moody                                  06:15  \n",
       "9      Babor                   Murdoch                                  08:00  \n",
       "10  Estribor                   Murdoch                                  07:00  \n",
       "11     Babor         Wilde, Lightoller                                  08:15  \n",
       "12  Estribor            Murdoch, Moody                                  06:30  \n",
       "13     Babor   Lowe, Wilde, Lightoller                                  07:15  \n",
       "14  Estribor            Murdoch, Moody                                  07:30  \n",
       "15     Babor                     Moody                                  06:45  \n",
       "16  Estribor            Murdoch, Moody  Abandonado a la deriva antes de 04:10  \n",
       "17     Babor                Lightoller  Abandonado a la deriva antes de 04:10  \n",
       "18  Estribor            Murdoch, Wilde                                  05:45  \n",
       "19     Babor         Lightoller, Wilde                                  07:15  "
      ]
     },
     "execution_count": 41,
     "metadata": {},
     "output_type": "execute_result"
    }
   ],
   "source": [
    "tabla"
   ]
  },
  {
   "cell_type": "code",
   "execution_count": 42,
   "metadata": {},
   "outputs": [
    {
     "data": {
      "text/html": [
       "<div>\n",
       "<style scoped>\n",
       "    .dataframe tbody tr th:only-of-type {\n",
       "        vertical-align: middle;\n",
       "    }\n",
       "\n",
       "    .dataframe tbody tr th {\n",
       "        vertical-align: top;\n",
       "    }\n",
       "\n",
       "    .dataframe thead th {\n",
       "        text-align: right;\n",
       "    }\n",
       "</style>\n",
       "<table border=\"1\" class=\"dataframe\">\n",
       "  <thead>\n",
       "    <tr style=\"text-align: right;\">\n",
       "      <th></th>\n",
       "      <th>Botes</th>\n",
       "      <th>Hora del lanzamiento al mar[74]​</th>\n",
       "      <th>Capacidad</th>\n",
       "      <th>Contenido real</th>\n",
       "      <th>Lado</th>\n",
       "      <th>Personal de asistencia</th>\n",
       "      <th>Hora de recogida por el Carpathia[75]​</th>\n",
       "    </tr>\n",
       "  </thead>\n",
       "  <tbody>\n",
       "    <tr>\n",
       "      <th>0</th>\n",
       "      <td>Bote 1</td>\n",
       "      <td>01:05</td>\n",
       "      <td>40</td>\n",
       "      <td>12</td>\n",
       "      <td>Estribor</td>\n",
       "      <td>Murdoch, Lowe</td>\n",
       "      <td>04:45</td>\n",
       "    </tr>\n",
       "    <tr>\n",
       "      <th>1</th>\n",
       "      <td>Bote 2</td>\n",
       "      <td>01:45</td>\n",
       "      <td>40</td>\n",
       "      <td>18</td>\n",
       "      <td>Babor</td>\n",
       "      <td>Wilde, Smith</td>\n",
       "      <td>04:10</td>\n",
       "    </tr>\n",
       "    <tr>\n",
       "      <th>2</th>\n",
       "      <td>Bote 3</td>\n",
       "      <td>00:55</td>\n",
       "      <td>65</td>\n",
       "      <td>32</td>\n",
       "      <td>Estribor</td>\n",
       "      <td>Murdoch, Lowe</td>\n",
       "      <td>07:30</td>\n",
       "    </tr>\n",
       "    <tr>\n",
       "      <th>3</th>\n",
       "      <td>Bote 4</td>\n",
       "      <td>01:50</td>\n",
       "      <td>65</td>\n",
       "      <td>30</td>\n",
       "      <td>Babor</td>\n",
       "      <td>Lightoller</td>\n",
       "      <td>08:00</td>\n",
       "    </tr>\n",
       "    <tr>\n",
       "      <th>4</th>\n",
       "      <td>Bote 5</td>\n",
       "      <td>00:43</td>\n",
       "      <td>65</td>\n",
       "      <td>35</td>\n",
       "      <td>Estribor</td>\n",
       "      <td>Murdoch, Lowe, Pitman</td>\n",
       "      <td>06:00</td>\n",
       "    </tr>\n",
       "    <tr>\n",
       "      <th>5</th>\n",
       "      <td>Bote 6</td>\n",
       "      <td>01:10</td>\n",
       "      <td>65</td>\n",
       "      <td>24</td>\n",
       "      <td>Babor</td>\n",
       "      <td>Lightoller, Smith</td>\n",
       "      <td>08:00</td>\n",
       "    </tr>\n",
       "    <tr>\n",
       "      <th>6</th>\n",
       "      <td>Bote 7</td>\n",
       "      <td>00:40</td>\n",
       "      <td>65</td>\n",
       "      <td>28</td>\n",
       "      <td>Estribor</td>\n",
       "      <td>Murdoch, Lowe</td>\n",
       "      <td>06:15</td>\n",
       "    </tr>\n",
       "    <tr>\n",
       "      <th>7</th>\n",
       "      <td>Bote 8</td>\n",
       "      <td>01:00</td>\n",
       "      <td>65</td>\n",
       "      <td>28</td>\n",
       "      <td>Babor</td>\n",
       "      <td>Lightoller, Wilde, Smith</td>\n",
       "      <td>07:30</td>\n",
       "    </tr>\n",
       "    <tr>\n",
       "      <th>8</th>\n",
       "      <td>Bote 9</td>\n",
       "      <td>01:30</td>\n",
       "      <td>65</td>\n",
       "      <td>42</td>\n",
       "      <td>Estribor</td>\n",
       "      <td>Murdoch, Moody</td>\n",
       "      <td>06:15</td>\n",
       "    </tr>\n",
       "    <tr>\n",
       "      <th>9</th>\n",
       "      <td>Bote 10</td>\n",
       "      <td>01:50</td>\n",
       "      <td>65</td>\n",
       "      <td>34</td>\n",
       "      <td>Babor</td>\n",
       "      <td>Murdoch</td>\n",
       "      <td>08:00</td>\n",
       "    </tr>\n",
       "    <tr>\n",
       "      <th>10</th>\n",
       "      <td>Bote 11</td>\n",
       "      <td>01:35</td>\n",
       "      <td>65</td>\n",
       "      <td>55</td>\n",
       "      <td>Estribor</td>\n",
       "      <td>Murdoch</td>\n",
       "      <td>07:00</td>\n",
       "    </tr>\n",
       "    <tr>\n",
       "      <th>11</th>\n",
       "      <td>Bote 12</td>\n",
       "      <td>01:30</td>\n",
       "      <td>65</td>\n",
       "      <td>40</td>\n",
       "      <td>Babor</td>\n",
       "      <td>Wilde, Lightoller</td>\n",
       "      <td>08:15</td>\n",
       "    </tr>\n",
       "    <tr>\n",
       "      <th>12</th>\n",
       "      <td>Bote 13</td>\n",
       "      <td>01:40</td>\n",
       "      <td>65</td>\n",
       "      <td>64</td>\n",
       "      <td>Estribor</td>\n",
       "      <td>Murdoch, Moody</td>\n",
       "      <td>06:30</td>\n",
       "    </tr>\n",
       "    <tr>\n",
       "      <th>13</th>\n",
       "      <td>Bote 14</td>\n",
       "      <td>01:25</td>\n",
       "      <td>65</td>\n",
       "      <td>40</td>\n",
       "      <td>Babor</td>\n",
       "      <td>Lowe, Wilde, Lightoller</td>\n",
       "      <td>07:15</td>\n",
       "    </tr>\n",
       "    <tr>\n",
       "      <th>14</th>\n",
       "      <td>Bote 15</td>\n",
       "      <td>01:40</td>\n",
       "      <td>65</td>\n",
       "      <td>65</td>\n",
       "      <td>Estribor</td>\n",
       "      <td>Murdoch, Moody</td>\n",
       "      <td>07:30</td>\n",
       "    </tr>\n",
       "    <tr>\n",
       "      <th>15</th>\n",
       "      <td>Bote 16</td>\n",
       "      <td>01:20</td>\n",
       "      <td>65</td>\n",
       "      <td>40</td>\n",
       "      <td>Babor</td>\n",
       "      <td>Moody</td>\n",
       "      <td>06:45</td>\n",
       "    </tr>\n",
       "    <tr>\n",
       "      <th>18</th>\n",
       "      <td>Bote C</td>\n",
       "      <td>02:00</td>\n",
       "      <td>47</td>\n",
       "      <td>40</td>\n",
       "      <td>Estribor</td>\n",
       "      <td>Murdoch, Wilde</td>\n",
       "      <td>05:45</td>\n",
       "    </tr>\n",
       "    <tr>\n",
       "      <th>19</th>\n",
       "      <td>Bote D</td>\n",
       "      <td>02:05</td>\n",
       "      <td>47</td>\n",
       "      <td>24</td>\n",
       "      <td>Babor</td>\n",
       "      <td>Lightoller, Wilde</td>\n",
       "      <td>07:15</td>\n",
       "    </tr>\n",
       "  </tbody>\n",
       "</table>\n",
       "</div>"
      ],
      "text/plain": [
       "      Botes Hora del lanzamiento al mar[74]​  Capacidad  Contenido real  \\\n",
       "0    Bote 1                            01:05         40              12   \n",
       "1    Bote 2                            01:45         40              18   \n",
       "2    Bote 3                            00:55         65              32   \n",
       "3    Bote 4                            01:50         65              30   \n",
       "4    Bote 5                            00:43         65              35   \n",
       "5    Bote 6                            01:10         65              24   \n",
       "6    Bote 7                            00:40         65              28   \n",
       "7    Bote 8                            01:00         65              28   \n",
       "8    Bote 9                            01:30         65              42   \n",
       "9   Bote 10                            01:50         65              34   \n",
       "10  Bote 11                            01:35         65              55   \n",
       "11  Bote 12                            01:30         65              40   \n",
       "12  Bote 13                            01:40         65              64   \n",
       "13  Bote 14                            01:25         65              40   \n",
       "14  Bote 15                            01:40         65              65   \n",
       "15  Bote 16                            01:20         65              40   \n",
       "18   Bote C                            02:00         47              40   \n",
       "19   Bote D                            02:05         47              24   \n",
       "\n",
       "        Lado    Personal de asistencia Hora de recogida por el Carpathia[75]​  \n",
       "0   Estribor             Murdoch, Lowe                                  04:45  \n",
       "1      Babor              Wilde, Smith                                  04:10  \n",
       "2   Estribor             Murdoch, Lowe                                  07:30  \n",
       "3      Babor                Lightoller                                  08:00  \n",
       "4   Estribor     Murdoch, Lowe, Pitman                                  06:00  \n",
       "5      Babor         Lightoller, Smith                                  08:00  \n",
       "6   Estribor             Murdoch, Lowe                                  06:15  \n",
       "7      Babor  Lightoller, Wilde, Smith                                  07:30  \n",
       "8   Estribor            Murdoch, Moody                                  06:15  \n",
       "9      Babor                   Murdoch                                  08:00  \n",
       "10  Estribor                   Murdoch                                  07:00  \n",
       "11     Babor         Wilde, Lightoller                                  08:15  \n",
       "12  Estribor            Murdoch, Moody                                  06:30  \n",
       "13     Babor   Lowe, Wilde, Lightoller                                  07:15  \n",
       "14  Estribor            Murdoch, Moody                                  07:30  \n",
       "15     Babor                     Moody                                  06:45  \n",
       "18  Estribor            Murdoch, Wilde                                  05:45  \n",
       "19     Babor         Lightoller, Wilde                                  07:15  "
      ]
     },
     "execution_count": 42,
     "metadata": {},
     "output_type": "execute_result"
    }
   ],
   "source": [
    "#Quitamos los botes que fueron abandonados.\n",
    "\n",
    "tabla = tabla.drop(tabla.index[16])\n",
    "\n",
    "tabla = tabla.drop(tabla.index[16])\n",
    "\n",
    "tabla"
   ]
  },
  {
   "cell_type": "code",
   "execution_count": 43,
   "metadata": {},
   "outputs": [
    {
     "data": {
      "text/plain": [
       "Botes                                     object\n",
       "Hora del lanzamiento al mar[74]​          object\n",
       "Capacidad                                  int64\n",
       "Contenido real                             int64\n",
       "Lado                                      object\n",
       "Personal de asistencia                    object\n",
       "Hora de recogida por el Carpathia[75]​    object\n",
       "dtype: object"
      ]
     },
     "execution_count": 43,
     "metadata": {},
     "output_type": "execute_result"
    }
   ],
   "source": [
    "\"\"\"\n",
    "Primero vamos a ver de qué tipo son los datos 'Hora de lanzamiento' y 'Hora de recogida'.\n",
    "\n",
    "\"\"\"\n",
    "tabla.dtypes"
   ]
  },
  {
   "cell_type": "code",
   "execution_count": 44,
   "metadata": {},
   "outputs": [
    {
     "data": {
      "text/plain": [
       "Botes                                             object\n",
       "Hora del lanzamiento al mar[74]​          datetime64[ns]\n",
       "Capacidad                                          int64\n",
       "Contenido real                                     int64\n",
       "Lado                                              object\n",
       "Personal de asistencia                            object\n",
       "Hora de recogida por el Carpathia[75]​    datetime64[ns]\n",
       "dtype: object"
      ]
     },
     "execution_count": 44,
     "metadata": {},
     "output_type": "execute_result"
    }
   ],
   "source": [
    "\"\"\"\n",
    "Para sacar el tiempo medio, haremos los siguientes pasos:\n",
    "1. Transformar las columnas 'Hora del lanzamiento al mar' y 'Hora de recogida por el Carpathia' a datetime.\n",
    "2. Sacaremos la media de cada columna.\n",
    "3. El tiempo medio será la diferencia entre ambas medias sacadas anteriormente.\n",
    "\n",
    "\"\"\"\n",
    "\n",
    "\"\"\"\n",
    "Para transformar las columnas a datetime, se han visto una serie de problemas debido a que contienen caracteres especiales y no podiamos acceder a la columna.\n",
    "Se ha intentado renombrar las columnas quitando los caracteres especiales y tambien empleando el codigo replace para sustituir los caracteres especiales por \"\".\n",
    "Aun así, no ha dado resultados.\n",
    "\"\"\"\n",
    "\"\"\"\n",
    "Se ha consultado alguna otra manera de poder acceder a dicha columna para hacer la conversión a datetime, y la manera más efectiva es a través de un bucle.\n",
    "Una vez accedemos a la columna, ya podemos transformarla.\n",
    "\"\"\"\n",
    "\n",
    "\n",
    "#guardamos nuestras columnas en una variable:\n",
    "\n",
    "nombres_columnas = tabla.columns\n",
    "\n",
    "#bucle for:\n",
    "\n",
    "for nombre in nombres_columnas: #para cada nombre dentro mis columnas\n",
    "    if '[74]' in nombre or '[75]' in nombre: #si el str. [74] o el str. [75] está en el nombre\n",
    "       tabla[nombre] = pd.to_datetime(tabla[nombre], format='%H:%M') #hazme el cambio a datetime.\n",
    "\n",
    "tabla.dtypes"
   ]
  },
  {
   "cell_type": "code",
   "execution_count": 45,
   "metadata": {},
   "outputs": [
    {
     "data": {
      "text/plain": [
       "Timestamp('1900-01-01 01:25:43.333333760')"
      ]
     },
     "execution_count": 45,
     "metadata": {},
     "output_type": "execute_result"
    }
   ],
   "source": [
    "\"\"\"\n",
    "Para calcular las diferencias de tiempo, tambien tenemos que acceder a las columnas que estan dando problemas, por lo que volveremos a utilizar un bucle for.\n",
    "\n",
    "\"\"\"\n",
    "\n",
    "#calculamos la hora media de lanzamiento:\n",
    "\n",
    "nombres_columnas = tabla.columns\n",
    "\n",
    "for nombre in nombres_columnas:\n",
    "    if '[74]' in nombre:\n",
    "        media_lanzamiento = tabla[nombre].mean()\n",
    "\n",
    "media_lanzamiento"
   ]
  },
  {
   "cell_type": "markdown",
   "metadata": {},
   "source": [
    "<font color = 'Cadetblue'> La hora media de lanzamiento fue a la 01:25."
   ]
  },
  {
   "cell_type": "code",
   "execution_count": 46,
   "metadata": {},
   "outputs": [
    {
     "data": {
      "text/plain": [
       "Timestamp('1900-01-01 06:48:53.333333248')"
      ]
     },
     "execution_count": 46,
     "metadata": {},
     "output_type": "execute_result"
    }
   ],
   "source": [
    "nombres_columnas = tabla.columns\n",
    "\n",
    "for nombre in nombres_columnas:\n",
    "    if '[75]' in nombre:\n",
    "        media_recogida = tabla[nombre].mean()\n",
    "\n",
    "media_recogida"
   ]
  },
  {
   "cell_type": "markdown",
   "metadata": {},
   "source": [
    "<font color = 'Cadetblue'> La hora media de recogida fue a las 06:48"
   ]
  },
  {
   "cell_type": "code",
   "execution_count": 47,
   "metadata": {},
   "outputs": [
    {
     "name": "stdout",
     "output_type": "stream",
     "text": [
      "Los botes estuvieron de media: 0 days 05:23:09.999999488 horas en el mar\n"
     ]
    }
   ],
   "source": [
    "#Ahora restamos ambas horas medias para obtener el numero de horas medio que estuvieron los botes en el mar:\n",
    "\n",
    "medias_dif = media_recogida - media_lanzamiento\n",
    "\n",
    "medias_dif\n",
    "\n",
    "print('Los botes estuvieron de media:', medias_dif, 'horas en el mar')"
   ]
  },
  {
   "cell_type": "markdown",
   "metadata": {},
   "source": [
    "<font color = 'Cadetblue'> Los botes estuvieron de media 05:23 horas en el mar"
   ]
  },
  {
   "cell_type": "markdown",
   "metadata": {},
   "source": [
    "## <font color = 'Lightcyan'> Conclusiones"
   ]
  },
  {
   "cell_type": "markdown",
   "metadata": {},
   "source": [
    "____________________________________________________________________________________________________________________________________________________________________________________________________________"
   ]
  },
  {
   "cell_type": "markdown",
   "metadata": {},
   "source": [
    "<font color = 'Lightcyan'>\n",
    "\n",
    "1. En cuanto a la limpieza de valores nulos, se han considerado aceptables aquellos que se encuentran en las columnas 'Embarked' y 'Cabin', asumiendo que, en aquellos cassos en los que se presenta un NaN, significa que la persona no embarcó o no compró un billete que incluía camarote, respectivamente. Para la variable 'Age', se ha decidido sustituir los valores nulos por 0, de cara a no alterar significativamente la información del fichero.\n",
    "\n",
    "\n",
    "2. Los análisis sobre la edad, el nº de fallecidos y supervivientes y el de género, se han hecho considerando unicamente a los pasajeros afectados, esto es, los que embarcaron.\n",
    "\n",
    "3. El análisis de los precios de los billetes se ha realizado considerando toda la muestra.\n",
    "\n",
    "4. Análisis sobre la edad: se ha observado que existe una diferencia muy pequeña entre los resultados de los dos analisis realizados (excluyendo los valores = 0 vs. incluyendo la media en los valores = 0). Seguramente esto se deba a que la variable cuenta con muy pocos valores atípicos, concentrando la mayor parte de sus valores en el ranto 15-35 años.\n",
    "\n",
    "5. Análisis sobre los precios:\n",
    "    - Se ha observado que la variable 'Fare' presenta una alta cantidad de outliers, por lo que el precio medio se ha calculado con la mediana. Es probable que esto se deba a las grandes diferencias que se presentaron en cuanto a los diferentes status economicos que habia en los pasajeros.\n",
    "\n",
    "    - Existe una alta diferencia entre la demanda de billetes de la clase 3 con cabina vs. sin cabina.\n",
    "\n",
    "    - El precio medio del billete de la clase 2 con camarote resulta mas barato que sin incluir camarote. Esto se debe a la presencia de dos outliers positivos que, aunque se haya utilizado la mediana, quedan muy alejados del resto de valores y, por tanto, afectan al calculo de esta.\n",
    "\n",
    "    - Se ha observado que las personas más mayores tienden a comprar billetes ligeramente más caros.\n",
    "\n",
    "6. Análisis supervivientes vs. fallecidos:\n",
    "\n",
    "    - De las 889 personas que embarcaron, se ha obtenido un total de 340 personas que sobrevivieron y 559 fallecieron.\n",
    "\n",
    "    - De las personas fallecidas, 175 contaban con algún familiar a bordo y, de las que sobrevivieron, 179.\n",
    "\n",
    "7. Análisis de género:\n",
    "\n",
    "    - Existian menos mujeres que hombres a bordo y, en proporcion, murieron más hombres que mujeres. Esto quiere decir que se dio prioridad a las mujeres vs. a los hombres a la hora de la evacuacion.\n",
    "    \n",
    "8. Analisis adicional:\n",
    "\n",
    "    - Se ha observado que, de las 889 personas que había a bordo, 701 personas subieron en 20 botes diferentes. Si relacionamos esto con el analisis anterior, vemos que de esas 701 personas que consiguieron subir a un bote, 340 sobrevivieron, es decir, aproximadamente la mitad murieron en los botes.\n",
    "    \n",
    "    - Se ha calculado que el tiempo medio que estuvieron los botes en el mar hasta que se recogieron, fue de 5h 23min."
   ]
  }
 ],
 "metadata": {
  "kernelspec": {
   "display_name": "Python 3",
   "language": "python",
   "name": "python3"
  },
  "language_info": {
   "codemirror_mode": {
    "name": "ipython",
    "version": 3
   },
   "file_extension": ".py",
   "mimetype": "text/x-python",
   "name": "python",
   "nbconvert_exporter": "python",
   "pygments_lexer": "ipython3",
   "version": "3.11.5"
  }
 },
 "nbformat": 4,
 "nbformat_minor": 2
}
